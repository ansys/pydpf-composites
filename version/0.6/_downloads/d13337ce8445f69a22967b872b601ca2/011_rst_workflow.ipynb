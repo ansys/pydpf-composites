{
  "cells": [
    {
      "cell_type": "markdown",
      "metadata": {},
      "source": [
        "Failure analysis of an MAPDL (RST) model {#rst_workflow_example}\n========================================\n\nThis example shows the postprocessing of an MAPDL (RST) model with\nlayered elements that was not preprocessed by ACP. The difference\nbetween the RST-only and ACP-based workflow is that the section data are\nloaded from the RST file instead of the ACP layup file. This happens\nautomatically if the parameter [composite]{.title-ref} of the\n`.ContinuousFiberCompositesFiles`{.interpreted-text role=\"class\"} class\nis not set.\n\nThe engineering data file (XML or ENGD) with the material properties is\nneeded anyway. Otherwise, the material properties cannot be mapped. At\nthe end of this example, two workflows are shown on how to create the\nengineering data file based on a MAPDL model and how to set the material\nUUIDs in MAPDL.\n\n::: {.important}\n::: {.title}\nImportant\n:::\n\nThe material UUIDs in the engineering data file must be identical to the\nUUIDs in Mechanical APDL (RST file).\n:::\n\nThe postprocessing of MAPDL models is supported in 2024 R2 (DPF Server\nversion 8.0) and later. A few advanced features are not supported with\nthe RST only workflow. For more information, see\n`limitations`{.interpreted-text role=\"ref\"}.\n"
      ]
    },
    {
      "cell_type": "markdown",
      "metadata": {},
      "source": [
        "Set up analysis\n===============\n\nSetting up the analysis consists of loading Ansys libraries, connecting\nto the DPF server, and retrieving the example files.\n\nLoad Ansys libraries.\n"
      ]
    },
    {
      "cell_type": "code",
      "execution_count": null,
      "metadata": {
        "collapsed": false
      },
      "outputs": [],
      "source": [
        "from ansys.dpf.composites.composite_model import CompositeModel\nfrom ansys.dpf.composites.constants import FailureOutput\nfrom ansys.dpf.composites.example_helper import get_continuous_fiber_example_files\nfrom ansys.dpf.composites.failure_criteria import (\n    CombinedFailureCriterion,\n    CoreFailureCriterion,\n    FaceSheetWrinklingCriterion,\n    MaxStrainCriterion,\n    MaxStressCriterion,\n    VonMisesCriterion,\n)\nfrom ansys.dpf.composites.server_helpers import connect_to_or_start_server"
      ]
    },
    {
      "cell_type": "markdown",
      "metadata": {},
      "source": [
        "Start a DPF server and copy the example files into the current working\ndirectory.\n"
      ]
    },
    {
      "cell_type": "code",
      "execution_count": null,
      "metadata": {
        "collapsed": false
      },
      "outputs": [],
      "source": [
        "server = connect_to_or_start_server()"
      ]
    },
    {
      "cell_type": "markdown",
      "metadata": {},
      "source": [
        "Get input files (RST and material.engd but skip the ACP layup file).\n"
      ]
    },
    {
      "cell_type": "code",
      "execution_count": null,
      "metadata": {
        "collapsed": false
      },
      "outputs": [],
      "source": [
        "composite_files_on_server = get_continuous_fiber_example_files(server, \"shell\", True)\nprint(composite_files_on_server)"
      ]
    },
    {
      "cell_type": "markdown",
      "metadata": {},
      "source": [
        "Configure combined failure criterion\n====================================\n\nConfigure the combined failure criterion.\n"
      ]
    },
    {
      "cell_type": "code",
      "execution_count": null,
      "metadata": {
        "collapsed": false
      },
      "outputs": [],
      "source": [
        "combined_fc = CombinedFailureCriterion(\n    name=\"failure of all materials\",\n    failure_criteria=[\n        MaxStrainCriterion(),\n        MaxStressCriterion(),\n        CoreFailureCriterion(),\n        VonMisesCriterion(vme=True, vms=False),\n        FaceSheetWrinklingCriterion(),\n    ],\n)"
      ]
    },
    {
      "cell_type": "markdown",
      "metadata": {},
      "source": [
        "Set up model and evaluate failures\n==================================\n\nSet up the composite model.\n"
      ]
    },
    {
      "cell_type": "code",
      "execution_count": null,
      "metadata": {
        "collapsed": false
      },
      "outputs": [],
      "source": [
        "composite_model = CompositeModel(composite_files_on_server, server)"
      ]
    },
    {
      "cell_type": "markdown",
      "metadata": {},
      "source": [
        "Evaluate failures for the entire model\n"
      ]
    },
    {
      "cell_type": "code",
      "execution_count": null,
      "metadata": {
        "collapsed": false
      },
      "outputs": [],
      "source": [
        "output_all_elements = composite_model.evaluate_failure_criteria(\n    combined_criterion=combined_fc,\n)\nirf_field = output_all_elements.get_field({\"failure_label\": FailureOutput.FAILURE_VALUE})\nirf_field.plot()"
      ]
    },
    {
      "cell_type": "markdown",
      "metadata": {},
      "source": [
        "Create and plot a sampling point\n================================\n"
      ]
    },
    {
      "cell_type": "code",
      "execution_count": null,
      "metadata": {
        "collapsed": false
      },
      "outputs": [],
      "source": [
        "sampling_point = composite_model.get_sampling_point(combined_criterion=combined_fc, element_id=2)\nsampling_plot = sampling_point.get_result_plots(core_scale_factor=0.1)\nsampling_plot.figure.show()"
      ]
    },
    {
      "cell_type": "markdown",
      "metadata": {},
      "source": [
        "Create Engineering Data file and set material UUIDs in MAPDL\n============================================================\n\nHere are two workflows for setting up the engineering data file and the\nmaterial UUIDs in MAPDL. The material UUIDs must be set in MAPDL before\nthe model is solved.\n\nWith WB and Engineering Data:\n\n:   -   Create an External Model system in WB and load the solver input\n        file\n    -   Link the External Model with an Engineering Data system and\n        update it\n    -   Save the project and copy the generated engineering data file\n        (EngineeringData.xml)\n    -   For each material, look for the `DataTransferID`, go to MAPDL\n        and set the material UUIDs with the\n        `MP,UVID,<material index>,<value>` command\n\nWith ACP Standalone (for constant material properties only):\n\n:   -   Start ACP, go to *File - Import Model* and load the solver input\n        file (CDB)\n    -   Go to the Materials folder and export the engineering data file\n        (Ansys Workbench XML)\n    -   For each material, look for the `DataTransferID`, go to MAPDL\n        and set the material UUID with the\n        `MP,UVID,<material index>,<value>` command.\n"
      ]
    }
  ],
  "metadata": {
    "kernelspec": {
      "display_name": "Python 3",
      "language": "python",
      "name": "python3"
    },
    "language_info": {
      "codemirror_mode": {
        "name": "ipython",
        "version": 3
      },
      "file_extension": ".py",
      "mimetype": "text/x-python",
      "name": "python",
      "nbconvert_exporter": "python",
      "pygments_lexer": "ipython3",
      "version": "3.12.4"
    }
  },
  "nbformat": 4,
  "nbformat_minor": 0
}