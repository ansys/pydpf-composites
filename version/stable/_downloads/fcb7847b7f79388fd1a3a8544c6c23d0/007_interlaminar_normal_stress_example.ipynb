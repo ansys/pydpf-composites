{
  "cells": [
    {
      "cell_type": "markdown",
      "metadata": {},
      "source": [
        "Interlaminar normal stresses {#interlaminar_normal_stress_example}\n============================\n\nThis example shows how to enrich the stresses of layered shells by\ncomputing interlaminar normal stresses. Interlaminar normal stresses can\nbe important in thick and curved laminates.\n\nBecause interlaminar normal stresses are typically not available for\nlayered shell elements, the `INS` operator is used to recompute the `s3`\nresult based on the laminate strains, the geometrical curvature, and the\nlay-up.\n\n::: {.note}\n::: {.title}\nNote\n:::\n\nFor simple use cases, using the composite failure operator or composite\nsampling point operator is preferable. For examples, see\n`sphx_glr_examples_gallery_examples_001_failure_operator_example.py`{.interpreted-text\nrole=\"ref\"} and\n`sphx_glr_examples_gallery_examples_002_sampling_point_example.py`{.interpreted-text\nrole=\"ref\"}. In these workflows, interlaminar normal stresses are\ncomputed automatically if required, such as if a 3D failure criterion is\nactivated. Additionally,\n`sphx_glr_examples_gallery_examples_006_filter_composite_data_example.py`{.interpreted-text\nrole=\"ref\"} shows how helper functions can be used to obtain composite\nresult data.\n:::\n\n::: {.note}\n::: {.title}\nNote\n:::\n\nWhen using a Workbench project, use the\n`.composite_files_from_workbench_harmonic_analysis`{.interpreted-text\nrole=\"func\"} method to obtain the input files.\n:::\n"
      ]
    },
    {
      "cell_type": "markdown",
      "metadata": {},
      "source": [
        "Set up analysis\n===============\n\nSetting up the analysis consists of loading Ansys libraries, connecting\nto the DPF server, and retrieving the example files.\n\nLoad Ansys libraries.\n"
      ]
    },
    {
      "cell_type": "code",
      "execution_count": null,
      "metadata": {
        "collapsed": false
      },
      "outputs": [],
      "source": [
        "import ansys.dpf.core as dpf\nfrom ansys.dpf.core import unit_systems\n\nfrom ansys.dpf.composites.composite_model import CompositeModel\nfrom ansys.dpf.composites.constants import Spot, Sym3x3TensorComponent\nfrom ansys.dpf.composites.example_helper import get_continuous_fiber_example_files\nfrom ansys.dpf.composites.layup_info import AnalysisPlyInfoProvider, get_all_analysis_ply_names\nfrom ansys.dpf.composites.select_indices import get_selected_indices\nfrom ansys.dpf.composites.server_helpers import connect_to_or_start_server"
      ]
    },
    {
      "cell_type": "markdown",
      "metadata": {},
      "source": [
        "Start a DPF server and copy the example files into the current working\ndirectory.\n"
      ]
    },
    {
      "cell_type": "code",
      "execution_count": null,
      "metadata": {
        "collapsed": false
      },
      "outputs": [],
      "source": [
        "server = connect_to_or_start_server()\ncomposite_files_on_server = get_continuous_fiber_example_files(server, \"ins\")"
      ]
    },
    {
      "cell_type": "markdown",
      "metadata": {},
      "source": [
        "Set up model and prepare inputs\n===============================\n\nSet up the composite model.\n"
      ]
    },
    {
      "cell_type": "code",
      "execution_count": null,
      "metadata": {
        "collapsed": false
      },
      "outputs": [],
      "source": [
        "composite_model = CompositeModel(\n    composite_files_on_server, server, default_unit_system=unit_systems.solver_mks\n)"
      ]
    },
    {
      "cell_type": "markdown",
      "metadata": {},
      "source": [
        "Prepare the inputs for the INS operator. `rotate_to_global` is `False`\nbecause the postprocessing engine expects the results to be in the\nelement coordinate system (material coordinate system).\n"
      ]
    },
    {
      "cell_type": "code",
      "execution_count": null,
      "metadata": {
        "collapsed": false
      },
      "outputs": [],
      "source": [
        "strain_operator = composite_model.core_model.results.elastic_strain()\nstrain_operator.inputs.bool_rotate_to_global(False)\n\nstress_operator = composite_model.core_model.results.stress()\nstress_operator.inputs.bool_rotate_to_global(False)"
      ]
    },
    {
      "cell_type": "markdown",
      "metadata": {},
      "source": [
        "Compute interlaminar normal stresses\n====================================\n\nCompute the interlaminar normal stresses. The `INS` operator stores the\nstresses in the provided stress field.\n"
      ]
    },
    {
      "cell_type": "code",
      "execution_count": null,
      "metadata": {
        "collapsed": false
      },
      "outputs": [],
      "source": [
        "composite_model.add_interlaminar_normal_stresses(\n    stresses=stress_operator.outputs.fields_container(),\n    strains=strain_operator.outputs.fields_container(),\n)"
      ]
    },
    {
      "cell_type": "markdown",
      "metadata": {},
      "source": [
        "Plot s3 stresses\n================\n\nGet the first stress field.\n"
      ]
    },
    {
      "cell_type": "code",
      "execution_count": null,
      "metadata": {
        "collapsed": false
      },
      "outputs": [],
      "source": [
        "stress_field = stress_operator.outputs.fields_container()[0]"
      ]
    },
    {
      "cell_type": "markdown",
      "metadata": {},
      "source": [
        "Plot the maximum s3 of each element.\n"
      ]
    },
    {
      "cell_type": "code",
      "execution_count": null,
      "metadata": {
        "collapsed": false
      },
      "outputs": [],
      "source": [
        "s3_component = Sym3x3TensorComponent.TENSOR33\nmax_s3_field = dpf.field.Field(location=dpf.locations.elemental, nature=dpf.natures.scalar)\nwith max_s3_field.as_local_field() as local_max_s3_field:\n    element_ids = stress_field.scoping.ids\n    for element_id in element_ids:\n        stress_data = stress_field.get_entity_data_by_id(element_id)\n        element_info = composite_model.get_element_info(element_id)\n        assert element_info is not None\n        # select all stresses from bottom to top of node 0\n        selected_indices = get_selected_indices(element_info, nodes=[0])\n\n        # order is bottom, top, mid\n        s3 = stress_data[selected_indices, s3_component]\n\n        local_max_s3_field.append([max(s3)], element_id)\n\ncomposite_model.get_mesh().plot(max_s3_field)"
      ]
    },
    {
      "cell_type": "markdown",
      "metadata": {},
      "source": [
        "Plot s3 at the mid-plane of a certain ply.\n"
      ]
    },
    {
      "cell_type": "code",
      "execution_count": null,
      "metadata": {
        "collapsed": false
      },
      "outputs": [],
      "source": [
        "analysis_ply_names = get_all_analysis_ply_names(composite_model.get_mesh())\nselected_ply = \"P3L1__Ply.1\"\n\nply_info_provider = AnalysisPlyInfoProvider(composite_model.get_mesh(), selected_ply)\np8l1_ply_s3_field = dpf.field.Field(location=dpf.locations.elemental, nature=dpf.natures.scalar)\nwith p8l1_ply_s3_field.as_local_field() as p8l1_ply_s3_field:\n    element_ids = ply_info_provider.ply_element_ids()\n    for element_id in element_ids:\n        stress_data = stress_field.get_entity_data_by_id(element_id)\n        element_info = composite_model.get_element_info(element_id)\n        assert element_info is not None\n        # select all stresses from bottom to top of node 0\n        layer_index = ply_info_provider.get_layer_index_by_element_id(element_id)\n        selected_indices = get_selected_indices(\n            element_info, layers=[layer_index], nodes=[0], spots=[Spot.MIDDLE]\n        )\n\n        # order is bottom, top, mid\n        s3 = stress_data[selected_indices, s3_component]\n\n        p8l1_ply_s3_field.append(s3, element_id)\n\ncomposite_model.get_mesh().plot(p8l1_ply_s3_field)"
      ]
    }
  ],
  "metadata": {
    "kernelspec": {
      "display_name": "Python 3",
      "language": "python",
      "name": "python3"
    },
    "language_info": {
      "codemirror_mode": {
        "name": "ipython",
        "version": 3
      },
      "file_extension": ".py",
      "mimetype": "text/x-python",
      "name": "python",
      "nbconvert_exporter": "python",
      "pygments_lexer": "ipython3",
      "version": "3.13.1"
    }
  },
  "nbformat": 4,
  "nbformat_minor": 0
}