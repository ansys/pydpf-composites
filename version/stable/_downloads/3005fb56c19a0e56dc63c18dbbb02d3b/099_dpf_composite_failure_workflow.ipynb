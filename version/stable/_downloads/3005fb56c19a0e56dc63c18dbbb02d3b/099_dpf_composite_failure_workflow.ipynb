{
  "cells": [
    {
      "cell_type": "markdown",
      "metadata": {},
      "source": [
        "DPF composite failure workflow {#basic_example_composite_failure_workflow}\n==============================\n\nThis example shows how to use the native DPF Python interface to\nconfigure and run the composite failure evaluator. It connects the\ndifferent DPF operators that are needed to evaluate composite failure\ncriteria.\n\n::: {.note}\n::: {.title}\nNote\n:::\n\nFor simple use cases, using the composite failure operator or composite\nsampling point operator is preferable. For examples, see\n`sphx_glr_examples_gallery_examples_001_failure_operator_example.py`{.interpreted-text\nrole=\"ref\"} and\n`sphx_glr_examples_gallery_examples_002_sampling_point_example.py`{.interpreted-text\nrole=\"ref\"}. Additionally,\n`sphx_glr_examples_gallery_examples_006_filter_composite_data_example.py`{.interpreted-text\nrole=\"ref\"} shows how helper functions can be used to obtain composite\nresult data.\n:::\n"
      ]
    },
    {
      "cell_type": "markdown",
      "metadata": {},
      "source": [
        "Set up analysis\n===============\n\nSetting up the analysis consists of loading Ansys libraries, configuring\nthe combined failure criterion, connecting to the DPF server, and\npreparing files.\n\nLoad Ansys libraries.\n"
      ]
    },
    {
      "cell_type": "code",
      "execution_count": null,
      "metadata": {
        "collapsed": false
      },
      "outputs": [],
      "source": [
        "import ansys.dpf.core as dpf\n\nfrom ansys.dpf.composites.data_sources import get_composites_data_sources\nfrom ansys.dpf.composites.example_helper import get_continuous_fiber_example_files\nfrom ansys.dpf.composites.failure_criteria import (\n    CombinedFailureCriterion,\n    CoreFailureCriterion,\n    CuntzeCriterion,\n    HashinCriterion,\n    HoffmanCriterion,\n    MaxStrainCriterion,\n    MaxStressCriterion,\n    TsaiHillCriterion,\n    TsaiWuCriterion,\n    VonMisesCriterion,\n)\nfrom ansys.dpf.composites.server_helpers import connect_to_or_start_server, version_older_than"
      ]
    },
    {
      "cell_type": "markdown",
      "metadata": {},
      "source": [
        "Configure the combined failure criterion.\n"
      ]
    },
    {
      "cell_type": "code",
      "execution_count": null,
      "metadata": {
        "collapsed": false
      },
      "outputs": [],
      "source": [
        "combined_fc = CombinedFailureCriterion(\n    name=\"My Failure Criteria\",\n    failure_criteria=[\n        MaxStrainCriterion(),\n        MaxStressCriterion(),\n        TsaiHillCriterion(),\n        TsaiWuCriterion(),\n        HoffmanCriterion(),\n        HashinCriterion(),\n        CuntzeCriterion(),\n        CoreFailureCriterion(),\n        VonMisesCriterion(vme=True, vms=False),\n    ],\n)"
      ]
    },
    {
      "cell_type": "markdown",
      "metadata": {},
      "source": [
        "Start a DPF server and prepare files\n"
      ]
    },
    {
      "cell_type": "code",
      "execution_count": null,
      "metadata": {
        "collapsed": false
      },
      "outputs": [],
      "source": [
        "server = connect_to_or_start_server()\ncomposite_files_on_server = get_continuous_fiber_example_files(server, \"shell\")\n\ncomposite_data_sources = get_composites_data_sources(composite_files_on_server)"
      ]
    },
    {
      "cell_type": "markdown",
      "metadata": {},
      "source": [
        "Initialize DPF model and data sources\n=====================================\n\nInitialize the DPF model and the data sources.\n"
      ]
    },
    {
      "cell_type": "code",
      "execution_count": null,
      "metadata": {
        "collapsed": false
      },
      "outputs": [],
      "source": [
        "rst_data_source = composite_data_sources.rst\nmaterial_support_data_source = composite_data_sources.material_support\neng_data_source = composite_data_sources.engineering_data\n\nif version_older_than(server, \"7.0\"):\n    # Get datasources of composite definition files for the backend 2023 R2 or before\n    composite_definitions_source = composite_data_sources.old_composite_sources[\"shell\"]\nelse:\n    # Get datasources of composite definition files for the backend 2024 R1 or later\n    composite_definitions_source = composite_data_sources.composite\n\nmodel = dpf.Model(rst_data_source)"
      ]
    },
    {
      "cell_type": "markdown",
      "metadata": {},
      "source": [
        "Set up providers\n================\n\nSet up the mesh provider.\n"
      ]
    },
    {
      "cell_type": "code",
      "execution_count": null,
      "metadata": {
        "collapsed": false
      },
      "outputs": [],
      "source": [
        "mesh_provider = model.metadata.mesh_provider"
      ]
    },
    {
      "cell_type": "markdown",
      "metadata": {},
      "source": [
        "Set up the material support provider. The material support provider\ntakes care of mapping the materials in the RST file to the materials in\nthe composite definitions. The material support contains all materials\nfrom the RST file.\n"
      ]
    },
    {
      "cell_type": "code",
      "execution_count": null,
      "metadata": {
        "collapsed": false
      },
      "outputs": [],
      "source": [
        "material_support_provider = dpf.Operator(\"support_provider\")\nmaterial_support_provider.inputs.property(\"mat\")\n\nmaterial_support_provider.inputs.data_sources(material_support_data_source)\nmaterial_support_provider.run()"
      ]
    },
    {
      "cell_type": "markdown",
      "metadata": {},
      "source": [
        "Set up the result information provider, which gets the unit system from\nthe RST file.\n"
      ]
    },
    {
      "cell_type": "code",
      "execution_count": null,
      "metadata": {
        "collapsed": false
      },
      "outputs": [],
      "source": [
        "result_info_provider = dpf.Operator(\"ResultInfoProvider\")\nresult_info_provider.inputs.data_sources(rst_data_source)"
      ]
    },
    {
      "cell_type": "markdown",
      "metadata": {},
      "source": [
        "Set up the material provider The material provider combines the material\nsupport in the engineering data XML file and the unit system. Its output\ncan be used to evaluate material properties.\n"
      ]
    },
    {
      "cell_type": "code",
      "execution_count": null,
      "metadata": {
        "collapsed": false
      },
      "outputs": [],
      "source": [
        "material_provider = dpf.Operator(\"eng_data::ans_mat_material_provider\")\nmaterial_provider.inputs.data_sources = eng_data_source\nmaterial_provider.inputs.unit_system_or_result_info(result_info_provider.outputs.result_info)\nmaterial_provider.inputs.abstract_field_support(\n    material_support_provider.outputs.abstract_field_support\n)\nmaterial_provider.inputs.Engineering_data_file(eng_data_source)"
      ]
    },
    {
      "cell_type": "markdown",
      "metadata": {},
      "source": [
        "Set up the lay-up provider, which reads the composite definition file\nand enriches the mesh with the composite lay-up information.\n"
      ]
    },
    {
      "cell_type": "code",
      "execution_count": null,
      "metadata": {
        "collapsed": false
      },
      "outputs": [],
      "source": [
        "layup_provider = dpf.Operator(\"composite::layup_provider_operator\")\nlayup_provider.inputs.mesh(mesh_provider.outputs.mesh)\nlayup_provider.inputs.data_sources(composite_definitions_source)\nlayup_provider.inputs.abstract_field_support(\n    material_support_provider.outputs.abstract_field_support\n)\nlayup_provider.inputs.unit_system(result_info_provider.outputs.result_info)\nlayup_provider.run()"
      ]
    },
    {
      "cell_type": "markdown",
      "metadata": {},
      "source": [
        "Set up result operators\n=======================\n\nSet up result operators for strains and stresses. `rotate_to_global` is\n`False` because the postprocessing engine expects the results to be in\nthe element coordinate system (material coordinate system).\n"
      ]
    },
    {
      "cell_type": "code",
      "execution_count": null,
      "metadata": {
        "collapsed": false
      },
      "outputs": [],
      "source": [
        "strain_operator = dpf.operators.result.elastic_strain()\nstrain_operator.inputs.data_sources(rst_data_source)\nstrain_operator.inputs.bool_rotate_to_global(False)\n\nstress_operator = dpf.operators.result.stress()\nstress_operator.inputs.data_sources(rst_data_source)\nstress_operator.inputs.bool_rotate_to_global(False)"
      ]
    },
    {
      "cell_type": "markdown",
      "metadata": {},
      "source": [
        "Set up failure evaluator\n========================\n\nSet up the failure evaluator, which combines the results and evaluates\nall failure criteria. The output contains the maximum failure criteria\nfor each integration point.\n"
      ]
    },
    {
      "cell_type": "code",
      "execution_count": null,
      "metadata": {
        "collapsed": false
      },
      "outputs": [],
      "source": [
        "failure_evaluator = dpf.Operator(\"composite::multiple_failure_criteria_operator\")\nfailure_evaluator.inputs.configuration(combined_fc.to_json())\nfailure_evaluator.inputs.materials_container(material_provider.outputs)\nfailure_evaluator.inputs.strains_container(strain_operator.outputs.fields_container)\nfailure_evaluator.inputs.stresses_container(stress_operator.outputs.fields_container)\nfailure_evaluator.inputs.mesh(mesh_provider.outputs.mesh)"
      ]
    },
    {
      "cell_type": "markdown",
      "metadata": {},
      "source": [
        "Compute and plot failure criteria\n=================================\n\nUse the output of the multiple failure criteria operator to compute the\nminimum and maximum failure criteria for each element.\n"
      ]
    },
    {
      "cell_type": "code",
      "execution_count": null,
      "metadata": {
        "collapsed": false
      },
      "outputs": [],
      "source": [
        "minmax_per_element = dpf.Operator(\"composite::minmax_per_element_operator\")\nminmax_per_element.inputs.fields_container(failure_evaluator.outputs.fields_container)\nminmax_per_element.inputs.mesh(mesh_provider.outputs.mesh)\nminmax_per_element.inputs.material_support(material_support_provider.outputs.abstract_field_support)\n\noutput = minmax_per_element.outputs.field_max()"
      ]
    },
    {
      "cell_type": "markdown",
      "metadata": {},
      "source": [
        "Plot the maximum and minimum values.\n"
      ]
    },
    {
      "cell_type": "code",
      "execution_count": null,
      "metadata": {
        "collapsed": false
      },
      "outputs": [],
      "source": [
        "value_index = 1\nmodel.metadata.meshed_region.plot(output[value_index])"
      ]
    }
  ],
  "metadata": {
    "kernelspec": {
      "display_name": "Python 3",
      "language": "python",
      "name": "python3"
    },
    "language_info": {
      "codemirror_mode": {
        "name": "ipython",
        "version": 3
      },
      "file_extension": ".py",
      "mimetype": "text/x-python",
      "name": "python",
      "nbconvert_exporter": "python",
      "pygments_lexer": "ipython3",
      "version": "3.12.5"
    }
  },
  "nbformat": 4,
  "nbformat_minor": 0
}