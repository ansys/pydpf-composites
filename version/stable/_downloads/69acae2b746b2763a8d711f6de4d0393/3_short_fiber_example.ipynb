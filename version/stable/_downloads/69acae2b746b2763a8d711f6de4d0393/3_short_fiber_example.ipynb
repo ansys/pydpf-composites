{
  "cells": [
    {
      "cell_type": "code",
      "execution_count": null,
      "metadata": {
        "collapsed": false
      },
      "outputs": [],
      "source": [
        "%matplotlib inline"
      ]
    },
    {
      "cell_type": "markdown",
      "metadata": {},
      "source": [
        "Failure analysis for short fiber composites {#short_fiber_example}\n===========================================\n\nThis example shows how to evaluate failures of a short fiber reinforced\npart.\n\nAs part of the short fiber workflows, you can evaluate and plot\nTsai-Hill type orientation tensor-dependent failure criteria. This\nexample shows how to configure the DPF operator\n`short_fiber_failure_criterion_evaluator` to compute such failure\ncriteria.\n\nThe model shown in this example consists of a tensile specimen made of a\nshort glass fiber reinforced thermoplastic injection molded from both\nsides.\n\n::: {.note}\n::: {.title}\nNote\n:::\n\nThe evaluation of failure criteria in short fiber workflows is a beta\nfeature, introduced in Ansys 2021 R2.\n:::\n"
      ]
    },
    {
      "cell_type": "markdown",
      "metadata": {},
      "source": [
        "Set up analysis\n===============\n\nSetting up the analysis consists of loading Ansys libraries, connecting\nto the DPF server, and retrieving the example files.\n\nLoad Ansys libraries.\n"
      ]
    },
    {
      "cell_type": "code",
      "execution_count": null,
      "metadata": {
        "collapsed": false
      },
      "outputs": [],
      "source": [
        "import ansys.dpf.core as dpf\n\nfrom ansys.dpf.composites.constants import FailureOutput\nfrom ansys.dpf.composites.example_helper import get_short_fiber_example_files\nfrom ansys.dpf.composites.server_helpers import connect_to_or_start_server"
      ]
    },
    {
      "cell_type": "markdown",
      "metadata": {},
      "source": [
        "Start a DPF server and copy the example files into the current working\ndirectory. These files are needed:\n\n-   Mechanical APDL result (RST) file containing the simulation results\n-   Engineering Data (MATML) file containing the material properties of\n    the composite\n-   Mechanical APDL input file (DS.DAT) containing the fiber orientation\n    tensor data\n"
      ]
    },
    {
      "cell_type": "code",
      "execution_count": null,
      "metadata": {
        "collapsed": false
      },
      "outputs": [],
      "source": [
        "server = connect_to_or_start_server()\ncomposite_files_on_server = get_short_fiber_example_files(server, \"short_fiber\")"
      ]
    },
    {
      "cell_type": "markdown",
      "metadata": {},
      "source": [
        "Set up data sources\n===================\n\nSet up the data sources.\n"
      ]
    },
    {
      "cell_type": "code",
      "execution_count": null,
      "metadata": {
        "collapsed": false
      },
      "outputs": [],
      "source": [
        "data_sources = dpf.DataSources()\ndata_sources.add_file_path(composite_files_on_server.engineering_data, \"EngineeringData\")\ndata_sources.add_file_path(composite_files_on_server.dsdat, \"dat\")\ndata_sources.set_result_file_path(composite_files_on_server.rst)"
      ]
    },
    {
      "cell_type": "markdown",
      "metadata": {},
      "source": [
        "Initialize DPF model\n====================\n\nInitialize the DPF model.\n"
      ]
    },
    {
      "cell_type": "code",
      "execution_count": null,
      "metadata": {
        "collapsed": false
      },
      "outputs": [],
      "source": [
        "model = dpf.Model(composite_files_on_server.rst)\nmesh = model.metadata.meshed_region"
      ]
    },
    {
      "cell_type": "markdown",
      "metadata": {},
      "source": [
        "Plot results\n============\n\nPlot the two largest eigenvalues (a11 and a22) of the fiber orientation\ntensor. Note that the plots reveal the presence of a weld line in the\nmiddle of the specimen.\n"
      ]
    },
    {
      "cell_type": "code",
      "execution_count": null,
      "metadata": {
        "collapsed": false
      },
      "outputs": [],
      "source": [
        "field_variable_provider = dpf.Operator(\"composite::inistate_field_variables_provider\")\nfield_variable_provider.inputs.data_sources(data_sources)\nfield_variable_provider.inputs.mesh(model.metadata.mesh_provider)\n\nfield_variables = field_variable_provider.outputs.fields_container.get_data()\n\na11 = field_variables[0]\na11.plot()\n\na22 = field_variables[1]\na22.plot()"
      ]
    },
    {
      "cell_type": "markdown",
      "metadata": {},
      "source": [
        "Configure and evaluate\n======================\n\nConfigure the short fiber failure criterion evaluator and evaluate. Note\nthat you can specify optional time and mesh scoping inputs.\n"
      ]
    },
    {
      "cell_type": "code",
      "execution_count": null,
      "metadata": {
        "collapsed": false
      },
      "outputs": [],
      "source": [
        "sf_op = dpf.Operator(\"composite::short_fiber_failure_criterion_evaluator\")\nsf_op.inputs.streams_container(model.metadata.streams_provider)\nsf_op.inputs.data_sources(data_sources)\nsf_op.inputs.stress_limit_type(\"ultimate\")  # \"yield\" or \"ultimate\" (default)\nsf_op.run()"
      ]
    },
    {
      "cell_type": "markdown",
      "metadata": {},
      "source": [
        "Compute and plot results\n========================\n\nCompute and plot the maximum failure value per element.\n"
      ]
    },
    {
      "cell_type": "code",
      "execution_count": null,
      "metadata": {
        "collapsed": false
      },
      "outputs": [],
      "source": [
        "mat_support_operator = dpf.Operator(\"mat_support_provider\")\nmat_support_operator.connect(4, data_sources)\n\nminmax_per_element = dpf.Operator(\"composite::minmax_per_element_operator\")\nminmax_per_element.inputs.fields_container(sf_op)\nminmax_per_element.inputs.mesh(mesh)\nminmax_per_element.inputs.abstract_field_support(mat_support_operator)\n\nmax_failure = minmax_per_element.outputs.field_max.get_data()\nmax_failure_value = max_failure.get_field({\"failure_label\": FailureOutput.FAILURE_VALUE})\nmesh.plot(max_failure_value, show_edges=True)"
      ]
    }
  ],
  "metadata": {
    "kernelspec": {
      "display_name": "Python 3",
      "language": "python",
      "name": "python3"
    },
    "language_info": {
      "codemirror_mode": {
        "name": "ipython",
        "version": 3
      },
      "file_extension": ".py",
      "mimetype": "text/x-python",
      "name": "python",
      "nbconvert_exporter": "python",
      "pygments_lexer": "ipython3",
      "version": "3.9.16"
    }
  },
  "nbformat": 4,
  "nbformat_minor": 0
}