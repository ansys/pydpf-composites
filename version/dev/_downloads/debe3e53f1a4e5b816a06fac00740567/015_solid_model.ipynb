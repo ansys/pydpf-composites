{
  "cells": [
    {
      "cell_type": "markdown",
      "metadata": {},
      "source": [
        "# Postprocess a solid model {#solid_model_example}\n\nThis example shows features which are tailored for the postprocessing of\nsolid models. These are\n\n> -   Failure plot on the reference surface\n> -   Sampling point for solid elements\n\nThe model is an assembly with solid and shell elements. So, the example\nalso demonstrates how to distinguish between different element types.\n\n::: note\n::: title\nNote\n:::\n\nWhen using a Workbench project, use the\n`.get_composite_files_from_workbench_result_folder`{.interpreted-text\nrole=\"func\"} method to obtain the input files.\n:::\n"
      ]
    },
    {
      "cell_type": "markdown",
      "metadata": {},
      "source": [
        "# Set up analysis\n\nSetting up the analysis consists of loading Ansys libraries, connecting\nto the DPF server, and retrieving the example files.\n\nLoad Ansys libraries.\n"
      ]
    },
    {
      "cell_type": "code",
      "execution_count": null,
      "metadata": {
        "collapsed": false
      },
      "outputs": [],
      "source": [
        "from ansys.dpf.composites.composite_model import CompositeModel\nfrom ansys.dpf.composites.constants import FailureOutput\nfrom ansys.dpf.composites.example_helper import get_continuous_fiber_example_files\nfrom ansys.dpf.composites.failure_criteria import (\n    CombinedFailureCriterion,\n    CoreFailureCriterion,\n    FaceSheetWrinklingCriterion,\n    HashinCriterion,\n    MaxStressCriterion,\n)\nfrom ansys.dpf.composites.layup_info import SolidStackProvider\nfrom ansys.dpf.composites.result_definition import FailureMeasureEnum\nfrom ansys.dpf.composites.server_helpers import connect_to_or_start_server\nfrom ansys.dpf.composites.solid_stack_results import get_through_the_thickness_results\n\n# Start a DPF server and copy the example files into the current working directory.\nserver = connect_to_or_start_server()\n\ncomposite_files_on_server = get_continuous_fiber_example_files(server, \"assembly\")"
      ]
    },
    {
      "cell_type": "markdown",
      "metadata": {},
      "source": [
        "# Configure combined failure criterion\n\nConfigure the combined failure criterion.\n"
      ]
    },
    {
      "cell_type": "code",
      "execution_count": null,
      "metadata": {
        "collapsed": false
      },
      "outputs": [],
      "source": [
        "combined_fc = CombinedFailureCriterion(\n    name=\"failure of all materials\",\n    failure_criteria=[\n        MaxStressCriterion(),\n        CoreFailureCriterion(),\n        FaceSheetWrinklingCriterion(),\n        HashinCriterion(),\n    ],\n)"
      ]
    },
    {
      "cell_type": "markdown",
      "metadata": {},
      "source": [
        "# Set up model\n\nSet up the composite model.\n"
      ]
    },
    {
      "cell_type": "code",
      "execution_count": null,
      "metadata": {
        "collapsed": false
      },
      "outputs": [],
      "source": [
        "composite_model = CompositeModel(composite_files_on_server, server)"
      ]
    },
    {
      "cell_type": "markdown",
      "metadata": {},
      "source": [
        "# Plot failure results on reference surface\n\nThe first feature is to plot the failure results on the reference\nsurface. This feature projects the overall maximum failure value and\naccording failure model from the solid elements to the shell elements.\nThis makes the critical areas of the solid elements visible on the\nreference surface.\n"
      ]
    },
    {
      "cell_type": "code",
      "execution_count": null,
      "metadata": {
        "collapsed": false
      },
      "outputs": [],
      "source": [
        "output_all_elements = composite_model.evaluate_failure_criteria(\n    combined_criterion=combined_fc,\n)\n\nirf_on_ref_surface_field = output_all_elements.get_field(\n    {\"failure_label\": FailureOutput.FAILURE_VALUE_REF_SURFACE}\n)\nirf_on_ref_surface_field.plot()\n\n# The next plot shows the same failure analysis without the projection\n# to the reference surface for the sake of comparison.\nirf_max_field = output_all_elements.get_field({\"failure_label\": FailureOutput.FAILURE_VALUE})\nirf_max_field.plot()"
      ]
    },
    {
      "cell_type": "markdown",
      "metadata": {},
      "source": [
        "# Sampling point for solids\n\nThe next feature is to create a sampling point for solid elements. The\nuser selects one solid element and the feature automatically selects the\nentire stack of solid elements of the laminate to plot the\nthrough-the-thickness results. So, the first step is to find the\ncritical solid element(s). In this example, the one with the highest IRF\nis selected.\n"
      ]
    },
    {
      "cell_type": "code",
      "execution_count": null,
      "metadata": {
        "collapsed": false
      },
      "outputs": [],
      "source": [
        "critical_solid_id = 0\ncritical_irf = -1.0\ncritical_solid_elements = {}\nfor index, element_id in enumerate(irf_max_field.scoping.ids):\n    # only consider solid elements because the model is an assembly of shells and solids\n    if not composite_model.get_element_info(element_id).is_shell:\n        irf = irf_max_field.get_entity_data(index)[0]\n        if irf > critical_irf:\n            critical_solid_id = element_id\n            critical_irf = irf\n\n\nsampling_point_solid_stack = composite_model.get_sampling_point(\n    combined_criterion=combined_fc, element_id=critical_solid_id\n)"
      ]
    },
    {
      "cell_type": "markdown",
      "metadata": {},
      "source": [
        "The plot shows the lay-up of the solid stack, stresses and failure\nresults. The solid elements are indicated in the layup plot by the\ncolored boxes. In this case, the first solid element has 3 layers, the\nsecond has 1 layer (core), and the third has 2 layers.\n"
      ]
    },
    {
      "cell_type": "code",
      "execution_count": null,
      "metadata": {
        "collapsed": false
      },
      "outputs": [],
      "source": [
        "core_scale_factor = 0.2\nsampling_point_plot = sampling_point_solid_stack.get_result_plots(\n    strain_components=(),  # Skip strains\n    core_scale_factor=core_scale_factor,\n    failure_components=(FailureMeasureEnum.INVERSE_RESERVE_FACTOR,),\n    show_failure_modes=True,\n)\nsampling_point_plot.figure.set_figheight(8)\nsampling_point_plot.figure.set_figwidth(12)\nsampling_point_plot.figure.show()"
      ]
    },
    {
      "cell_type": "markdown",
      "metadata": {},
      "source": [
        "Here is another sampling point plot with the in-plane strains\n"
      ]
    },
    {
      "cell_type": "code",
      "execution_count": null,
      "metadata": {
        "collapsed": false
      },
      "outputs": [],
      "source": [
        "sampling_point_plot = sampling_point_solid_stack.get_result_plots(\n    strain_components=(\"e1\", \"e2\", \"e12\"),  # Show in-plane results only\n    stress_components=(),  # Don't show stresses\n    failure_components=(),\n    core_scale_factor=core_scale_factor,\n    create_laminate_plot=False,\n    show_failure_modes=True,\n)\nsampling_point_plot.figure.set_figheight(8)\nsampling_point_plot.figure.set_figwidth(12)\nsampling_point_plot.figure.show()"
      ]
    },
    {
      "cell_type": "markdown",
      "metadata": {},
      "source": [
        "# Solid Stack Information\n\nInformation about the stack of solid elements can be retrieved by using\nthe SolidStackProvider. A basic example is shown below where 6 is the\nelement ID (label) and not an index.\n"
      ]
    },
    {
      "cell_type": "code",
      "execution_count": null,
      "metadata": {
        "collapsed": false
      },
      "outputs": [],
      "source": [
        "solid_stack_provider = SolidStackProvider(\n    composite_model.get_mesh(), composite_model.get_layup_operator()\n)\nprint(f\"Number of solid stacks: {solid_stack_provider.number_of_stacks}\")\nstack_of_element_6 = solid_stack_provider.get_solid_stack(6)\nprint(f\"Solid stack of element 6: {stack_of_element_6}\")"
      ]
    },
    {
      "cell_type": "markdown",
      "metadata": {},
      "source": [
        "The solid stack can then be used for example to get the\nthrough-the-thickness results. In this example, s11, s22 and s12 are\nretrieved for the last time step.\n"
      ]
    },
    {
      "cell_type": "code",
      "execution_count": null,
      "metadata": {
        "collapsed": false
      },
      "outputs": [],
      "source": [
        "stress_operator = composite_model.core_model.results.stress()\nstress_operator.inputs.bool_rotate_to_global(False)\nstress_container = stress_operator.outputs.fields_container()\nstress_field = stress_container.get_field(\n    {\n        \"time\": stress_container.get_available_ids_for_label(\"time\")[-1],\n    }\n)\n\nresults = get_through_the_thickness_results(\n    solid_stack=stack_of_element_6,\n    element_info_provider=composite_model.get_element_info_provider(),\n    result_field=stress_field,\n    component_names=(\"s1\", \"s2\", \"s12\"),\n)\nprint(results)"
      ]
    }
  ],
  "metadata": {
    "kernelspec": {
      "display_name": "Python 3",
      "language": "python",
      "name": "python3"
    },
    "language_info": {
      "codemirror_mode": {
        "name": "ipython",
        "version": 3
      },
      "file_extension": ".py",
      "mimetype": "text/x-python",
      "name": "python",
      "nbconvert_exporter": "python",
      "pygments_lexer": "ipython3",
      "version": "3.13.6"
    }
  },
  "nbformat": 4,
  "nbformat_minor": 0
}