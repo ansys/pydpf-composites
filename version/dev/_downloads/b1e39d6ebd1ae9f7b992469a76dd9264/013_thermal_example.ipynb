{
  "cells": [
    {
      "cell_type": "markdown",
      "metadata": {},
      "source": [
        "Thermal analysis {#thermal_example}\n================\n\nPyDPF Composites can also be used to post-process thermal analyses. In\nthis case, the simulation is a two-step analysis where the results of a\nthermal analysis are an input of the structural analysis. So, the RST\ncontains temperature and structural results. The example mimics a PCB\nwhich was modeled with Ansys Composites PrePost (ACP). where the solid\nmodel feature of ACP is used to generate the volume mesh.\n\nIn detail, the example shows how to extract the temperatures for a\nspecific ply, and a specific material.\n\n::: {.note}\n::: {.title}\nNote\n:::\n\nWhen using a Workbench project, use the\n`.get_composite_files_from_workbench_result_folder`{.interpreted-text\nrole=\"func\"} method to obtain the input files.\n:::\n"
      ]
    },
    {
      "cell_type": "markdown",
      "metadata": {},
      "source": [
        "Set up analysis\n===============\n\nSetting up the analysis consists of loading the required modules,\nconnecting to the DPF server, and retrieving the example files.\n"
      ]
    },
    {
      "cell_type": "code",
      "execution_count": null,
      "metadata": {
        "collapsed": false
      },
      "outputs": [],
      "source": [
        "import ansys.dpf.core as dpf\nimport numpy as np\n\nfrom ansys.dpf.composites.composite_model import CompositeModel\nfrom ansys.dpf.composites.constants import TEMPERATURE_COMPONENT\nfrom ansys.dpf.composites.example_helper import get_continuous_fiber_example_files\nfrom ansys.dpf.composites.layup_info import get_all_analysis_ply_names\nfrom ansys.dpf.composites.ply_wise_data import SpotReductionStrategy, get_ply_wise_data\nfrom ansys.dpf.composites.select_indices import get_selected_indices_by_dpf_material_ids\nfrom ansys.dpf.composites.server_helpers import connect_to_or_start_server\n\nserver = connect_to_or_start_server()\ncomposite_files = get_continuous_fiber_example_files(server, \"thermal_solid\")"
      ]
    },
    {
      "cell_type": "markdown",
      "metadata": {},
      "source": [
        "Initialize the model\n====================\n\nThe composite model is initialized with the composite files and the\nserver. It provides access to the mesh, results, lay-up and materials\n"
      ]
    },
    {
      "cell_type": "code",
      "execution_count": null,
      "metadata": {
        "collapsed": false
      },
      "outputs": [],
      "source": [
        "composite_model = CompositeModel(composite_files, server)"
      ]
    },
    {
      "cell_type": "markdown",
      "metadata": {},
      "source": [
        "Get Results - Temperatures\n==========================\n\nThe temperatures are stored under structural\\_temperature\n"
      ]
    },
    {
      "cell_type": "code",
      "execution_count": null,
      "metadata": {
        "collapsed": false
      },
      "outputs": [],
      "source": [
        "temp_op = composite_model.core_model.results.structural_temperature()\ntemperatures_fc = temp_op.outputs.fields_container()"
      ]
    },
    {
      "cell_type": "markdown",
      "metadata": {},
      "source": [
        "Ply-wise results\n================\n\nPly-wise results can be easily extracted using the function\n`.get_ply_wise_data`{.interpreted-text role=\"func\"} and by passing the\nply name.\n"
      ]
    },
    {
      "cell_type": "code",
      "execution_count": null,
      "metadata": {
        "collapsed": false
      },
      "outputs": [],
      "source": [
        "all_ply_names = get_all_analysis_ply_names(composite_model.get_mesh())\nprint(all_ply_names)\n\nnodal_values = get_ply_wise_data(\n    field=temperatures_fc,\n    ply_name=\"P1L1__ModelingPly.8\",\n    mesh=composite_model.get_mesh(),\n    component=TEMPERATURE_COMPONENT,\n    spot_reduction_strategy=SpotReductionStrategy.MAX,\n    requested_location=dpf.locations.nodal,\n)\n\ncomposite_model.get_mesh().plot(nodal_values)"
      ]
    },
    {
      "cell_type": "markdown",
      "metadata": {},
      "source": [
        "Material-wise results\n=====================\n\nIt is also possible to filter the results by material. In this example\nthe element-wise maximum temperature is extracted for the material\n[Honeycomb Aluminum Alloy]{.title-ref}.\n"
      ]
    },
    {
      "cell_type": "code",
      "execution_count": null,
      "metadata": {
        "collapsed": false
      },
      "outputs": [],
      "source": [
        "print(composite_model.material_names)\nmaterial_id = composite_model.material_names[\"Honeycomb Aluminum Alloy\"]\n\n# get the last result field\ntemperatures_field = temperatures_fc[-1]\n\nmaterial_result_field = dpf.field.Field(location=dpf.locations.elemental, nature=dpf.natures.scalar)\n# performance optimization: use a local field instead of a field which is pushed to the server\nwith material_result_field.as_local_field() as local_result_field:\n    element_ids = temperatures_field.scoping.ids\n\n    for element_id in element_ids:\n        element_info = composite_model.get_element_info(element_id)\n        assert element_info is not None\n        if material_id in element_info.dpf_material_ids:\n            temp_data = temperatures_field.get_entity_data_by_id(element_id)\n            selected_indices = get_selected_indices_by_dpf_material_ids(element_info, [material_id])\n\n            value = np.max(temp_data[selected_indices])\n            local_result_field.append([value], element_id)\n\ncomposite_model.get_mesh().plot(material_result_field)"
      ]
    }
  ],
  "metadata": {
    "kernelspec": {
      "display_name": "Python 3",
      "language": "python",
      "name": "python3"
    },
    "language_info": {
      "codemirror_mode": {
        "name": "ipython",
        "version": 3
      },
      "file_extension": ".py",
      "mimetype": "text/x-python",
      "name": "python",
      "nbconvert_exporter": "python",
      "pygments_lexer": "ipython3",
      "version": "3.12.5"
    }
  },
  "nbformat": 4,
  "nbformat_minor": 0
}