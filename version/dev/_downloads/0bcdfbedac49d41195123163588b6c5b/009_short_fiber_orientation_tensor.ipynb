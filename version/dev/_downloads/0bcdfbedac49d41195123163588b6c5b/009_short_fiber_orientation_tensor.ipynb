{
  "cells": [
    {
      "cell_type": "code",
      "execution_count": null,
      "metadata": {
        "collapsed": false
      },
      "outputs": [],
      "source": [
        "%matplotlib inline"
      ]
    },
    {
      "cell_type": "markdown",
      "metadata": {},
      "source": [
        "Plot of the orientation tensor for short fiber composites {#short_fiber_orientation_tensor}\n=========================================================\n\nThis example shows how to reconstruct and plot the components of the\nfiber orientation tensor in the global coordinate system.\n\nFor more details about the fiber orientation tensor, refer to the Short\nFiber Composites help.\n\n::: {.note}\n::: {.title}\nNote\n:::\n\nTo run this example you first need to install the SciPy package.\n:::\n"
      ]
    },
    {
      "cell_type": "markdown",
      "metadata": {},
      "source": [
        "Set up analysis\n===============\n\nSetting up the analysis consists of loading Ansys libraries, connecting\nto the DPF server, and retrieving the example files.\n\nLoad Ansys libraries.\n"
      ]
    },
    {
      "cell_type": "code",
      "execution_count": null,
      "metadata": {
        "collapsed": false
      },
      "outputs": [],
      "source": [
        "import ansys.dpf.core as dpf\nimport numpy as np\nfrom scipy.spatial.transform import Rotation\n\nfrom ansys.dpf.composites.example_helper import get_short_fiber_example_files\nfrom ansys.dpf.composites.server_helpers import connect_to_or_start_server"
      ]
    },
    {
      "cell_type": "markdown",
      "metadata": {},
      "source": [
        "Start a DPF server and copy the example files into the current working\ndirectory. These files are needed:\n\n-   Mechanical APDL result (RST) file containing the simulation results\n-   Mechanical APDL input file (DS.DAT) containing the fiber orientation\n    tensor data\n"
      ]
    },
    {
      "cell_type": "code",
      "execution_count": null,
      "metadata": {
        "collapsed": false
      },
      "outputs": [],
      "source": [
        "server = connect_to_or_start_server()\ncomposite_files_on_server = get_short_fiber_example_files(server, \"short_fiber\")"
      ]
    },
    {
      "cell_type": "markdown",
      "metadata": {},
      "source": [
        "Set up data sources\n===================\n\nSet up the data sources.\n"
      ]
    },
    {
      "cell_type": "code",
      "execution_count": null,
      "metadata": {
        "collapsed": false
      },
      "outputs": [],
      "source": [
        "data_sources = dpf.DataSources()\ndata_sources.add_file_path(composite_files_on_server.dsdat, \"dat\")\ndata_sources.set_result_file_path(composite_files_on_server.rst)"
      ]
    },
    {
      "cell_type": "markdown",
      "metadata": {},
      "source": [
        "Initialize DPF model\n====================\n\nInitialize the DPF model.\n"
      ]
    },
    {
      "cell_type": "code",
      "execution_count": null,
      "metadata": {
        "collapsed": false
      },
      "outputs": [],
      "source": [
        "model = dpf.Model(data_sources=data_sources)\nmesh = model.metadata.meshed_region"
      ]
    },
    {
      "cell_type": "markdown",
      "metadata": {},
      "source": [
        "Should your mesh contain both solid and shell elements, for\nvisualization purposes it can be useful to scope the mesh to the solid\nones.\n"
      ]
    },
    {
      "cell_type": "code",
      "execution_count": null,
      "metadata": {
        "collapsed": false
      },
      "outputs": [],
      "source": [
        "# solid_scoping_op = dpf.operators.scoping.on_mesh_property(\n#   property_name='solid_elements',\n#   mesh=mesh,\n# )\n# solid_mesh = dpf.operators.mesh.from_scoping(\n#   scoping=solid_scoping_op.outputs.mesh_scoping(),\n#   mesh=model.metadata.mesh_provider,\n# ).outputs.mesh()"
      ]
    },
    {
      "cell_type": "markdown",
      "metadata": {},
      "source": [
        "Plot input data\n===============\n\nPlot the two largest eigenvalues (a11 and a22) of the fiber orientation\ntensor. Note that the plots reveal the presence of a weld line in the\nmiddle of the specimen.\n"
      ]
    },
    {
      "cell_type": "code",
      "execution_count": null,
      "metadata": {
        "collapsed": false
      },
      "outputs": [],
      "source": [
        "field_variable_provider = dpf.Operator(\"composite::inistate_field_variables_provider\")\nfield_variable_provider.inputs.data_sources(data_sources)\nfield_variable_provider.inputs.mesh(mesh)\n\nfield_variable_dict = {\n    fv.name: fv for fv in field_variable_provider.outputs.fields_container.get_data()\n}\n\nA11_NAME = \"Orientation Tensor A11\"\nA22_NAME = \"Orientation Tensor A22\"\n\na11 = field_variable_dict[A11_NAME]\na11.plot()\n\na22 = field_variable_dict[A22_NAME]\na22.plot()"
      ]
    },
    {
      "cell_type": "markdown",
      "metadata": {},
      "source": [
        "Compute results\n===============\n\nReconstruct the fiber orientation tensor in the global coordinate\nsystem.\n"
      ]
    },
    {
      "cell_type": "code",
      "execution_count": null,
      "metadata": {
        "collapsed": false
      },
      "outputs": [],
      "source": [
        "element_ids = a11.scoping.ids\n# Alternatively, you could for instance scope to a named selection with\n# >>> element_ids = model.metadata.meshed_region.named_selection('CENTER').ids\n\n# Define the fiber orientation tensor in the global coordinate system\n# as a symmetrical 3x3 tensor with components XX,YY,ZZ,XY,YZ,XZ.\nfiber_orientation_tensor = dpf.fields_factory.create_tensor_field(\n    num_entities=len(element_ids), location=dpf.locations.elemental\n)\n\nele_orientation_op = dpf.operators.result.element_orientations(\n    data_sources=data_sources, requested_location=\"Elemental\", bool_rotate_to_global=False\n)\n\neuler_angles_field = ele_orientation_op.outputs.fields_container()[0]\nfor eid in element_ids:\n    V = Rotation.from_euler(\n        seq=\"ZXY\", angles=euler_angles_field.get_entity_data_by_id(eid)[0], degrees=True\n    ).as_matrix()\n    d1 = a11.get_entity_data_by_id(eid)[0]\n    d2 = a22.get_entity_data_by_id(eid)[0]\n    D = np.diag([d1, d2, max(1.0 - d1 - d2, 0.0)])\n    aRot = np.matmul(np.matmul(V, D), V.transpose())\n    fiber_orientation_tensor.append(\n        [aRot[0, 0], aRot[1, 1], aRot[2, 2], aRot[0, 1], aRot[1, 2], aRot[0, 2]], eid\n    )\n\nfiber_orientation_tensor_fc = dpf.operators.utility.field_to_fc(\n    field=fiber_orientation_tensor\n).outputs.fields_container()"
      ]
    },
    {
      "cell_type": "markdown",
      "metadata": {},
      "source": [
        "Plot results\n============\n\nPlot some components of the fiber orientation tensor.\n"
      ]
    },
    {
      "cell_type": "code",
      "execution_count": null,
      "metadata": {
        "collapsed": false
      },
      "outputs": [],
      "source": [
        "aXX = fiber_orientation_tensor_fc.select_component(0)[0]\naYY = fiber_orientation_tensor_fc.select_component(1)[0]\naXZ = fiber_orientation_tensor_fc.select_component(5)[0]\n\nmesh.plot(aXX, title=\"Axx\", text=\"Axx plot\")\nmesh.plot(aYY, title=\"Ayy\", text=\"Ayy plot\")\nmesh.plot(aXZ, title=\"Axz\", text=\"Axz plot\")"
      ]
    }
  ],
  "metadata": {
    "kernelspec": {
      "display_name": "Python 3",
      "language": "python",
      "name": "python3"
    },
    "language_info": {
      "codemirror_mode": {
        "name": "ipython",
        "version": 3
      },
      "file_extension": ".py",
      "mimetype": "text/x-python",
      "name": "python",
      "nbconvert_exporter": "python",
      "pygments_lexer": "ipython3",
      "version": "3.9.17"
    }
  },
  "nbformat": 4,
  "nbformat_minor": 0
}