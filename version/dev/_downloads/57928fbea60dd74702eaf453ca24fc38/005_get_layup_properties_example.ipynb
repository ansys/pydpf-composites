{
  "cells": [
    {
      "cell_type": "markdown",
      "metadata": {},
      "source": [
        "# Lay-up properties {#layup_properties_plot}\n\nThis example shows how to efficiently extract elemental lay-up\nproperties such as thickness, angles, and analysis ply names. These are\ntypically used for layer-wise postprocessing and data filtering.\n\nTo get the full layer information of an element, including results,\nconsider using the `SamplingPoint <.SamplingPoint>`{.interpreted-text\nrole=\"class\"} class.\n\n::: note\n::: title\nNote\n:::\n\nWhen using a Workbench project, use the\n`.composite_files_from_workbench_harmonic_analysis`{.interpreted-text\nrole=\"func\"} method to obtain the input files.\n:::\n"
      ]
    },
    {
      "cell_type": "markdown",
      "metadata": {},
      "source": [
        "# Set up analysis\n\nSetting up the analysis consists of importing dependencies, connecting\nto the DPF server, and retrieving the example files.\n\nImport dependencies.\n"
      ]
    },
    {
      "cell_type": "code",
      "execution_count": null,
      "metadata": {
        "collapsed": false
      },
      "outputs": [],
      "source": [
        "from matplotlib import pyplot as plt\nimport numpy as np\n\nfrom ansys.dpf.composites.composite_model import CompositeModel, LayerProperty\nfrom ansys.dpf.composites.example_helper import get_continuous_fiber_example_files\nfrom ansys.dpf.composites.server_helpers import connect_to_or_start_server"
      ]
    },
    {
      "cell_type": "markdown",
      "metadata": {},
      "source": [
        "Start a DPF server and copy the example files into the current working\ndirectory.\n"
      ]
    },
    {
      "cell_type": "code",
      "execution_count": null,
      "metadata": {
        "collapsed": false
      },
      "outputs": [],
      "source": [
        "server = connect_to_or_start_server()\ncomposite_files_on_server = get_continuous_fiber_example_files(server, \"shell\")"
      ]
    },
    {
      "cell_type": "markdown",
      "metadata": {},
      "source": [
        "# Set up model\n\nSet up the composite model.\n"
      ]
    },
    {
      "cell_type": "code",
      "execution_count": null,
      "metadata": {
        "collapsed": false
      },
      "outputs": [],
      "source": [
        "composite_model = CompositeModel(composite_files_on_server, server)"
      ]
    },
    {
      "cell_type": "markdown",
      "metadata": {},
      "source": [
        "# Get lay-up properties\n\nGet lay-up properties for all elements and show the first one as an\nexample.\n"
      ]
    },
    {
      "cell_type": "code",
      "execution_count": null,
      "metadata": {
        "collapsed": false
      },
      "outputs": [],
      "source": [
        "element_id = 1\nthicknesses = composite_model.get_property_for_all_layers(LayerProperty.THICKNESSES, element_id)\nangles = composite_model.get_property_for_all_layers(LayerProperty.ANGLES, element_id)\nshear_angles = composite_model.get_property_for_all_layers(LayerProperty.SHEAR_ANGLES, element_id)\noffset = composite_model.get_element_laminate_offset(element_id)\nanalysis_plies = composite_model.get_analysis_plies(element_id)"
      ]
    },
    {
      "cell_type": "markdown",
      "metadata": {},
      "source": [
        "# Plot lay-up properties\n\nPlot basic layer properties (layer thicknesses, angles, and analysis ply\nnames).\n"
      ]
    },
    {
      "cell_type": "code",
      "execution_count": null,
      "metadata": {
        "collapsed": false
      },
      "outputs": [],
      "source": [
        "y_coordinates = offset + np.cumsum(thicknesses)\ny_centers = y_coordinates - thicknesses / 2\n\nfig, ax1 = f, ax = plt.subplots(figsize=(6, 10))\n\nfor y_coordinate in y_coordinates:\n    ax1.axhline(y=y_coordinate, color=\"k\")\n\nfor angle, shear_angle, y_coordinate, analysis_ply in zip(\n    angles, shear_angles, y_centers, analysis_plies\n):\n    ax1.annotate(\n        f\"Angle={angle}\u00b0, Shear Angle={shear_angle}\u00b0, {analysis_ply}\",\n        xy=(0.1, y_coordinate),\n        xytext=(0.1, y_coordinate),\n    )\n\nfig.show()"
      ]
    }
  ],
  "metadata": {
    "kernelspec": {
      "display_name": "Python 3",
      "language": "python",
      "name": "python3"
    },
    "language_info": {
      "codemirror_mode": {
        "name": "ipython",
        "version": 3
      },
      "file_extension": ".py",
      "mimetype": "text/x-python",
      "name": "python",
      "nbconvert_exporter": "python",
      "pygments_lexer": "ipython3",
      "version": "3.13.3"
    }
  },
  "nbformat": 4,
  "nbformat_minor": 0
}