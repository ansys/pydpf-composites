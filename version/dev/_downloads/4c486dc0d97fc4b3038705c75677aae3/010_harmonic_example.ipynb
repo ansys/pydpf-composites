{
  "cells": [
    {
      "cell_type": "markdown",
      "metadata": {},
      "source": [
        "Postprocess a harmonic analysis {#harmonic_example}\n===============================\n\n::: {.note}\n::: {.title}\nNote\n:::\n\nWhen using a Workbench project, use the\n`.composite_files_from_workbench_harmonic_analysis`{.interpreted-text\nrole=\"func\"} method to obtain the input files.\n:::\n\nThis example shows how to evaluate failure criteria for a harmonic\nsimulation. It shows how to create a phase sweep to compute the maximum\nIRF in the frequency-phase space and shows how to identify the critical\nfailure mode and the critical layer.\n"
      ]
    },
    {
      "cell_type": "markdown",
      "metadata": {},
      "source": [
        "Set up analysis\n===============\n\nSetting up the analysis consists of loading the required modules,\nconnecting to the DPF server, and retrieving the example files.\n\nLoad Ansys libraries and matplotlib\n"
      ]
    },
    {
      "cell_type": "code",
      "execution_count": null,
      "metadata": {
        "collapsed": false
      },
      "outputs": [],
      "source": [
        "import ansys.dpf.core as dpf\nimport matplotlib.pyplot as plt\n\nfrom ansys.dpf.composites.composite_model import CompositeModel\nfrom ansys.dpf.composites.constants import FAILURE_LABEL, FailureOutput\nfrom ansys.dpf.composites.example_helper import get_continuous_fiber_example_files\nfrom ansys.dpf.composites.failure_criteria import (\n    CombinedFailureCriterion,\n    FailureModeEnum,\n    MaxStressCriterion,\n    TsaiWuCriterion,\n)\nfrom ansys.dpf.composites.layup_info.material_operators import get_material_operators\nfrom ansys.dpf.composites.server_helpers import connect_to_or_start_server\nfrom ansys.dpf.composites.unit_system import get_unit_system"
      ]
    },
    {
      "cell_type": "markdown",
      "metadata": {},
      "source": [
        "Start a DPF server and copy the example files into the current working\ndirectory.\n"
      ]
    },
    {
      "cell_type": "code",
      "execution_count": null,
      "metadata": {
        "collapsed": false
      },
      "outputs": [],
      "source": [
        "server = connect_to_or_start_server()\ncomposite_files_on_server = get_continuous_fiber_example_files(server, \"harmonic\")"
      ]
    },
    {
      "cell_type": "markdown",
      "metadata": {},
      "source": [
        "Create a composite model\n"
      ]
    },
    {
      "cell_type": "code",
      "execution_count": null,
      "metadata": {
        "collapsed": false
      },
      "outputs": [],
      "source": [
        "composite_model = CompositeModel(composite_files_on_server, server)"
      ]
    },
    {
      "cell_type": "markdown",
      "metadata": {},
      "source": [
        "Define a failure criterion\n"
      ]
    },
    {
      "cell_type": "code",
      "execution_count": null,
      "metadata": {
        "collapsed": false
      },
      "outputs": [],
      "source": [
        "combined_fc = CombinedFailureCriterion(\n    name=\"My Failure Criteria\",\n    failure_criteria=[\n        MaxStressCriterion(),\n        TsaiWuCriterion(),\n    ],\n)"
      ]
    },
    {
      "cell_type": "markdown",
      "metadata": {},
      "source": [
        "Obtain stresses and strains and compute max IRF over all phases and frequencies\n===============================================================================\n\nGet complex stresses and strains at all frequencies\n"
      ]
    },
    {
      "cell_type": "code",
      "execution_count": null,
      "metadata": {
        "collapsed": false
      },
      "outputs": [],
      "source": [
        "stress_operator = composite_model.core_model.results.stress.on_all_time_freqs()\nstress_operator.inputs.bool_rotate_to_global(False)\n\nstrain_operator = composite_model.core_model.results.elastic_strain.on_all_time_freqs()\nstrain_operator.inputs.bool_rotate_to_global(False)"
      ]
    },
    {
      "cell_type": "markdown",
      "metadata": {},
      "source": [
        "Get operators that provide material data\n"
      ]
    },
    {
      "cell_type": "code",
      "execution_count": null,
      "metadata": {
        "collapsed": false
      },
      "outputs": [],
      "source": [
        "material_operators = get_material_operators(\n    composite_model.data_sources.rst,\n    composite_model.data_sources.engineering_data,\n    get_unit_system(composite_model.data_sources.rst),\n)"
      ]
    },
    {
      "cell_type": "markdown",
      "metadata": {},
      "source": [
        "Define the frequency sweep. This is relatively coarse so the example\ndoes not take too much time.\n"
      ]
    },
    {
      "cell_type": "code",
      "execution_count": null,
      "metadata": {
        "collapsed": false
      },
      "outputs": [],
      "source": [
        "min_frequency = -180\nmax_frequency = 180\nfrequency_step = 60\nsweep_phases = range(min_frequency, max_frequency, frequency_step)"
      ]
    },
    {
      "cell_type": "markdown",
      "metadata": {},
      "source": [
        "Initialize result containers. We create a result container for the\nfailure value, the failure mode and the layer index in which the failure\noccurs.\n"
      ]
    },
    {
      "cell_type": "code",
      "execution_count": null,
      "metadata": {
        "collapsed": false
      },
      "outputs": [],
      "source": [
        "# This is a bit confusing, but DPF uses the same label for Frequency and Time\nFREQ_LABEL = \"time\"\nPHASE_LABEL = \"phase\"\nall_phases_and_freqs_failure_value_fc = dpf.FieldsContainer()\nall_phases_and_freqs_failure_value_fc.labels = [FREQ_LABEL, PHASE_LABEL]\n\nall_phases_and_freqs_critical_layer_fc = dpf.FieldsContainer()\nall_phases_and_freqs_critical_layer_fc.labels = [FREQ_LABEL, PHASE_LABEL]\n\nall_phases_and_freqs_failure_mode_fc = dpf.FieldsContainer()\nall_phases_and_freqs_failure_mode_fc.labels = [FREQ_LABEL, PHASE_LABEL]"
      ]
    },
    {
      "cell_type": "markdown",
      "metadata": {},
      "source": [
        "Loop over all the phases and evaluate the failure criterion. The result\nis added to the field containers declared in the previous cell. In the\nend each container contains a field for each combination of frequency\nand phase\n"
      ]
    },
    {
      "cell_type": "code",
      "execution_count": null,
      "metadata": {
        "collapsed": false
      },
      "outputs": [],
      "source": [
        "for phase in sweep_phases:\n    # Stress & strains at sweeping phase\n    stress_at_phase = dpf.operators.math.sweeping_phase_fc(\n        fields_container=stress_operator, angle=float(phase), unit_name=\"deg\", abs_value=False\n    )\n\n    strain_at_phase = dpf.operators.math.sweeping_phase_fc(\n        fields_container=strain_operator, angle=float(phase), unit_name=\"deg\", abs_value=False\n    )\n\n    failure_evaluator = dpf.Operator(\"composite::multiple_failure_criteria_operator\")\n    failure_evaluator.inputs.configuration(combined_fc.to_json())\n    failure_evaluator.inputs.materials_container(material_operators.material_provider)\n    failure_evaluator.inputs.stresses_container(stress_at_phase)\n    failure_evaluator.inputs.strains_container(strain_at_phase)\n    failure_evaluator.inputs.mesh(composite_model.get_mesh())\n\n    # Note: the min/max layer indices are 1-based starting with\n    # Workbench 2024 R1 (DPF server 7.1)\n    minmax_per_element = dpf.Operator(\"composite::minmax_per_element_operator\")\n    minmax_per_element.inputs.fields_container(failure_evaluator)\n    minmax_per_element.inputs.mesh(composite_model.get_mesh())\n    minmax_per_element.inputs.material_support(\n        material_operators.material_support_provider.outputs.abstract_field_support\n    )\n\n    max_for_all_frequencies_at_phase = minmax_per_element.outputs.field_max()\n\n    for frequency_id in max_for_all_frequencies_at_phase.get_time_scoping().ids:\n        output_label = {FREQ_LABEL: frequency_id, PHASE_LABEL: phase}\n        all_phases_and_freqs_failure_value_fc.add_field(\n            output_label,\n            max_for_all_frequencies_at_phase.get_field(\n                {FAILURE_LABEL: FailureOutput.FAILURE_VALUE.value, FREQ_LABEL: frequency_id}\n            ),\n        )\n        all_phases_and_freqs_critical_layer_fc.add_field(\n            output_label,\n            max_for_all_frequencies_at_phase.get_field(\n                {FAILURE_LABEL: FailureOutput.MAX_LAYER_INDEX.value, FREQ_LABEL: frequency_id}\n            ),\n        )\n\n        all_phases_and_freqs_failure_mode_fc.add_field(\n            output_label,\n            max_for_all_frequencies_at_phase.get_field(\n                {FAILURE_LABEL: FailureOutput.FAILURE_MODE.value, FREQ_LABEL: frequency_id}\n            ),\n        )"
      ]
    },
    {
      "cell_type": "markdown",
      "metadata": {},
      "source": [
        "Compute maximum over all the phases and frequencies for each element and\nplot the resulting IRF values\n"
      ]
    },
    {
      "cell_type": "code",
      "execution_count": null,
      "metadata": {
        "collapsed": false
      },
      "outputs": [],
      "source": [
        "min_max_over_all_op = dpf.operators.min_max.min_max_by_entity()\nmin_max_over_all_op.inputs.fields_container.connect(all_phases_and_freqs_failure_value_fc)\nmax_over_freq_and_phases_f = min_max_over_all_op.outputs.field_max()\n\ncomposite_model.core_model.metadata.meshed_region.plot(max_over_freq_and_phases_f)"
      ]
    },
    {
      "cell_type": "markdown",
      "metadata": {},
      "source": [
        "Detailed analysis of the critical element\n=========================================\n\nIdentify the element with the maximum IRF\n"
      ]
    },
    {
      "cell_type": "code",
      "execution_count": null,
      "metadata": {
        "collapsed": false
      },
      "outputs": [],
      "source": [
        "maximum_element_scoping = max_over_freq_and_phases_f.max().scoping\nmax_element_id = maximum_element_scoping[0]\nprint(f\"The element with highest IRF is {max_element_id}.\")"
      ]
    },
    {
      "cell_type": "markdown",
      "metadata": {},
      "source": [
        "Scope container with all frequencies and phases to critical element so\nwe can plot the critical IRF over all the frequencies\n"
      ]
    },
    {
      "cell_type": "code",
      "execution_count": null,
      "metadata": {
        "collapsed": false
      },
      "outputs": [],
      "source": [
        "rescope_to_crit_element_op = dpf.operators.scoping.rescope_fc()\nrescope_to_crit_element_op.inputs.fields_container.connect(all_phases_and_freqs_failure_value_fc)\nrescope_to_crit_element_op.inputs.mesh_scoping.connect(maximum_element_scoping)\nall_phases_and_freqs_critical_element_fc = rescope_to_crit_element_op.outputs.fields_container()"
      ]
    },
    {
      "cell_type": "markdown",
      "metadata": {},
      "source": [
        "Compute the maximum IRF over all the phases for each frequency and plot\nthe result for the critical element. Note: this can be different from\nmaximum overall IRF at each frequency, because we look only at the\nelement that has the highest IRF overall.\n"
      ]
    },
    {
      "cell_type": "code",
      "execution_count": null,
      "metadata": {
        "collapsed": false
      },
      "outputs": [],
      "source": [
        "min_max_over_phases_op = dpf.operators.min_max.min_max_over_label_fc()\nmin_max_over_phases_op.inputs.fields_container.connect(all_phases_and_freqs_critical_element_fc)\nmin_max_over_phases_op.inputs.label.connect(FREQ_LABEL)\nmax_value_for_each_freq_crit_element = min_max_over_phases_op.outputs.field_max()\n\nfig, axs = plt.subplots(1)\n\nfrequencies = composite_model.core_model.metadata.time_freq_support.time_frequencies.data\naxs.set_xlabel(\"Frequency (1/s)\")\naxs.set_ylabel(\"Max IRF in critical element (-)\")\naxs.plot(frequencies, max_value_for_each_freq_crit_element.data)"
      ]
    },
    {
      "cell_type": "markdown",
      "metadata": {},
      "source": [
        "Compute the critical phase\n"
      ]
    },
    {
      "cell_type": "code",
      "execution_count": null,
      "metadata": {
        "collapsed": false
      },
      "outputs": [],
      "source": [
        "freq_id_highest_IRF = max_value_for_each_freq_crit_element.max().scoping[0]\nindex_highest_IRF = max_value_for_each_freq_crit_element.scoping.index(freq_id_highest_IRF)\ncritical_phases_over_freqs = min_max_over_phases_op.outputs.domain_ids_max()\ncritical_phase_at_critical_freq = critical_phases_over_freqs[index_highest_IRF]\nprint(f\"The phase with the highest IRF is {critical_phase_at_critical_freq}\u00b0.\")"
      ]
    },
    {
      "cell_type": "markdown",
      "metadata": {},
      "source": [
        "Compute critical layer and critical failure mode.\n"
      ]
    },
    {
      "cell_type": "code",
      "execution_count": null,
      "metadata": {
        "collapsed": false
      },
      "outputs": [],
      "source": [
        "max_layer_at_critical_phase_and_time_f = all_phases_and_freqs_critical_layer_fc.get_field(\n    {FREQ_LABEL: freq_id_highest_IRF, PHASE_LABEL: critical_phase_at_critical_freq}\n)\nmax_layer_index = max_layer_at_critical_phase_and_time_f.get_entity_data_by_id(max_element_id)[0]\nall_analyis_plies = composite_model.get_analysis_plies(max_element_id)\ncritical_ply_name = all_analyis_plies[int(max_layer_index)]\n\nmode_at_critical_phase_and_time_f = all_phases_and_freqs_failure_mode_fc.get_field(\n    {FREQ_LABEL: freq_id_highest_IRF, PHASE_LABEL: critical_phase_at_critical_freq}\n)\ncritical_mode = mode_at_critical_phase_and_time_f.get_entity_data_by_id(max_element_id)[0]\n\nprint(f\"The critical ply is {critical_ply_name}.\")\nprint(f\"The maximum IRF is {max_over_freq_and_phases_f.max().data[0]}.\")\nprint(f\"The critical failure mode is {FailureModeEnum(int(critical_mode)).name}.\")"
      ]
    }
  ],
  "metadata": {
    "kernelspec": {
      "display_name": "Python 3",
      "language": "python",
      "name": "python3"
    },
    "language_info": {
      "codemirror_mode": {
        "name": "ipython",
        "version": 3
      },
      "file_extension": ".py",
      "mimetype": "text/x-python",
      "name": "python",
      "nbconvert_exporter": "python",
      "pygments_lexer": "ipython3",
      "version": "3.12.4"
    }
  },
  "nbformat": 4,
  "nbformat_minor": 0
}