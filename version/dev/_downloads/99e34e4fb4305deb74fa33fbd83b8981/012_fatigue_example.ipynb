{
  "cells": [
    {
      "cell_type": "markdown",
      "metadata": {},
      "source": [
        "Evaluate fatigue for a composite plate {#fatigue_plate_example}\n======================================\n\nThis example shows how to evaluate fatigue for a flat plate. It shows\nhow you can use PyPDF Composites to select specific layers and define a\ncustom combination method. For this example, the custom combination\nmethod is stress in fibre direction.\n\nA random load time series is created. Taking into account that the load\nis assumed proportional, rainflow counting is applied to the load time\nseries. Load ranges are then applied on the stress combination method,\nand damage is evaluated by using a dummy S-N curve.\n\nBe aware that the fatpack package is not developed by Ansys, so it is\nthe responsibility of the user to verify that it works as expected. For\nmore information, see the [fatpack\npackage](https://pypi.org/project/fatpack/),\n\n::: {.note}\n::: {.title}\nNote\n:::\n\nWhen using a Workbench project, use the\n`.composite_files_from_workbench_harmonic_analysis`{.interpreted-text\nrole=\"func\"} method to obtain the input files.\n:::\n"
      ]
    },
    {
      "cell_type": "markdown",
      "metadata": {},
      "source": [
        "Set up analysis\n===============\n\nSetting up the analysis consists of loading the required modules,\nconnecting to the DPF server, and retrieving the example files.\n\nLoad Ansys libraries and numpy, matplotlib and fatpack\n"
      ]
    },
    {
      "cell_type": "code",
      "execution_count": null,
      "metadata": {
        "collapsed": false
      },
      "outputs": [],
      "source": [
        "import ansys.dpf.core as dpf\nimport fatpack\nimport matplotlib.pyplot as plt\nimport numpy as np\n\nfrom ansys.dpf.composites.composite_model import CompositeModel\nfrom ansys.dpf.composites.constants import Sym3x3TensorComponent\nfrom ansys.dpf.composites.example_helper import get_continuous_fiber_example_files\nfrom ansys.dpf.composites.layup_info import AnalysisPlyInfoProvider\nfrom ansys.dpf.composites.select_indices import get_selected_indices_by_analysis_ply\nfrom ansys.dpf.composites.server_helpers import connect_to_or_start_server"
      ]
    },
    {
      "cell_type": "markdown",
      "metadata": {},
      "source": [
        "Start a DPF server and copy the example files into the current working\ndirectory.\n"
      ]
    },
    {
      "cell_type": "code",
      "execution_count": null,
      "metadata": {
        "collapsed": false
      },
      "outputs": [],
      "source": [
        "server = connect_to_or_start_server()\ncomposite_files_on_server = get_continuous_fiber_example_files(server, \"fatigue\")"
      ]
    },
    {
      "cell_type": "markdown",
      "metadata": {},
      "source": [
        "Create a composite model\n"
      ]
    },
    {
      "cell_type": "code",
      "execution_count": null,
      "metadata": {
        "collapsed": false
      },
      "outputs": [],
      "source": [
        "composite_model = CompositeModel(composite_files_on_server, server)"
      ]
    },
    {
      "cell_type": "markdown",
      "metadata": {},
      "source": [
        "Read stresses and define a specific layer and a component of stress tensor\n==========================================================================\n"
      ]
    },
    {
      "cell_type": "markdown",
      "metadata": {},
      "source": [
        "Read stresses\n"
      ]
    },
    {
      "cell_type": "code",
      "execution_count": null,
      "metadata": {
        "collapsed": false
      },
      "outputs": [],
      "source": [
        "stress_operator = composite_model.core_model.results.stress()\nstress_operator.inputs.bool_rotate_to_global(False)\nstress_fc = stress_operator.get_output(pin=0, output_type=dpf.types.fields_container)\nstress_field = stress_fc.get_field_by_time_id(1)"
      ]
    },
    {
      "cell_type": "markdown",
      "metadata": {},
      "source": [
        "Select layer P1L1\\_\\_ModelingPly.2\n"
      ]
    },
    {
      "cell_type": "code",
      "execution_count": null,
      "metadata": {
        "collapsed": false
      },
      "outputs": [],
      "source": [
        "analysis_ply_info_provider = AnalysisPlyInfoProvider(\n    mesh=composite_model.get_mesh(), name=\"P1L1__ModelingPly.2\"\n)"
      ]
    },
    {
      "cell_type": "markdown",
      "metadata": {},
      "source": [
        "Select Sigma11 as the combination method\n"
      ]
    },
    {
      "cell_type": "code",
      "execution_count": null,
      "metadata": {
        "collapsed": false
      },
      "outputs": [],
      "source": [
        "component = Sym3x3TensorComponent.TENSOR11"
      ]
    },
    {
      "cell_type": "markdown",
      "metadata": {},
      "source": [
        "Load time series and apply rainflow counting\n============================================\n\nA random time series is created. Load is assumed proportional, so\nrainflow counting can be directly done on the load time series to get\nthe load ranges. No mean stress correction is applied.\n"
      ]
    },
    {
      "cell_type": "code",
      "execution_count": null,
      "metadata": {
        "collapsed": false
      },
      "outputs": [],
      "source": [
        "number_of_times = 100\nload_factor_time_series = np.random.normal(-1, 2.5, size=number_of_times)\nx = np.linspace(1, number_of_times, number_of_times)\nplt.xlabel(\"Load Index\")\nplt.ylabel(\"Load Factor\")\nplt.plot(x, load_factor_time_series, color=\"red\")"
      ]
    },
    {
      "cell_type": "markdown",
      "metadata": {},
      "source": [
        "Fatpack package is used for doing the rainflow counting\n"
      ]
    },
    {
      "cell_type": "code",
      "execution_count": null,
      "metadata": {
        "collapsed": false
      },
      "outputs": [],
      "source": [
        "load_range_factors = fatpack.find_rainflow_ranges(load_factor_time_series)"
      ]
    },
    {
      "cell_type": "markdown",
      "metadata": {},
      "source": [
        "S-N curve\n=========\n\nA dummy S-N curve is created. Note that this curve is not based on any\nexperimental data. Sc is chosen to be twice the orthotropic stress limit\nin the fiber direction. and Nc is set to 1.\n"
      ]
    },
    {
      "cell_type": "code",
      "execution_count": null,
      "metadata": {
        "collapsed": false
      },
      "outputs": [],
      "source": [
        "Sc = 2 * 1979\nNc = 1\ns_n_curve = fatpack.LinearEnduranceCurve(Sc)\n# Value for UD materials\ns_n_curve.m = 14\ns_n_curve.Nc = Nc\n\nN = np.logspace(0, 9, 1000)\nS = s_n_curve.get_stress(N)\nline = plt.loglog(N, S)\nplt.grid(which=\"both\")\nplt.title(\"Dummy Linear S-N curve\")\nplt.xlabel(\"Cycles to failure\")\nplt.ylabel(\"Stress range (MPa)\")"
      ]
    },
    {
      "cell_type": "markdown",
      "metadata": {},
      "source": [
        "Damage evaluation\n=================\n\nStress S11 at time 1 and layer P1L1\\_\\_ModelingPly.2 are read for each\nload range. Its damage is evaluated using the dummy S-N curve.\n"
      ]
    },
    {
      "cell_type": "code",
      "execution_count": null,
      "metadata": {
        "collapsed": false
      },
      "outputs": [],
      "source": [
        "damage_result_field = dpf.field.Field(location=dpf.locations.elemental, nature=dpf.natures.scalar)\n\nwith damage_result_field.as_local_field() as local_result_field:\n    element_ids = analysis_ply_info_provider.property_field.scoping.ids\n\n    for element_id in element_ids:\n        stress_data = stress_field.get_entity_data_by_id(element_id)\n        element_info = composite_model.get_element_info(element_id)\n        assert element_info is not None\n        selected_indices = get_selected_indices_by_analysis_ply(\n            analysis_ply_info_provider, element_info\n        )\n        # Load Range scaled by S11\n        s_11 = max(stress_data[selected_indices][:, component])\n        stress_ranges = load_range_factors * s_11\n        fatigue_damage = s_n_curve.find_miner_sum(stress_ranges)\n        local_result_field.append([fatigue_damage], element_id)"
      ]
    },
    {
      "cell_type": "markdown",
      "metadata": {},
      "source": [
        "Plot damage\n"
      ]
    },
    {
      "cell_type": "code",
      "execution_count": null,
      "metadata": {
        "collapsed": false
      },
      "outputs": [],
      "source": [
        "composite_model.get_mesh().plot(damage_result_field, text=\"Fatigue Damage\")"
      ]
    },
    {
      "cell_type": "markdown",
      "metadata": {},
      "source": [
        "Identify the element with the maximum damage\n============================================\n"
      ]
    },
    {
      "cell_type": "code",
      "execution_count": null,
      "metadata": {
        "collapsed": false
      },
      "outputs": [],
      "source": [
        "maximum_element_scoping = damage_result_field.max().scoping\nmax_element_id = maximum_element_scoping[0]\nprint(f\"The element with highest damage is {max_element_id}.\")\nprint(f\"The highest damage value is {damage_result_field.max().data[0]}.\")"
      ]
    }
  ],
  "metadata": {
    "kernelspec": {
      "display_name": "Python 3",
      "language": "python",
      "name": "python3"
    },
    "language_info": {
      "codemirror_mode": {
        "name": "ipython",
        "version": 3
      },
      "file_extension": ".py",
      "mimetype": "text/x-python",
      "name": "python",
      "nbconvert_exporter": "python",
      "pygments_lexer": "ipython3",
      "version": "3.12.7"
    }
  },
  "nbformat": 4,
  "nbformat_minor": 0
}