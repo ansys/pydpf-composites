{
  "cells": [
    {
      "cell_type": "code",
      "execution_count": null,
      "metadata": {
        "collapsed": false
      },
      "outputs": [],
      "source": [
        "%matplotlib inline"
      ]
    },
    {
      "cell_type": "markdown",
      "metadata": {},
      "source": [
        "Filter result data by different criteria {#filter_composite_data}\n========================================\n\nThis example show how data filtering can be used for custom\npostprocessing of layered composites. You can filter strains and\nstresses by material, layer, or analysis ply. The example filters data\nby layer, spot, and node, as well as material or analysis ply ID. To\nlearn more about how layered result data is organized, see\n`select_indices`{.interpreted-text role=\"ref\"}.\n"
      ]
    },
    {
      "cell_type": "markdown",
      "metadata": {},
      "source": [
        "Set up analysis\n===============\n\nSetting up the analysis consists of importing dependencies, connecting\nto the DPF server, and retrieving the example files.\n\nImport dependencies.\n"
      ]
    },
    {
      "cell_type": "code",
      "execution_count": null,
      "metadata": {
        "collapsed": false
      },
      "outputs": [],
      "source": [
        "import ansys.dpf.core as dpf\nimport numpy as np\n\nfrom ansys.dpf.composites.composite_model import CompositeModel\nfrom ansys.dpf.composites.constants import Spot, Sym3x3TensorComponent\nfrom ansys.dpf.composites.example_helper import get_continuous_fiber_example_files\nfrom ansys.dpf.composites.layup_info import (\n    AnalysisPlyInfoProvider,\n    get_all_analysis_ply_names,\n    get_dpf_material_id_by_analyis_ply_map,\n)\nfrom ansys.dpf.composites.select_indices import (\n    get_selected_indices,\n    get_selected_indices_by_analysis_ply,\n    get_selected_indices_by_dpf_material_ids,\n)\nfrom ansys.dpf.composites.server_helpers import connect_to_or_start_server"
      ]
    },
    {
      "cell_type": "markdown",
      "metadata": {},
      "source": [
        "Start a DPF server and copy the example files into the current working\ndirectory.\n"
      ]
    },
    {
      "cell_type": "code",
      "execution_count": null,
      "metadata": {
        "collapsed": false
      },
      "outputs": [],
      "source": [
        "server = connect_to_or_start_server()\ncomposite_files_on_server = get_continuous_fiber_example_files(server, \"shell\")"
      ]
    },
    {
      "cell_type": "markdown",
      "metadata": {},
      "source": [
        "Set up model\n============\n\nSet up the composite model.\n"
      ]
    },
    {
      "cell_type": "code",
      "execution_count": null,
      "metadata": {
        "collapsed": false
      },
      "outputs": [],
      "source": [
        "composite_model = CompositeModel(composite_files_on_server, server)"
      ]
    },
    {
      "cell_type": "markdown",
      "metadata": {},
      "source": [
        "Get result data\n===============\n\nGet the stress field.\n"
      ]
    },
    {
      "cell_type": "code",
      "execution_count": null,
      "metadata": {
        "collapsed": false
      },
      "outputs": [],
      "source": [
        "stress_operator = composite_model.core_model.results.stress()\nstress_operator.inputs.bool_rotate_to_global(False)\nstress_field = stress_operator.get_output(pin=0, output_type=dpf.types.fields_container)[0]"
      ]
    },
    {
      "cell_type": "markdown",
      "metadata": {},
      "source": [
        "Get element information for all elements and show the first one as an\nexample.\n"
      ]
    },
    {
      "cell_type": "code",
      "execution_count": null,
      "metadata": {
        "collapsed": false
      },
      "outputs": [],
      "source": [
        "element_ids = stress_field.scoping.ids\nelement_infos = [composite_model.get_element_info(element_id) for element_id in element_ids]\nelement_infos[0]"
      ]
    },
    {
      "cell_type": "markdown",
      "metadata": {},
      "source": [
        "Plot result data\n================\n\nFor the top layer, plot stress values in the material direction for the\nfirst node and top spot.\n"
      ]
    },
    {
      "cell_type": "code",
      "execution_count": null,
      "metadata": {
        "collapsed": false
      },
      "outputs": [],
      "source": [
        "component = Sym3x3TensorComponent.TENSOR11\nresult_field = dpf.field.Field(location=dpf.locations.elemental, nature=dpf.natures.scalar)\nwith result_field.as_local_field() as local_result_field:\n    element_ids = stress_field.scoping.ids\n    for element_id in element_ids:\n        stress_data = stress_field.get_entity_data_by_id(element_id)\n        element_info = composite_model.get_element_info(element_id)\n        assert element_info is not None\n        selected_indices = get_selected_indices(\n            element_info, layers=[element_info.n_layers - 1], nodes=[0], spots=[Spot.TOP]\n        )\n\n        value = stress_data[selected_indices][:, component]\n        local_result_field.append(value, element_id)\n\ncomposite_model.get_mesh().plot(result_field)"
      ]
    },
    {
      "cell_type": "markdown",
      "metadata": {},
      "source": [
        "List analysis plies\n===================\n\nList all available analysis plies.\n"
      ]
    },
    {
      "cell_type": "code",
      "execution_count": null,
      "metadata": {
        "collapsed": false
      },
      "outputs": [],
      "source": [
        "all_ply_names = get_all_analysis_ply_names(composite_model.get_mesh())\nall_ply_names"
      ]
    },
    {
      "cell_type": "markdown",
      "metadata": {},
      "source": [
        "Plot results\n============\n\nLoop all elements that contain a given ply and plot the maximum stress\nvalue in the material direction in this ply.\n"
      ]
    },
    {
      "cell_type": "code",
      "execution_count": null,
      "metadata": {
        "collapsed": false
      },
      "outputs": [],
      "source": [
        "component = Sym3x3TensorComponent.TENSOR11\n\nanalysis_ply_info_provider = AnalysisPlyInfoProvider(\n    mesh=composite_model.get_mesh(), name=\"P1L1__ud_patch ns1\"\n)\nply_result_field = dpf.field.Field(location=dpf.locations.elemental, nature=dpf.natures.scalar)\nwith ply_result_field.as_local_field() as local_result_field:\n    element_ids = analysis_ply_info_provider.property_field.scoping.ids\n\n    for element_id in element_ids:\n        stress_data = stress_field.get_entity_data_by_id(element_id)\n        element_info = composite_model.get_element_info(element_id)\n        assert element_info is not None\n        selected_indices = get_selected_indices_by_analysis_ply(\n            analysis_ply_info_provider, element_info\n        )\n\n        value = np.max(stress_data[selected_indices][:, component])\n        local_result_field.append([value], element_id)\n\n\ncomposite_model.get_mesh().plot(ply_result_field)"
      ]
    },
    {
      "cell_type": "markdown",
      "metadata": {},
      "source": [
        "Loop all elements and get the maximum stress in the material direction\nfor all plies that have a material with DPF material ID. Note: It is not\npossible to get a DPF material ID for a given material name. It is only\npossible to get a DPF material ID from an analysis ply.\n"
      ]
    },
    {
      "cell_type": "code",
      "execution_count": null,
      "metadata": {
        "collapsed": false
      },
      "outputs": [],
      "source": [
        "material_map = get_dpf_material_id_by_analyis_ply_map(\n    composite_model.get_mesh(), data_source_or_streams_provider=composite_model.data_sources.rst\n)\nud_material_id = material_map[\"P1L1__ud_patch ns1\"]\ncomponent = Sym3x3TensorComponent.TENSOR11\n\nmaterial_result_field = dpf.field.Field(location=dpf.locations.elemental, nature=dpf.natures.scalar)\nwith material_result_field.as_local_field() as local_result_field:\n    element_ids = analysis_ply_info_provider.property_field.scoping.ids\n\n    for element_id in element_ids:\n        stress_data = stress_field.get_entity_data_by_id(element_id)\n        element_info = composite_model.get_element_info(element_id)\n        assert element_info is not None\n\n        selected_indices = get_selected_indices_by_dpf_material_ids(element_info, [ud_material_id])\n\n        value = np.max(stress_data[selected_indices][:, component])\n        local_result_field.append([value], element_id)\n\ncomposite_model.get_mesh().plot(material_result_field)"
      ]
    }
  ],
  "metadata": {
    "kernelspec": {
      "display_name": "Python 3",
      "language": "python",
      "name": "python3"
    },
    "language_info": {
      "codemirror_mode": {
        "name": "ipython",
        "version": 3
      },
      "file_extension": ".py",
      "mimetype": "text/x-python",
      "name": "python",
      "nbconvert_exporter": "python",
      "pygments_lexer": "ipython3",
      "version": "3.9.17"
    }
  },
  "nbformat": 4,
  "nbformat_minor": 0
}