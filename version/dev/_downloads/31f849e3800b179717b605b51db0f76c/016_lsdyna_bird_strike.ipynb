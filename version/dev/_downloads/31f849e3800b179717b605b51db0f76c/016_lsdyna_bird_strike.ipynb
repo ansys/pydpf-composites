{
  "cells": [
    {
      "cell_type": "markdown",
      "metadata": {},
      "source": [
        "# LS-Dyna Bird Strike {#lsdyna_bird_strike}\n\nThis example shows how to set up the composite model for a LSDyna\nanalysis, how to post-process it and how to filter the results. The\nsimulation uses SPH (Smooth Particle Hydrodynamics) to mimic a bird\nstrike on a leading edge of a composite wing.\n\nAdditional steps are required to process LS-Dyna results if compared\nwith a Mechanical APDL analysis.\n\nOn the **pre-processing side**, these are:\n\n:   -   The input file must be generated with WB LS Dyna\n    -   In WB Mechanical, enable the beta options and\n        `Output Integration Points Results for All ACP Plies` or\n        manually set MAXINT of the keyword `DATABASE_EXTENT_BINARY` to\n        the maximum number of plies.\n\nAnd these items must be considered on setting up the **post-processing**:\n\n:   -   On initializing the composite model, these properties of\n        `.ContinuousFiberCompositesFiles`{.interpreted-text\n        role=\"class\"} must be set: `solver_type` to `LSDYNA` and\n        `solver_input_file` must point to the keyword file (for instance\n        `input.k`).\n    -   The number of maximum integration points (MAXINT) has to be\n        extracted from the keyword file. See\n        `composite::ls_dyna_keyword_parser` operator.\n    -   The results (stress, strain, history variable etc.) must be\n        pre-processed to support ply-wise filtering and to make them\n        consistent with the layup model. See\n        `composite::ls_dyna_preparing_results` operator.\n\nNote:\n\n:   -   Use the\n        `.get_composite_files_from_workbench_result_folder`{.interpreted-text\n        role=\"func\"} to get the composite files from a WB LS-Dyna result\n        folder. Set `solver_type` to `LSDYNA`.\n    -   Only the first d3plot file must be passed to the composite\n        model. The LSDyna reader will automatically pick up the other\n        files.\n"
      ]
    },
    {
      "cell_type": "markdown",
      "metadata": {},
      "source": [
        "# Set up analysis\n\nSetup of the analysis and initialize the composite model.\n"
      ]
    },
    {
      "cell_type": "code",
      "execution_count": null,
      "metadata": {
        "collapsed": false
      },
      "outputs": [],
      "source": [
        "import json\n\nimport ansys.dpf.core as dpf\nfrom ansys.dpf.core import Operator, unit_systems\n\nfrom ansys.dpf.composites.composite_model import CompositeModel\nfrom ansys.dpf.composites.constants import Sym3x3TensorComponent\nfrom ansys.dpf.composites.example_helper import get_continuous_fiber_example_files\nfrom ansys.dpf.composites.ply_wise_data import SpotReductionStrategy, get_ply_wise_data\nfrom ansys.dpf.composites.server_helpers import connect_to_or_start_server\n\n# sphinx_gallery_thumbnail_number = 4\n\nserver = connect_to_or_start_server()\ncomposite_files_on_server = get_continuous_fiber_example_files(server, \"lsdyna_bird_strike\")\n\ncomposite_model = CompositeModel(\n    composite_files=composite_files_on_server,\n    server=server,\n    default_unit_system=unit_systems.solver_nmm,\n)"
      ]
    },
    {
      "cell_type": "markdown",
      "metadata": {},
      "source": [
        "Get all the time ids to read all time steps and to select the correct\nresults.\n"
      ]
    },
    {
      "cell_type": "code",
      "execution_count": null,
      "metadata": {
        "collapsed": false
      },
      "outputs": [],
      "source": [
        "time_freq_support = composite_model.core_model.metadata.time_freq_support\ntime_ids = [v for v in time_freq_support.time_frequencies.scoping.ids]"
      ]
    },
    {
      "cell_type": "markdown",
      "metadata": {},
      "source": [
        "Get displacements at the final time step\n"
      ]
    },
    {
      "cell_type": "code",
      "execution_count": null,
      "metadata": {
        "collapsed": false
      },
      "outputs": [],
      "source": [
        "disp_result = composite_model.core_model.results.displacement()\ndisplacement = disp_result.eval().get_field({\"time\": time_ids[-1]})"
      ]
    },
    {
      "cell_type": "markdown",
      "metadata": {},
      "source": [
        "Read stresses in the material coordinate system\n"
      ]
    },
    {
      "cell_type": "code",
      "execution_count": null,
      "metadata": {
        "collapsed": false
      },
      "outputs": [],
      "source": [
        "stress_operator = composite_model.core_model.results.stress()\nstress_operator.inputs.bool_rotate_to_global(False)"
      ]
    },
    {
      "cell_type": "markdown",
      "metadata": {},
      "source": [
        "# Prepare data\n\nThe LS Dyna results have to be pre-processed to support ply-wise\nfiltering because the data must be consistent with the layup model. This\npre-processing is based on the maximum integration points (MAXINT) from\nthe DATABASE_EXTENT_BINARY keyword. This parameter can be extracted from\nthe input file (`input.k`) with the help of the\n`composite::ls_dyna_keyword_parser` operator.\n"
      ]
    },
    {
      "cell_type": "code",
      "execution_count": null,
      "metadata": {
        "collapsed": false
      },
      "outputs": [],
      "source": [
        "def prepare_lsdyna_results(\n    my_results_container: dpf.fields_container.FieldsContainer,\n) -> dpf.fields_container.FieldsContainer:\n    keyword_parser = Operator(\"composite::ls_dyna_keyword_parser\")\n    keyword_parser.inputs.data_sources(composite_model.data_sources.solver_input_file)\n    keyword_parser.inputs.keyword(\"DATABASE_EXTENT_BINARY\")\n    keyword_options_as_json = json.loads(keyword_parser.outputs.keyword_options.get_data())\n\n    # remove unneeded integration points for each element\n    strip_operator = Operator(\"composite::ls_dyna_preparing_results\")\n    strip_operator.inputs.maxint(int(keyword_options_as_json[\"maxint\"]))\n    strip_operator.inputs.fields_container(my_results_container)\n    strip_operator.inputs.mesh(composite_model.get_mesh())\n    stripped_results_container = strip_operator.outputs.fields_container.get_data()\n\n    return stripped_results_container\n\n\nstripped_stress_container = prepare_lsdyna_results(\n    stress_operator.outputs.fields_container.get_data()\n)"
      ]
    },
    {
      "cell_type": "markdown",
      "metadata": {},
      "source": [
        "# Filter data by analysis ply\n\nPrint stresses of a few plies at the last time step. You can use\n`get_all_analysis_ply_names` to list all available plies. Note that one\nintegration point per layer and element is available if MAXINT is equal\nor greater than the number of layers.\n"
      ]
    },
    {
      "cell_type": "code",
      "execution_count": null,
      "metadata": {
        "collapsed": false
      },
      "outputs": [],
      "source": [
        "stripped_stress_field = stripped_stress_container.get_field({\"time\": time_ids[-1]})\ncamera = [\n    (-1589.7832333411716, 1670.8197500164952, -328.2144469600579),\n    (493.2896802711351, 0.2085447040423768, 763.1274012915459),\n    (0.5149806660541146, 0.8152207788520537, 0.26497168776741287),\n]\n\nfor ply_name in [\"P1L1__ModelingPly.1\", \"P3L2__ModelingPly.1\"]:\n    print(f\"Plotting s1 of ply {ply_name}\")\n    elemental_values = get_ply_wise_data(\n        field=stripped_stress_field,\n        ply_name=ply_name,\n        mesh=composite_model.get_mesh(),\n        component=Sym3x3TensorComponent.TENSOR11,\n        spot_reduction_strategy=SpotReductionStrategy.MAX,\n        requested_location=dpf.locations.elemental,\n    )\n\n    composite_model.get_mesh().plot(\n        field_or_fields_container=elemental_values,\n        deform_by=displacement,\n        cpos=camera,\n        zoom=\"tight\",\n    )"
      ]
    },
    {
      "cell_type": "markdown",
      "metadata": {},
      "source": [
        "# Plot history variables\n\nThe same procedure can be applied to history variables. In this example,\nthe 2nd history variable (compressive fiber mode) is plotted. 1 stands\nfor elastic, 0 means failed.\n"
      ]
    },
    {
      "cell_type": "code",
      "execution_count": null,
      "metadata": {
        "collapsed": false
      },
      "outputs": [],
      "source": [
        "hv_operator = dpf.Operator(\"lsdyna::d3plot::history_var\")\nhv_operator.inputs.data_sources(composite_model.data_sources.result_files)\nhv_operator.inputs.time_scoping(time_ids)\n\nstripped_hv_container = prepare_lsdyna_results(hv_operator.outputs.history_var.get_data())\nstripped_hv_field = stripped_hv_container.get_field({\"time\": time_ids[-1], \"ihv\": 2})\n\nfor ply_name in [\"P1L1__ModelingPly.1\", \"P3L2__ModelingPly.1\"]:\n    print(f\"Plotting history variable 2 of ply {ply_name}\")\n    elemental_values = get_ply_wise_data(\n        field=stripped_hv_field,\n        ply_name=ply_name,\n        mesh=composite_model.get_mesh(),\n        component=0,\n        spot_reduction_strategy=SpotReductionStrategy.MAX,\n        requested_location=dpf.locations.elemental,\n    )\n\n    composite_model.get_mesh().plot(\n        field_or_fields_container=elemental_values,\n        deform_by=displacement,\n        cpos=camera,\n        zoom=\"tight\",\n    )"
      ]
    }
  ],
  "metadata": {
    "kernelspec": {
      "display_name": "Python 3",
      "language": "python",
      "name": "python3"
    },
    "language_info": {
      "codemirror_mode": {
        "name": "ipython",
        "version": 3
      },
      "file_extension": ".py",
      "mimetype": "text/x-python",
      "name": "python",
      "nbconvert_exporter": "python",
      "pygments_lexer": "ipython3",
      "version": "3.13.2"
    }
  },
  "nbformat": 4,
  "nbformat_minor": 0
}