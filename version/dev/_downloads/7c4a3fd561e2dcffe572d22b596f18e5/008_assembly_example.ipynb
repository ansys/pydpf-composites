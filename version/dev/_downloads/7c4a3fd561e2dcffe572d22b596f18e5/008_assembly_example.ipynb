{
  "cells": [
    {
      "cell_type": "markdown",
      "metadata": {},
      "source": [
        "# Postprocess an assembly {#assembly_example}\n\nThis example shows how to postprocess an assembly with multiple\ncomposite parts. The assembly consists of a shell and solid composite\nmodel. The `Composite Model <.CompositeModel>`{.interpreted-text\nrole=\"class\"} class is used to access the data of the different parts.\n\n::: note\n::: title\nNote\n:::\n\nWhen using a Workbench project, use the\n`.composite_files_from_workbench_harmonic_analysis`{.interpreted-text\nrole=\"func\"} method to obtain the input files.\n:::\n"
      ]
    },
    {
      "cell_type": "markdown",
      "metadata": {},
      "source": [
        "# Set up analysis\n\nSetting up the analysis consists of loading Ansys libraries, connecting\nto the DPF server, and retrieving the example files.\n\nLoad Ansys libraries.\n"
      ]
    },
    {
      "cell_type": "code",
      "execution_count": null,
      "metadata": {
        "collapsed": false
      },
      "outputs": [],
      "source": [
        "from ansys.dpf.composites.composite_model import CompositeModel\nfrom ansys.dpf.composites.constants import FailureOutput\nfrom ansys.dpf.composites.example_helper import get_continuous_fiber_example_files\nfrom ansys.dpf.composites.failure_criteria import CombinedFailureCriterion, MaxStressCriterion\nfrom ansys.dpf.composites.server_helpers import (\n    connect_to_or_start_server,\n    version_equal_or_later,\n    version_older_than,\n)"
      ]
    },
    {
      "cell_type": "markdown",
      "metadata": {},
      "source": [
        "Start a DPF server and copy the example files into the current working\ndirectory.\n"
      ]
    },
    {
      "cell_type": "code",
      "execution_count": null,
      "metadata": {
        "collapsed": false
      },
      "outputs": [],
      "source": [
        "server = connect_to_or_start_server()\ncomposite_files_on_server = get_continuous_fiber_example_files(server, \"assembly\")"
      ]
    },
    {
      "cell_type": "markdown",
      "metadata": {},
      "source": [
        "# Configure combined failure criterion\n\nConfigure the combined failure crition.\n"
      ]
    },
    {
      "cell_type": "code",
      "execution_count": null,
      "metadata": {
        "collapsed": false
      },
      "outputs": [],
      "source": [
        "combined_fc = CombinedFailureCriterion(\n    name=\"failure of all materials\",\n    failure_criteria=[MaxStressCriterion()],\n)"
      ]
    },
    {
      "cell_type": "markdown",
      "metadata": {},
      "source": [
        "# Set up model\n\nSet up the composite model.\n"
      ]
    },
    {
      "cell_type": "code",
      "execution_count": null,
      "metadata": {
        "collapsed": false
      },
      "outputs": [],
      "source": [
        "composite_model = CompositeModel(composite_files_on_server, server)"
      ]
    },
    {
      "cell_type": "markdown",
      "metadata": {},
      "source": [
        "# Plot IRF\n\nPlot the maximum IRF per (solid) element.\n"
      ]
    },
    {
      "cell_type": "code",
      "execution_count": null,
      "metadata": {
        "collapsed": false
      },
      "outputs": [],
      "source": [
        "output_all_elements = composite_model.evaluate_failure_criteria(combined_criterion=combined_fc)\nirf_field = output_all_elements.get_field({\"failure_label\": FailureOutput.FAILURE_VALUE})\nirf_field.plot()"
      ]
    },
    {
      "cell_type": "markdown",
      "metadata": {},
      "source": [
        "# Plot IRF on the reference surface\n\nPlot the maximum IRF on the reference surface\n"
      ]
    },
    {
      "cell_type": "code",
      "execution_count": null,
      "metadata": {
        "collapsed": false
      },
      "outputs": [],
      "source": [
        "if version_equal_or_later(server, \"8.0\"):\n    irf_field = output_all_elements.get_field(\n        {\"failure_label\": FailureOutput.FAILURE_VALUE_REF_SURFACE}\n    )\n    irf_field.plot()"
      ]
    },
    {
      "cell_type": "markdown",
      "metadata": {},
      "source": [
        "# Get element information\n\nIn the assembly, two composite definitions exist: one with a \\\"shell\\\"\nlabel and one with a \\\"solid\\\" label. For DPF Server versions earlier\nthan 7.0, the lay-up properties must be queried with the correct\ncomposite definition label. The code following gets element information\nfor all layered elements. For DPF Server versions 7.0 and later, element\ninformation can be retrieved directly.\n"
      ]
    },
    {
      "cell_type": "code",
      "execution_count": null,
      "metadata": {
        "collapsed": false
      },
      "outputs": [],
      "source": [
        "if version_older_than(server, \"7.0\"):\n    element_infos = []\n    for composite_label in composite_model.composite_definition_labels:\n        for (\n            element_id\n        ) in composite_model.get_all_layered_element_ids_for_composite_definition_label(\n            composite_label\n        ):\n            element_infos.append(composite_model.get_element_info(element_id, composite_label))\n\nelse:\n    element_infos = []\n    for element_id in composite_model.get_all_layered_element_ids():\n        element_infos.append(composite_model.get_element_info(element_id))"
      ]
    }
  ],
  "metadata": {
    "kernelspec": {
      "display_name": "Python 3",
      "language": "python",
      "name": "python3"
    },
    "language_info": {
      "codemirror_mode": {
        "name": "ipython",
        "version": 3
      },
      "file_extension": ".py",
      "mimetype": "text/x-python",
      "name": "python",
      "nbconvert_exporter": "python",
      "pygments_lexer": "ipython3",
      "version": "3.13.1"
    }
  },
  "nbformat": 4,
  "nbformat_minor": 0
}