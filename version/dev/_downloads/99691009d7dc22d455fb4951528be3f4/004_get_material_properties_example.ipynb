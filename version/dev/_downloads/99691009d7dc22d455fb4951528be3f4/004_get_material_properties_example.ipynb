{
  "cells": [
    {
      "cell_type": "markdown",
      "metadata": {},
      "source": [
        "# Material properties and custom failure criterion {#material_properties}\n\nThis example shows how to access constant material properties and how to\nimplement a custom failure criterion. The failure criterion is computed\nfor all layers and integration points. Finally, the elemental maximum is\ncomputed and shown.\n\n::: note\n::: title\nNote\n:::\n\nOnly constant material properties are currently supported.\n:::\n\n::: note\n::: title\nNote\n:::\n\nWhen using a Workbench project, use the\n`.get_composite_files_from_workbench_result_folder`{.interpreted-text\nrole=\"func\"} method to obtain the input files.\n:::\n"
      ]
    },
    {
      "cell_type": "markdown",
      "metadata": {},
      "source": [
        "# Script\n\nImport dependencies\n"
      ]
    },
    {
      "cell_type": "code",
      "execution_count": null,
      "metadata": {
        "collapsed": false
      },
      "outputs": [],
      "source": [
        "import ansys.dpf.core as dpf\nimport numpy as np\n\nfrom ansys.dpf.composites.composite_model import CompositeModel\nfrom ansys.dpf.composites.constants import Sym3x3TensorComponent\nfrom ansys.dpf.composites.example_helper import get_continuous_fiber_example_files\nfrom ansys.dpf.composites.layup_info.material_properties import MaterialProperty\nfrom ansys.dpf.composites.select_indices import get_selected_indices\nfrom ansys.dpf.composites.server_helpers import connect_to_or_start_server"
      ]
    },
    {
      "cell_type": "markdown",
      "metadata": {},
      "source": [
        "Start a server and get the examples files. This will copy the example\nfiles into the current working directory.\n"
      ]
    },
    {
      "cell_type": "code",
      "execution_count": null,
      "metadata": {
        "collapsed": false
      },
      "outputs": [],
      "source": [
        "server = connect_to_or_start_server()\ncomposite_files_on_server = get_continuous_fiber_example_files(server, \"shell\")"
      ]
    },
    {
      "cell_type": "markdown",
      "metadata": {},
      "source": [
        "Set up the composite model\n"
      ]
    },
    {
      "cell_type": "code",
      "execution_count": null,
      "metadata": {
        "collapsed": false
      },
      "outputs": [],
      "source": [
        "composite_model = CompositeModel(composite_files_on_server, server)"
      ]
    },
    {
      "cell_type": "markdown",
      "metadata": {},
      "source": [
        "Get dictionary that maps dpf_material_id to properties The creation of\nthe dictionary is currently quite slow and should be done before using\nthe properties in a loop. Currently only constant properties are\nsupported. For variable material properties, the default value is\nreturned.\n"
      ]
    },
    {
      "cell_type": "code",
      "execution_count": null,
      "metadata": {
        "collapsed": false
      },
      "outputs": [],
      "source": [
        "material_property = MaterialProperty.Strain_Limits_eXt\nproperty_dict = composite_model.get_constant_property_dict([material_property])"
      ]
    },
    {
      "cell_type": "markdown",
      "metadata": {},
      "source": [
        "Get strain field\n"
      ]
    },
    {
      "cell_type": "code",
      "execution_count": null,
      "metadata": {
        "collapsed": false
      },
      "outputs": [],
      "source": [
        "strain_operator = composite_model.core_model.results.elastic_strain()\nstrain_operator.inputs.bool_rotate_to_global(False)\nstrain_field = strain_operator.get_output(pin=0, output_type=dpf.types.fields_container)[0]"
      ]
    },
    {
      "cell_type": "markdown",
      "metadata": {},
      "source": [
        "Implement a custom failure criterion: basic max strain\n"
      ]
    },
    {
      "cell_type": "code",
      "execution_count": null,
      "metadata": {
        "collapsed": false
      },
      "outputs": [],
      "source": [
        "result_field = dpf.field.Field(location=dpf.locations.elemental, nature=dpf.natures.scalar)\n\nwith result_field.as_local_field() as local_result_field:\n    component = Sym3x3TensorComponent.TENSOR11\n\n    for element_id in strain_field.scoping.ids:\n        strain_data = strain_field.get_entity_data_by_id(element_id)\n        element_info = composite_model.get_element_info(element_id)\n        element_max = 0\n        for layer_index, dpf_material_id in enumerate(element_info.dpf_material_ids):\n            tensile_strain_limit_1 = property_dict[dpf_material_id][material_property]\n            selected_indices = get_selected_indices(element_info, layers=[layer_index])\n            # Tensile max strain criteria in 1 direction\n            layer_strain_values = strain_data[selected_indices][:, component]\n            if tensile_strain_limit_1 > 0:\n                layer_max = np.max(layer_strain_values)\n                element_max = max(element_max, layer_max / tensile_strain_limit_1)\n\n        # add to output field\n        local_result_field.append([element_max], element_id)\n\n\ncomposite_model.get_mesh().plot(result_field)"
      ]
    }
  ],
  "metadata": {
    "kernelspec": {
      "display_name": "Python 3",
      "language": "python",
      "name": "python3"
    },
    "language_info": {
      "codemirror_mode": {
        "name": "ipython",
        "version": 3
      },
      "file_extension": ".py",
      "mimetype": "text/x-python",
      "name": "python",
      "nbconvert_exporter": "python",
      "pygments_lexer": "ipython3",
      "version": "3.13.5"
    }
  },
  "nbformat": 4,
  "nbformat_minor": 0
}