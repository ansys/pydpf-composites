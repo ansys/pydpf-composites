{
  "cells": [
    {
      "cell_type": "markdown",
      "metadata": {},
      "source": [
        "Sampling point {#sampling_point_example}\n==============\n\nThis example extracts ply-wise laminate properties and results.\n\nThe `Sampling Point <.SamplingPoint>`{.interpreted-text role=\"class\"}\nclass is used to extract through-the-thickness data of the laminate,\nsuch as ply-wise properties, strains and stresses. It then implements\nbasic visualization to plot the laminate.\n\nThis example uses the\n`Composite Model <.CompositeModel>`{.interpreted-text role=\"class\"} to\nscope a Sampling Point to a certain element and to visualize the\nlaminate.\n"
      ]
    },
    {
      "cell_type": "markdown",
      "metadata": {},
      "source": [
        "Set up analysis\n===============\n\nSetting up the analysis consists of loading Ansys libraries, connecting\nto the DPF server, and retrieving the example files.\n\nLoad Ansys libraries.\n"
      ]
    },
    {
      "cell_type": "code",
      "execution_count": null,
      "metadata": {
        "collapsed": false
      },
      "outputs": [],
      "source": [
        "from ansys.dpf.composites.composite_model import CompositeModel\nfrom ansys.dpf.composites.constants import Spot\nfrom ansys.dpf.composites.example_helper import get_continuous_fiber_example_files\nfrom ansys.dpf.composites.failure_criteria import (\n    CombinedFailureCriterion,\n    CoreFailureCriterion,\n    MaxStrainCriterion,\n    MaxStressCriterion,\n    VonMisesCriterion,\n)\nfrom ansys.dpf.composites.server_helpers import connect_to_or_start_server"
      ]
    },
    {
      "cell_type": "markdown",
      "metadata": {},
      "source": [
        "Start a DPF server and copy the example files into the current working\ndirectory.\n"
      ]
    },
    {
      "cell_type": "code",
      "execution_count": null,
      "metadata": {
        "collapsed": false
      },
      "outputs": [],
      "source": [
        "server = connect_to_or_start_server()\ncomposite_files_on_server = get_continuous_fiber_example_files(server, \"shell\")"
      ]
    },
    {
      "cell_type": "markdown",
      "metadata": {},
      "source": [
        "Configure the combined failure criterion\n"
      ]
    },
    {
      "cell_type": "code",
      "execution_count": null,
      "metadata": {
        "collapsed": false
      },
      "outputs": [],
      "source": [
        "combined_fc = CombinedFailureCriterion(\n    name=\"failure of all materials\",\n    failure_criteria=[\n        MaxStrainCriterion(),\n        MaxStressCriterion(),\n        CoreFailureCriterion(),\n        VonMisesCriterion(vme=True, vms=False),\n    ],\n)"
      ]
    },
    {
      "cell_type": "markdown",
      "metadata": {},
      "source": [
        "Set up model and create sampling point\n======================================\n\nSet up the composite model.\n"
      ]
    },
    {
      "cell_type": "code",
      "execution_count": null,
      "metadata": {
        "collapsed": false
      },
      "outputs": [],
      "source": [
        "composite_model = CompositeModel(composite_files_on_server, server)"
      ]
    },
    {
      "cell_type": "markdown",
      "metadata": {},
      "source": [
        "Create a sampling point\n"
      ]
    },
    {
      "cell_type": "code",
      "execution_count": null,
      "metadata": {
        "collapsed": false
      },
      "outputs": [],
      "source": [
        "sampling_point = composite_model.get_sampling_point(combined_criterion=combined_fc, element_id=3)"
      ]
    },
    {
      "cell_type": "markdown",
      "metadata": {},
      "source": [
        "Plot results\n============\n\nPlot results uing preconfigured plots. For more information, see the\n`.SamplingPoint.get_result_plots`{.interpreted-text role=\"meth\"} method.\n"
      ]
    },
    {
      "cell_type": "code",
      "execution_count": null,
      "metadata": {
        "collapsed": false
      },
      "outputs": [],
      "source": [
        "sampling_point_plot = sampling_point.get_result_plots(\n    strain_components=[],  # do not plot strains\n    core_scale_factor=0.1,\n    spots=[Spot.BOTTOM, Spot.TOP],\n    show_failure_modes=True,\n)\nsampling_point_plot.figure.set_figheight(8)\nsampling_point_plot.figure.set_figwidth(12)"
      ]
    },
    {
      "cell_type": "markdown",
      "metadata": {},
      "source": [
        "Plot polar properties.\n"
      ]
    },
    {
      "cell_type": "code",
      "execution_count": null,
      "metadata": {
        "collapsed": false
      },
      "outputs": [],
      "source": [
        "sampling_point_plot = sampling_point.get_polar_plot([\"E1\", \"G12\"])"
      ]
    },
    {
      "cell_type": "markdown",
      "metadata": {},
      "source": [
        "Generate custom plots. You can customize existing plots or build them\nfrom scratch using a package like Matplot or Plotly. This code uses\nMatplotlib to generate a custom plot of results `s13` and `s23`.\n"
      ]
    },
    {
      "cell_type": "code",
      "execution_count": null,
      "metadata": {
        "collapsed": false
      },
      "outputs": [],
      "source": [
        "import matplotlib.pyplot as plt\n\nfig, ax1 = plt.subplots()\ncore_scale_factor = 0.5\n\nsampling_point.add_results_to_plot(\n    ax1,\n    [\"s13\", \"s23\"],\n    [Spot.BOTTOM, Spot.TOP],\n    core_scale_factor,\n    \"Out-of-plane shear stresses\",\n    \"MPA\",\n)\nax1.legend()\nplt.rcParams[\"hatch.linewidth\"] = 0.2\nplt.rcParams[\"hatch.color\"] = \"silver\"\nsampling_point.add_ply_sequence_to_plot(ax1, core_scale_factor)"
      ]
    },
    {
      "cell_type": "markdown",
      "metadata": {},
      "source": [
        "This code uses Matplotlib to generate a custom plot of results `e12` and\n`e2`.\n"
      ]
    },
    {
      "cell_type": "code",
      "execution_count": null,
      "metadata": {
        "collapsed": false
      },
      "outputs": [],
      "source": [
        "interfaces = [Spot.BOTTOM, Spot.TOP]\ncore_scale_factor = 1.0\nindices = sampling_point.get_indices(interfaces)\noffsets = sampling_point.get_offsets_by_spots(interfaces, core_scale_factor)\ne12 = sampling_point.e12[indices]\ne2 = sampling_point.e2[indices]\n\nfig, ax1 = plt.subplots()\nplt.rcParams[\"hatch.linewidth\"] = 0.2\nplt.rcParams[\"hatch.color\"] = \"silver\"\nline = ax1.plot(e12, offsets, label=\"e12\")\nline = ax1.plot(e2, offsets, label=\"e2\")\nax1.set_yticks([])\nax1.legend()\nax1.set_title(\"e12 and e2\")"
      ]
    },
    {
      "cell_type": "markdown",
      "metadata": {},
      "source": [
        "This code plots the lay-up only.\n"
      ]
    },
    {
      "cell_type": "code",
      "execution_count": null,
      "metadata": {
        "collapsed": false
      },
      "outputs": [],
      "source": [
        "fig2, layup_axes = plt.subplots()\nsampling_point.add_ply_sequence_to_plot(layup_axes)"
      ]
    },
    {
      "cell_type": "markdown",
      "metadata": {},
      "source": [
        "Sample another element\n======================\n\nYou can change the element ID of the sampling point to generate another\nplot.\n"
      ]
    },
    {
      "cell_type": "code",
      "execution_count": null,
      "metadata": {
        "collapsed": false
      },
      "outputs": [],
      "source": [
        "sampling_point.element_id = 4\nsampling_point_plot = sampling_point.get_result_plots(\n    strain_components=[],  # do not plot strains\n    core_scale_factor=0.1,\n    spots=[Spot.BOTTOM, Spot.TOP],\n    show_failure_modes=True,\n)\nsampling_point_plot.figure.set_figheight(8)\nsampling_point_plot.figure.set_figwidth(12)"
      ]
    }
  ],
  "metadata": {
    "kernelspec": {
      "display_name": "Python 3",
      "language": "python",
      "name": "python3"
    },
    "language_info": {
      "codemirror_mode": {
        "name": "ipython",
        "version": 3
      },
      "file_extension": ".py",
      "mimetype": "text/x-python",
      "name": "python",
      "nbconvert_exporter": "python",
      "pygments_lexer": "ipython3",
      "version": "3.12.6"
    }
  },
  "nbformat": 4,
  "nbformat_minor": 0
}