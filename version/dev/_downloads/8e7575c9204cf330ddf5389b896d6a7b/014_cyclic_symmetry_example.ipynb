{
  "cells": [
    {
      "cell_type": "markdown",
      "metadata": {},
      "source": [
        "# Cyclic symmetry {#cyclic_symmetry_example}\n\nThis example shows how to postprocess a cyclic symmetry analysis. The\ninitial (original) sector can be postprocessed with the same tools as a\nstandard analysis. The postprocessing workflow is demonstrated by\nrunning a failure analysis, extracting ply-wise stresses, and\nimplementing a custom failure criterion.\n\nThe postprocessing of expanded sectors is not yet supported.\n\n::: note\n::: title\nNote\n:::\n\nWhen using a Workbench project, use the\n`.composite_files_from_workbench_harmonic_analysis`{.interpreted-text\nrole=\"func\"} method to obtain the input files.\n:::\n"
      ]
    },
    {
      "cell_type": "markdown",
      "metadata": {},
      "source": [
        "# Set up analysis\n\nSetting up the analysis consists of loading the required modules,\nconnecting to the DPF server, and retrieving the example files.\n\nLoad Ansys libraries and helper functions.\n"
      ]
    },
    {
      "cell_type": "code",
      "execution_count": null,
      "metadata": {
        "collapsed": false
      },
      "outputs": [],
      "source": [
        "import ansys.dpf.core as dpf\n\nfrom ansys.dpf.composites.composite_model import CompositeModel\nfrom ansys.dpf.composites.constants import FailureOutput, Sym3x3TensorComponent\nfrom ansys.dpf.composites.example_helper import get_continuous_fiber_example_files\nfrom ansys.dpf.composites.failure_criteria import CombinedFailureCriterion, MaxStressCriterion\nfrom ansys.dpf.composites.layup_info import get_all_analysis_ply_names\nfrom ansys.dpf.composites.layup_info.material_properties import MaterialProperty\nfrom ansys.dpf.composites.ply_wise_data import SpotReductionStrategy, get_ply_wise_data\nfrom ansys.dpf.composites.select_indices import get_selected_indices\nfrom ansys.dpf.composites.server_helpers import connect_to_or_start_server"
      ]
    },
    {
      "cell_type": "markdown",
      "metadata": {},
      "source": [
        "Start a DPF server and copy the example files into the current working\ndirectory.\n"
      ]
    },
    {
      "cell_type": "code",
      "execution_count": null,
      "metadata": {
        "collapsed": false
      },
      "outputs": [],
      "source": [
        "server = connect_to_or_start_server()\ncomposite_files = get_continuous_fiber_example_files(server, \"cyclic_symmetry\")"
      ]
    },
    {
      "cell_type": "markdown",
      "metadata": {},
      "source": [
        "Create a composite model.\n"
      ]
    },
    {
      "cell_type": "code",
      "execution_count": null,
      "metadata": {
        "collapsed": false
      },
      "outputs": [],
      "source": [
        "composite_model = CompositeModel(composite_files, server)"
      ]
    },
    {
      "cell_type": "markdown",
      "metadata": {},
      "source": [
        "Evaluate a combined failure criterion.\n"
      ]
    },
    {
      "cell_type": "code",
      "execution_count": null,
      "metadata": {
        "collapsed": false
      },
      "outputs": [],
      "source": [
        "combined_failure_criterion = CombinedFailureCriterion(failure_criteria=[MaxStressCriterion()])\nfailure_result = composite_model.evaluate_failure_criteria(combined_failure_criterion)"
      ]
    },
    {
      "cell_type": "markdown",
      "metadata": {},
      "source": [
        "Plot the failure results.\n"
      ]
    },
    {
      "cell_type": "code",
      "execution_count": null,
      "metadata": {
        "collapsed": false
      },
      "outputs": [],
      "source": [
        "irf_field = failure_result.get_field({\"failure_label\": FailureOutput.FAILURE_VALUE})\nirf_field.plot()"
      ]
    },
    {
      "cell_type": "markdown",
      "metadata": {},
      "source": [
        "# Plot ply-wise stresses\n\nAll functions in PyDPF - Composites can be used to postprocess the\ninitial (original) sector.\n"
      ]
    },
    {
      "cell_type": "code",
      "execution_count": null,
      "metadata": {
        "collapsed": false
      },
      "outputs": [],
      "source": [
        "rst_stream = composite_model.core_model.metadata.streams_provider\nstress_operator = dpf.operators.result.stress()\nstress_operator.inputs.streams_container.connect(rst_stream)\nstress_operator.inputs.bool_rotate_to_global(False)\nstress_container = stress_operator.outputs.fields_container()\n\nall_ply_names = get_all_analysis_ply_names(composite_model.get_mesh())\nall_ply_names\n\ncomponent_s11 = Sym3x3TensorComponent.TENSOR11\nstress_field = stress_container[0]\nelemental_values = get_ply_wise_data(\n    field=stress_field,\n    ply_name=\"P3L1__ModelingPly.1\",\n    mesh=composite_model.get_mesh(),\n    component=component_s11,\n    spot_reduction_strategy=SpotReductionStrategy.MAX,\n    requested_location=dpf.locations.elemental,\n)\ncomposite_model.get_mesh().plot(elemental_values)"
      ]
    },
    {
      "cell_type": "markdown",
      "metadata": {},
      "source": [
        "# Custom failure criterion\n\nThe following code block shows how to implement a custom failure\ncriterion. It computes the inverse reserve factor for each element with\nrespect to fiber failure. The criterion distinguishes between tension\nand compression.\n"
      ]
    },
    {
      "cell_type": "code",
      "execution_count": null,
      "metadata": {
        "collapsed": false
      },
      "outputs": [],
      "source": [
        "# Prepare dict with the material properties.\nproperty_xt = MaterialProperty.Stress_Limits_Xt\nproperty_xc = MaterialProperty.Stress_Limits_Xc\nproperty_dict = composite_model.get_constant_property_dict([property_xt, property_xc])\n\nresult_field = dpf.field.Field(location=dpf.locations.elemental, nature=dpf.natures.scalar)\nwith result_field.as_local_field() as local_result_field:\n    # Process only the layered elements\n    for element_id in composite_model.get_all_layered_element_ids():\n        element_info = composite_model.get_element_info(element_id)\n        element_irf_max = 0.0\n        stress_data = stress_field.get_entity_data_by_id(element_id)\n        for layer_index, dpf_material_id in enumerate(element_info.dpf_material_ids):\n            xt = property_dict[dpf_material_id][property_xt]\n            xc = property_dict[dpf_material_id][property_xc]\n            selected_indices = get_selected_indices(element_info, layers=[layer_index])\n            # Maximum of fiber failure in tension and compression\n            layer_stress_values = stress_data[selected_indices][:, component_s11]\n            max_s11 = max(layer_stress_values)\n            min_s11 = min(layer_stress_values)\n            if xt > 0 and max_s11 > 0:\n                element_irf_max = max(max_s11 / xt, element_irf_max)\n            if xc < 0 and min_s11 < 0:\n                element_irf_max = max(min_s11 / xc, element_irf_max)\n\n        local_result_field.append([element_irf_max], element_id)\n\ncomposite_model.get_mesh().plot(result_field)"
      ]
    },
    {
      "cell_type": "markdown",
      "metadata": {},
      "source": [
        "# Plot deformations on the expanded model\n\nYou can expand the deformations of the cyclic symmetry model as shown\nbelow. The same expansion is possible for strains and stresses. For more\ninformation, see [Ansys\nDPF](https://dpf.docs.pyansys.com/version/stable/).\n"
      ]
    },
    {
      "cell_type": "code",
      "execution_count": null,
      "metadata": {
        "collapsed": false
      },
      "outputs": [],
      "source": [
        "# Get the displacements and expand them\nsymmetry_option = 2  # fully expand the model\nu_cyc = composite_model.core_model.results.displacement()\nu_cyc.inputs.read_cyclic(symmetry_option)\n# expand the displacements\ndeformations = u_cyc.outputs.fields_container()[0]\n\n# Get and expand the mesh\nmesh_provider = composite_model.core_model.metadata.mesh_provider\nmesh_provider.inputs.read_cyclic(symmetry_option)\nmesh = mesh_provider.outputs.mesh()\n# Plot the expanded deformations\nmesh.plot(deformations)"
      ]
    }
  ],
  "metadata": {
    "kernelspec": {
      "display_name": "Python 3",
      "language": "python",
      "name": "python3"
    },
    "language_info": {
      "codemirror_mode": {
        "name": "ipython",
        "version": 3
      },
      "file_extension": ".py",
      "mimetype": "text/x-python",
      "name": "python",
      "nbconvert_exporter": "python",
      "pygments_lexer": "ipython3",
      "version": "3.13.1"
    }
  },
  "nbformat": 4,
  "nbformat_minor": 0
}