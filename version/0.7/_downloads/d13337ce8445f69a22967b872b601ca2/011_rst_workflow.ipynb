{
  "cells": [
    {
      "cell_type": "markdown",
      "metadata": {},
      "source": [
        "# Failure analysis of a MAPDL (RST) model {#rst_workflow_example}\n\nThis example shows the postprocessing of an MAPDL (RST) model with\nlayered elements that was not preprocessed by ACP. The difference\nbetween the RST-only and ACP-based workflow is that the section data are\nloaded from the RST file instead of the ACP layup file. This happens\nautomatically if the parameter [composite]{.title-ref} of the\n`.ContinuousFiberCompositesFiles`{.interpreted-text role=\"class\"} class\nis not set.\n\nThe engineering data file (XML or ENGD) with the material properties is\nneeded anyway. Otherwise, the material properties cannot be mapped. At\nthe end of this example, two workflows are shown on how to create the\nengineering data file based on a MAPDL model and how to set the material\nUUIDs in MAPDL.\n\n::: important\n::: title\nImportant\n:::\n\nThe material UUIDs in the engineering data file must be identical to the\nUUIDs in Mechanical APDL (RST file). A detailed explanation can be found\nat the end of this example.\n:::\n\nThe postprocessing of MAPDL models is supported in 2024 R2 (DPF Server\nversion 8.0) and later. A few advanced features are not supported with\nthe RST only workflow. For more information, see\n`limitations`{.interpreted-text role=\"ref\"}.\n\n::: note\n::: title\nNote\n:::\n\nWhen using a Workbench project, use the\n`.composite_files_from_workbench_harmonic_analysis`{.interpreted-text\nrole=\"func\"} method to obtain the input files.\n:::\n"
      ]
    },
    {
      "cell_type": "markdown",
      "metadata": {},
      "source": [
        "# Set up analysis\n\nSetting up the analysis consists of loading Ansys libraries, connecting\nto the DPF server, and retrieving the example files.\n\nLoad Ansys libraries.\n"
      ]
    },
    {
      "cell_type": "code",
      "execution_count": null,
      "metadata": {
        "collapsed": false
      },
      "outputs": [],
      "source": [
        "import ansys.dpf.core as dpf\n\nfrom ansys.dpf.composites.composite_model import CompositeModel\nfrom ansys.dpf.composites.constants import FailureOutput\nfrom ansys.dpf.composites.example_helper import get_continuous_fiber_example_files\nfrom ansys.dpf.composites.failure_criteria import (\n    CombinedFailureCriterion,\n    CoreFailureCriterion,\n    FaceSheetWrinklingCriterion,\n    MaxStrainCriterion,\n    MaxStressCriterion,\n    VonMisesCriterion,\n)\nfrom ansys.dpf.composites.select_indices import get_selected_indices\nfrom ansys.dpf.composites.server_helpers import connect_to_or_start_server"
      ]
    },
    {
      "cell_type": "markdown",
      "metadata": {},
      "source": [
        "Start a DPF server and copy the example files into the current working\ndirectory.\n"
      ]
    },
    {
      "cell_type": "code",
      "execution_count": null,
      "metadata": {
        "collapsed": false
      },
      "outputs": [],
      "source": [
        "server = connect_to_or_start_server()"
      ]
    },
    {
      "cell_type": "markdown",
      "metadata": {},
      "source": [
        "Get input files (RST and material.engd but skip the ACP layup file).\n"
      ]
    },
    {
      "cell_type": "code",
      "execution_count": null,
      "metadata": {
        "collapsed": false
      },
      "outputs": [],
      "source": [
        "composite_files_on_server = get_continuous_fiber_example_files(server, \"shell\", True)\nprint(composite_files_on_server)"
      ]
    },
    {
      "cell_type": "markdown",
      "metadata": {},
      "source": [
        "# Configure combined failure criterion\n\nConfigure the combined failure criterion.\n"
      ]
    },
    {
      "cell_type": "code",
      "execution_count": null,
      "metadata": {
        "collapsed": false
      },
      "outputs": [],
      "source": [
        "combined_fc = CombinedFailureCriterion(\n    name=\"failure of all materials\",\n    failure_criteria=[\n        MaxStrainCriterion(),\n        MaxStressCriterion(),\n        CoreFailureCriterion(),\n        VonMisesCriterion(vme=True, vms=False),\n        FaceSheetWrinklingCriterion(),\n    ],\n)"
      ]
    },
    {
      "cell_type": "markdown",
      "metadata": {},
      "source": [
        "# Set up model and evaluate failures\n\nSet up the composite model.\n"
      ]
    },
    {
      "cell_type": "code",
      "execution_count": null,
      "metadata": {
        "collapsed": false
      },
      "outputs": [],
      "source": [
        "composite_model = CompositeModel(composite_files_on_server, server)"
      ]
    },
    {
      "cell_type": "markdown",
      "metadata": {},
      "source": [
        "Evaluate failures for the entire model\n"
      ]
    },
    {
      "cell_type": "code",
      "execution_count": null,
      "metadata": {
        "collapsed": false
      },
      "outputs": [],
      "source": [
        "output_all_elements = composite_model.evaluate_failure_criteria(\n    combined_criterion=combined_fc,\n)\nirf_field = output_all_elements.get_field({\"failure_label\": FailureOutput.FAILURE_VALUE})\nirf_field.plot()"
      ]
    },
    {
      "cell_type": "markdown",
      "metadata": {},
      "source": [
        "# Create and plot a sampling point\n"
      ]
    },
    {
      "cell_type": "code",
      "execution_count": null,
      "metadata": {
        "collapsed": false
      },
      "outputs": [],
      "source": [
        "sampling_point = composite_model.get_sampling_point(combined_criterion=combined_fc, element_id=2)\nsampling_plot = sampling_point.get_result_plots(core_scale_factor=0.1)\nsampling_plot.figure.show()"
      ]
    },
    {
      "cell_type": "markdown",
      "metadata": {},
      "source": [
        "# Layer-wise failure criteria\n\nThe next lines show how to compute layer-wise failure criteria data and\nhow to access it. Ply-wise filtering (by analysis ply name) is not\nsupported in the RST workflow because the plies are not available in the\nRST file.\n"
      ]
    },
    {
      "cell_type": "markdown",
      "metadata": {},
      "source": [
        "First, the inputs for the multiple failure criteria operator have to be\nprepared.\n"
      ]
    },
    {
      "cell_type": "code",
      "execution_count": null,
      "metadata": {
        "collapsed": false
      },
      "outputs": [],
      "source": [
        "strain_operator = composite_model.core_model.results.elastic_strain()\nstrain_operator.inputs.bool_rotate_to_global(False)\n\nstress_operator = composite_model.core_model.results.stress()\nstress_operator.inputs.bool_rotate_to_global(False)"
      ]
    },
    {
      "cell_type": "markdown",
      "metadata": {},
      "source": [
        "Then, the operator is initialized and the inputs are connected. Note:\nthe output of the multiple failure criteria operator has the same format\nas the input (strain and stress fields). So there is one failure value\nand mode for each integration point, layer and element, for all time\nsteps.\n"
      ]
    },
    {
      "cell_type": "code",
      "execution_count": null,
      "metadata": {
        "collapsed": false
      },
      "outputs": [],
      "source": [
        "failure_evaluator = dpf.Operator(\"composite::multiple_failure_criteria_operator\")\nfailure_evaluator.inputs.configuration(combined_fc.to_json())\nfailure_evaluator.inputs.materials_container(\n    composite_model.material_operators.material_provider.outputs\n)\nfailure_evaluator.inputs.strains_container(strain_operator.outputs.fields_container)\nfailure_evaluator.inputs.stresses_container(stress_operator.outputs.fields_container)\nfailure_evaluator.inputs.mesh(composite_model.get_mesh())\nfailure_evaluator.inputs.section_data_container(\n    composite_model.get_layup_operator().outputs.section_data_container\n)\nirf_field = failure_evaluator.outputs.fields_container.get_data().get_field(\n    {\"failure_label\": FailureOutput.FAILURE_VALUE, \"time\": 1}\n)"
      ]
    },
    {
      "cell_type": "markdown",
      "metadata": {},
      "source": [
        "failure_mode_field is not used further, but it is demonstrated how to\naccess it.\n"
      ]
    },
    {
      "cell_type": "code",
      "execution_count": null,
      "metadata": {
        "collapsed": false
      },
      "outputs": [],
      "source": [
        "failure_mode_field = failure_evaluator.outputs.fields_container.get_data().get_field(\n    {\"failure_label\": FailureOutput.FAILURE_MODE, \"time\": 1}\n)"
      ]
    },
    {
      "cell_type": "markdown",
      "metadata": {},
      "source": [
        "This example computes a \\\"failure intensity\\\" which is in this case the\ndifference between the maxima of the most critical and the lowest\ncritical layer. Or in other words, it shows how uniform the laminate is\nloaded. A high intensity means there is a big difference between the\nmaxima failure values of the layers.\n"
      ]
    },
    {
      "cell_type": "code",
      "execution_count": null,
      "metadata": {
        "collapsed": false
      },
      "outputs": [],
      "source": [
        "failure_intensity_field = dpf.field.Field(\n    location=dpf.locations.elemental, nature=dpf.natures.scalar\n)\n\nwith failure_intensity_field.as_local_field() as local_field:\n    for element_id in irf_field.scoping.ids:\n        irf_data = irf_field.get_entity_data_by_id(element_id)\n        element_info = composite_model.get_element_info(element_id)\n\n        most_critical_layer_irf = 0.0\n        lowest_critical_layer_irf = 1e9\n\n        for layer_index, dpf_material_id in enumerate(element_info.dpf_material_ids):\n            selected_indices = get_selected_indices(element_info, layers=[layer_index])\n            layer_irf_values = irf_data[selected_indices]\n            max_value = layer_irf_values.max()\n            if max_value > most_critical_layer_irf:\n                most_critical_layer_irf = max_value\n            if max_value < lowest_critical_layer_irf:\n                lowest_critical_layer_irf = max_value\n\n        local_field.append([most_critical_layer_irf - lowest_critical_layer_irf], element_id)\n\ncomposite_model.get_mesh().plot(failure_intensity_field)"
      ]
    },
    {
      "cell_type": "markdown",
      "metadata": {},
      "source": [
        "# Create Engineering Data file and set material UUIDs in MAPDL\n\nHere are two workflows for setting up the engineering data file and the\nmaterial UUIDs in MAPDL. The material UUIDs must be set in MAPDL before\nthe model is solved.\n\nWith WB and Engineering Data:\n\n:   -   Create an External Model system in WB and load the solver input\n        file\n    -   Link the External Model with an Engineering Data system and\n        update it\n    -   Save the project and copy the generated engineering data file\n        (EngineeringData.xml)\n    -   For each material, look for the `DataTransferID`, go to MAPDL\n        and set the material UUIDs with the\n        `MP,UVID,<material index>,<value>` command\n\nWith ACP Standalone (for constant material properties only):\n\n:   -   Start ACP, go to *File - Import Model* and load the solver input\n        file (CDB)\n    -   Go to the Materials folder and export the engineering data file\n        (Ansys Workbench XML)\n    -   For each material, look for the `DataTransferID`, go to MAPDL\n        and set the material UUID with the\n        `MP,UVID,<material index>,<value>` command.\n"
      ]
    }
  ],
  "metadata": {
    "kernelspec": {
      "display_name": "Python 3",
      "language": "python",
      "name": "python3"
    },
    "language_info": {
      "codemirror_mode": {
        "name": "ipython",
        "version": 3
      },
      "file_extension": ".py",
      "mimetype": "text/x-python",
      "name": "python",
      "nbconvert_exporter": "python",
      "pygments_lexer": "ipython3",
      "version": "3.13.3"
    }
  },
  "nbformat": 4,
  "nbformat_minor": 0
}