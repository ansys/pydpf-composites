{
  "cells": [
    {
      "cell_type": "markdown",
      "metadata": {},
      "source": [
        "# Filter result data by different criteria {#filter_composite_data}\n\nThis example shows how data filtering can be used for custom\npostprocessing of layered composites. You can filter strains and\nstresses by material, layer, or analysis ply. Filtering by analysis ply\nis implemented on the server side and exposed with the\n`.get_ply_wise_data`{.interpreted-text role=\"func\"} function. In this\ncase, the data is filtered (and reduced) on the server side and only the\nresulting field is returned to the client. This is the recommended way\nto filter data if possible. For more complex filtering, the data is\ntransferred to the client side and filtered using numpy functionality.\nThe examples show filtering data by layer, spot, and node, as well as\nmaterial or analysis ply ID. To learn more about how layered result data\nis organized, see `select_indices`{.interpreted-text role=\"ref\"}.\n\n::: note\n::: title\nNote\n:::\n\nWhen using a Workbench project, use the\n`.composite_files_from_workbench_harmonic_analysis`{.interpreted-text\nrole=\"func\"} method to obtain the input files.\n:::\n"
      ]
    },
    {
      "cell_type": "markdown",
      "metadata": {},
      "source": [
        "# Set up analysis\n\nSetting up the analysis consists of importing dependencies, connecting\nto the DPF server, and retrieving the example files.\n\nImport dependencies.\n"
      ]
    },
    {
      "cell_type": "code",
      "execution_count": null,
      "metadata": {
        "collapsed": false
      },
      "outputs": [],
      "source": [
        "import ansys.dpf.core as dpf\nimport numpy as np\n\nfrom ansys.dpf.composites.composite_model import CompositeModel\nfrom ansys.dpf.composites.constants import Spot, Sym3x3TensorComponent\nfrom ansys.dpf.composites.example_helper import get_continuous_fiber_example_files\nfrom ansys.dpf.composites.layup_info import AnalysisPlyInfoProvider, get_all_analysis_ply_names\nfrom ansys.dpf.composites.ply_wise_data import SpotReductionStrategy, get_ply_wise_data\nfrom ansys.dpf.composites.select_indices import (\n    get_selected_indices,\n    get_selected_indices_by_analysis_ply,\n    get_selected_indices_by_dpf_material_ids,\n)\nfrom ansys.dpf.composites.server_helpers import connect_to_or_start_server, version_equal_or_later"
      ]
    },
    {
      "cell_type": "markdown",
      "metadata": {},
      "source": [
        "Start a DPF server and copy the example files into the current working\ndirectory.\n"
      ]
    },
    {
      "cell_type": "code",
      "execution_count": null,
      "metadata": {
        "collapsed": false
      },
      "outputs": [],
      "source": [
        "server = connect_to_or_start_server()\ncomposite_files_on_server = get_continuous_fiber_example_files(server, \"shell\")"
      ]
    },
    {
      "cell_type": "markdown",
      "metadata": {},
      "source": [
        "# Set up model\n\nSet up the composite model.\n"
      ]
    },
    {
      "cell_type": "code",
      "execution_count": null,
      "metadata": {
        "collapsed": false
      },
      "outputs": [],
      "source": [
        "composite_model = CompositeModel(composite_files_on_server, server)"
      ]
    },
    {
      "cell_type": "markdown",
      "metadata": {},
      "source": [
        "# Get result data\n\nGet the stress field. By default, the stress operator returns the\nstresses in global coordinates. To get the stresses in the material\ncoordinate system, the `bool_rotate_to_global` input is set to `False`.\n"
      ]
    },
    {
      "cell_type": "code",
      "execution_count": null,
      "metadata": {
        "collapsed": false
      },
      "outputs": [],
      "source": [
        "stress_operator = composite_model.core_model.results.stress()\nstress_operator.inputs.bool_rotate_to_global(False)\nstress_field_material_coord = stress_operator.get_output(\n    pin=0, output_type=dpf.types.fields_container\n)[0]"
      ]
    },
    {
      "cell_type": "markdown",
      "metadata": {},
      "source": [
        "# Filter data by analysis ply\n"
      ]
    },
    {
      "cell_type": "markdown",
      "metadata": {},
      "source": [
        "List all available analysis plies.\n"
      ]
    },
    {
      "cell_type": "code",
      "execution_count": null,
      "metadata": {
        "collapsed": false
      },
      "outputs": [],
      "source": [
        "all_ply_names = get_all_analysis_ply_names(composite_model.get_mesh())\nall_ply_names"
      ]
    },
    {
      "cell_type": "markdown",
      "metadata": {},
      "source": [
        "The easiest way to filter data by analysis ply is to use the\n`.get_ply_wise_data`{.interpreted-text role=\"func\"} function. This\nfunction supports different reduction strategies such as computing the\naverage, maximum, or minimum over the spot locations. It also supports\nselecting a specific spot (TOP, MID, BOT) directly. This example selects\nthe maximum value over all spots for each node and then requests the\nelemental location, which implies averaging over all nodes in an\nelement. Using the `.get_ply_wise_data`{.interpreted-text role=\"func\"}\nfunction has the advantage that all the averaging and filtering is done\non the server side.\n"
      ]
    },
    {
      "cell_type": "code",
      "execution_count": null,
      "metadata": {
        "collapsed": false
      },
      "outputs": [],
      "source": [
        "if version_equal_or_later(server, \"8.0\"):\n    elemental_values = get_ply_wise_data(\n        field=stress_field_material_coord,\n        ply_name=\"P1L1__ud_patch ns1\",\n        mesh=composite_model.get_mesh(),\n        component=Sym3x3TensorComponent.TENSOR11,\n        spot_reduction_strategy=SpotReductionStrategy.MAX,\n        requested_location=dpf.locations.elemental,\n    )\n\n    composite_model.get_mesh().plot(elemental_values)"
      ]
    },
    {
      "cell_type": "markdown",
      "metadata": {},
      "source": [
        "The results can also be requested in global coordinates. This example\ngets the stress values in the global coordinate system, selects the top\nspot of a selected ply, and averages the values over neighbouring nodes\nto get nodal results.\n"
      ]
    },
    {
      "cell_type": "code",
      "execution_count": null,
      "metadata": {
        "collapsed": false
      },
      "outputs": [],
      "source": [
        "stress_operator.inputs.bool_rotate_to_global(True)\nstress_field_global_coord = stress_operator.get_output(\n    pin=0, output_type=dpf.types.fields_container\n)[0]\n\nif version_equal_or_later(server, \"8.0\"):\n    nodal_values = get_ply_wise_data(\n        field=stress_field_global_coord,\n        ply_name=\"P1L1__ud_patch ns1\",\n        mesh=composite_model.get_mesh(),\n        component=Sym3x3TensorComponent.TENSOR11,\n        spot_reduction_strategy=SpotReductionStrategy.TOP,\n        requested_location=dpf.locations.nodal,\n    )\n\n    composite_model.get_mesh().plot(nodal_values)"
      ]
    },
    {
      "cell_type": "markdown",
      "metadata": {},
      "source": [
        "# Generic client-side filtering\n\nThis example shows how to filter data by layer, spot, and node using the\ngeneric filtering on the client side. This code plots stress values in\nthe material direction for the first node and top spot.\n"
      ]
    },
    {
      "cell_type": "markdown",
      "metadata": {},
      "source": [
        "Get element information for all elements and show the first one as an\nexample.\n"
      ]
    },
    {
      "cell_type": "code",
      "execution_count": null,
      "metadata": {
        "collapsed": false
      },
      "outputs": [],
      "source": [
        "element_ids = stress_field_material_coord.scoping.ids\nelement_infos = [composite_model.get_element_info(element_id) for element_id in element_ids]\nelement_infos[0]"
      ]
    },
    {
      "cell_type": "markdown",
      "metadata": {},
      "source": [
        "Get filtered data\n"
      ]
    },
    {
      "cell_type": "code",
      "execution_count": null,
      "metadata": {
        "collapsed": false
      },
      "outputs": [],
      "source": [
        "component = Sym3x3TensorComponent.TENSOR11\nresult_field = dpf.field.Field(location=dpf.locations.elemental, nature=dpf.natures.scalar)\nwith result_field.as_local_field() as local_result_field:\n    element_ids = stress_field_material_coord.scoping.ids\n    for element_id in element_ids:\n        stress_data = stress_field_material_coord.get_entity_data_by_id(element_id)\n        element_info = composite_model.get_element_info(element_id)\n        assert element_info is not None\n        selected_indices = get_selected_indices(\n            element_info, layers=[element_info.n_layers - 1], nodes=[0], spots=[Spot.TOP]\n        )\n\n        value = stress_data[selected_indices][:, component]\n        # value needs to be passed as list because dpf does not support numpy\n        # slices in the append call.\n        local_result_field.append(value.tolist(), element_id)\n\ncomposite_model.get_mesh().plot(result_field)"
      ]
    },
    {
      "cell_type": "markdown",
      "metadata": {},
      "source": [
        "# Filter by material\n\nLoop over all elements and get the maximum stress in the material\ndirection for all plies that have a specific UD material.\n"
      ]
    },
    {
      "cell_type": "code",
      "execution_count": null,
      "metadata": {
        "collapsed": false
      },
      "outputs": [],
      "source": [
        "ud_material_id = composite_model.material_names[\"Epoxy Carbon UD (230 GPa) Prepreg\"]\ncomponent = Sym3x3TensorComponent.TENSOR11\n\nmaterial_result_field = dpf.field.Field(location=dpf.locations.elemental, nature=dpf.natures.scalar)\nwith material_result_field.as_local_field() as local_result_field:\n    element_ids = stress_field_material_coord.scoping.ids\n\n    for element_id in element_ids:\n        element_info = composite_model.get_element_info(element_id)\n        assert element_info is not None\n        if ud_material_id in element_info.dpf_material_ids:\n            stress_data = stress_field_material_coord.get_entity_data_by_id(element_id)\n            selected_indices = get_selected_indices_by_dpf_material_ids(\n                element_info, [ud_material_id]\n            )\n\n            value = np.max(stress_data[selected_indices][:, component])\n            local_result_field.append([value], element_id)\n\ncomposite_model.get_mesh().plot(material_result_field)"
      ]
    },
    {
      "cell_type": "markdown",
      "metadata": {},
      "source": [
        "# Filter by analysis ply on the client side\n\nLoop over all elements that contain a given ply and plot the maximum\nstress value in the material direction in this ply.\n"
      ]
    },
    {
      "cell_type": "code",
      "execution_count": null,
      "metadata": {
        "collapsed": false
      },
      "outputs": [],
      "source": [
        "component = Sym3x3TensorComponent.TENSOR11\n\nanalysis_ply_info_provider = AnalysisPlyInfoProvider(\n    mesh=composite_model.get_mesh(), name=\"P1L1__ud_patch ns1\"\n)\n\nply_result_field = dpf.field.Field(location=dpf.locations.elemental, nature=dpf.natures.scalar)\nwith ply_result_field.as_local_field() as local_result_field:\n    element_ids = analysis_ply_info_provider.property_field.scoping.ids\n\n    for element_id in element_ids:\n        stress_data = stress_field_material_coord.get_entity_data_by_id(element_id)\n        element_info = composite_model.get_element_info(element_id)\n        assert element_info is not None\n        selected_indices = get_selected_indices_by_analysis_ply(\n            analysis_ply_info_provider, element_info\n        )\n\n        value = np.max(stress_data[selected_indices][:, component])\n        local_result_field.append([value], element_id)\n\n\ncomposite_model.get_mesh().plot(ply_result_field)"
      ]
    }
  ],
  "metadata": {
    "kernelspec": {
      "display_name": "Python 3",
      "language": "python",
      "name": "python3"
    },
    "language_info": {
      "codemirror_mode": {
        "name": "ipython",
        "version": 3
      },
      "file_extension": ".py",
      "mimetype": "text/x-python",
      "name": "python",
      "nbconvert_exporter": "python",
      "pygments_lexer": "ipython3",
      "version": "3.13.3"
    }
  },
  "nbformat": 4,
  "nbformat_minor": 0
}