{
  "cells": [
    {
      "cell_type": "code",
      "execution_count": null,
      "metadata": {
        "collapsed": false
      },
      "outputs": [],
      "source": [
        "%matplotlib inline"
      ]
    },
    {
      "cell_type": "markdown",
      "metadata": {},
      "source": [
        "Sampling Point - Processing and visualization of laminate results {#sampling_point_example}\n=================================================================\n\nExample how the lay-up and through-the-thickness results of a layered\nelement can be accessed, processed and visualized.\n"
      ]
    },
    {
      "cell_type": "code",
      "execution_count": null,
      "metadata": {
        "collapsed": false
      },
      "outputs": [],
      "source": [
        "import os\nimport pathlib"
      ]
    },
    {
      "cell_type": "markdown",
      "metadata": {},
      "source": [
        "Load ansys libraries\n"
      ]
    },
    {
      "cell_type": "code",
      "execution_count": null,
      "metadata": {
        "collapsed": false
      },
      "outputs": [],
      "source": [
        "import ansys.dpf.core as dpf\n\nfrom ansys.dpf.composites import ResultDefinition, SamplingPoint, Spot\nfrom ansys.dpf.composites.failure_criteria import (\n    CombinedFailureCriterion,\n    CoreFailureCriterion,\n    MaxStrainCriterion,\n    MaxStressCriterion,\n    VonMisesCriterion,\n)\nfrom ansys.dpf.composites.load_plugin import load_composites_plugin"
      ]
    },
    {
      "cell_type": "markdown",
      "metadata": {},
      "source": [
        "Definition of the combined failure criterion\n"
      ]
    },
    {
      "cell_type": "code",
      "execution_count": null,
      "metadata": {
        "collapsed": false
      },
      "outputs": [],
      "source": [
        "def get_combined_failure_criterion() -> CombinedFailureCriterion:\n    max_strain = MaxStrainCriterion()\n    max_stress = MaxStressCriterion()\n    core_failure = CoreFailureCriterion()\n    von_mises_strain_only = VonMisesCriterion(vme=True, vms=False)\n\n    return CombinedFailureCriterion(\n        name=\"failure of all materials\",\n        failure_criteria=[max_strain, max_stress, core_failure, von_mises_strain_only],\n    )"
      ]
    },
    {
      "cell_type": "markdown",
      "metadata": {},
      "source": [
        "Load dpf plugin\n"
      ]
    },
    {
      "cell_type": "code",
      "execution_count": null,
      "metadata": {
        "collapsed": false
      },
      "outputs": [],
      "source": [
        "server = dpf.server.connect_to_server(\"127.0.0.1\", port=21002)\nload_composites_plugin()"
      ]
    },
    {
      "cell_type": "markdown",
      "metadata": {},
      "source": [
        "Specify input files and upload them to the server\n"
      ]
    },
    {
      "cell_type": "code",
      "execution_count": null,
      "metadata": {
        "collapsed": false
      },
      "outputs": [],
      "source": [
        "TEST_DATA_ROOT_DIR = pathlib.Path(os.environ[\"REPO_ROOT\"]) / \"tests\" / \"data\" / \"shell\"\nrst_path = os.path.join(TEST_DATA_ROOT_DIR, \"shell.rst\")\nh5_path = os.path.join(TEST_DATA_ROOT_DIR, \"ACPCompositeDefinitions.h5\")\nmaterial_path = os.path.join(TEST_DATA_ROOT_DIR, \"material.engd\")\nrst_server_path = dpf.upload_file_in_tmp_folder(rst_path, server=server)\nh5_server_path = dpf.upload_file_in_tmp_folder(h5_path, server=server)\nmaterial_server_path = dpf.upload_file_in_tmp_folder(material_path, server=server)"
      ]
    },
    {
      "cell_type": "markdown",
      "metadata": {},
      "source": [
        "Configuration of the result definition which is used to configure the\ncomposite\\_failure\\_operator\n"
      ]
    },
    {
      "cell_type": "code",
      "execution_count": null,
      "metadata": {
        "collapsed": false
      },
      "outputs": [],
      "source": [
        "rd = ResultDefinition(\n    \"combined failure criteria\",\n    rst_files=[rst_server_path],\n    material_files=[material_server_path],\n    composite_definitions=[h5_server_path],\n    combined_failure_criterion=get_combined_failure_criterion(),\n    element_scope=[3],\n)"
      ]
    },
    {
      "cell_type": "markdown",
      "metadata": {},
      "source": [
        "Create the sampling point and update it\n"
      ]
    },
    {
      "cell_type": "code",
      "execution_count": null,
      "metadata": {
        "collapsed": false
      },
      "outputs": [],
      "source": [
        "sampling_point = SamplingPoint(\"my first sampling point\", rd, server)"
      ]
    },
    {
      "cell_type": "markdown",
      "metadata": {},
      "source": [
        "Plot results using preconfigured plots\n"
      ]
    },
    {
      "cell_type": "code",
      "execution_count": null,
      "metadata": {
        "collapsed": false
      },
      "outputs": [],
      "source": [
        "fig, axes = sampling_point.get_result_plots(\n    strain_components=[],  # do not plot strains\n    core_scale_factor=0.1,\n    spots=[Spot.BOTTOM, Spot.TOP],\n    show_failure_modes=True,\n)\nfig.set_figheight(8)\nfig.set_figwidth(12)"
      ]
    },
    {
      "cell_type": "markdown",
      "metadata": {},
      "source": [
        "Plot polar properties using a preconfigured plot\n"
      ]
    },
    {
      "cell_type": "code",
      "execution_count": null,
      "metadata": {
        "collapsed": false
      },
      "outputs": [],
      "source": [
        "fig, polar_plot = sampling_point.get_polar_plot([\"E1\", \"G12\"])"
      ]
    },
    {
      "cell_type": "markdown",
      "metadata": {},
      "source": [
        "Generate a custom plot: plot S13 and S23\n"
      ]
    },
    {
      "cell_type": "code",
      "execution_count": null,
      "metadata": {
        "collapsed": false
      },
      "outputs": [],
      "source": [
        "import matplotlib.pyplot as plt\n\nfig, ax1 = plt.subplots()\ncore_scale_factor = 0.5\n\nsampling_point.add_results_to_plot(\n    ax1,\n    [\"s13\", \"s23\"],\n    [Spot.BOTTOM, Spot.TOP],\n    core_scale_factor,\n    \"Out-of-plane shear stresses\",\n    \"MPA\",\n)\nax1.legend()\nplt.rcParams[\"hatch.linewidth\"] = 0.2\nplt.rcParams[\"hatch.color\"] = \"silver\"\nsampling_point.add_ply_sequence_to_plot(ax1, core_scale_factor)"
      ]
    },
    {
      "cell_type": "markdown",
      "metadata": {},
      "source": [
        "Another approach to generate a custom plot\n"
      ]
    },
    {
      "cell_type": "code",
      "execution_count": null,
      "metadata": {
        "collapsed": false
      },
      "outputs": [],
      "source": [
        "interfaces = [Spot.BOTTOM, Spot.TOP]\ncore_scale_factor = 1.0\nindices = sampling_point.get_indices(interfaces)\noffsets = sampling_point.get_offsets_by_spots(interfaces, core_scale_factor)\ne12 = sampling_point.e12[indices]\ne2 = sampling_point.e2[indices]\n\nfig, ax1 = plt.subplots()\nplt.rcParams[\"hatch.linewidth\"] = 0.2\nplt.rcParams[\"hatch.color\"] = \"silver\"\nline = ax1.plot(e12, offsets, label=\"e12\")\nline = ax1.plot(e2, offsets, label=\"e2\")\nax1.set_yticks([])\nax1.legend()\nax1.set_title(\"e12 and e2\")"
      ]
    }
  ],
  "metadata": {
    "kernelspec": {
      "display_name": "Python 3",
      "language": "python",
      "name": "python3"
    },
    "language_info": {
      "codemirror_mode": {
        "name": "ipython",
        "version": 3
      },
      "file_extension": ".py",
      "mimetype": "text/x-python",
      "name": "python",
      "nbconvert_exporter": "python",
      "pygments_lexer": "ipython3",
      "version": "3.7.15"
    }
  },
  "nbformat": 4,
  "nbformat_minor": 0
}