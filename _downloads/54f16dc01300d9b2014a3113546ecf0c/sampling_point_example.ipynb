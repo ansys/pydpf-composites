{
  "cells": [
    {
      "cell_type": "code",
      "execution_count": null,
      "metadata": {
        "collapsed": false
      },
      "outputs": [],
      "source": [
        "%matplotlib inline"
      ]
    },
    {
      "cell_type": "markdown",
      "metadata": {},
      "source": [
        "Sampling Point - Processing and visualization of laminate results {#sampling_point_example}\n=================================================================\n\nExample how the lay-up and through-the-thickness results of a layered\nelement can be accessed, processed and visualized.\n"
      ]
    },
    {
      "cell_type": "markdown",
      "metadata": {},
      "source": [
        "Load ansys libraries\n"
      ]
    },
    {
      "cell_type": "code",
      "execution_count": null,
      "metadata": {
        "collapsed": false
      },
      "outputs": [],
      "source": [
        "from ansys.dpf.composites import ResultDefinition, SamplingPoint, Spot\nfrom ansys.dpf.composites.example_helper.example_helper import (\n    connect_to_or_start_server,\n    get_continuous_fiber_example_files,\n)\nfrom ansys.dpf.composites.failure_criteria import (\n    CombinedFailureCriterion,\n    CoreFailureCriterion,\n    MaxStrainCriterion,\n    MaxStressCriterion,\n    VonMisesCriterion,\n)"
      ]
    },
    {
      "cell_type": "markdown",
      "metadata": {},
      "source": [
        "Definition of the combined failure criterion\n============================================\n"
      ]
    },
    {
      "cell_type": "code",
      "execution_count": null,
      "metadata": {
        "collapsed": false
      },
      "outputs": [],
      "source": [
        "def get_combined_failure_criterion() -> CombinedFailureCriterion:\n    max_strain = MaxStrainCriterion()\n    max_stress = MaxStressCriterion()\n    core_failure = CoreFailureCriterion()\n    von_mises_strain_only = VonMisesCriterion(vme=True, vms=False)\n\n    return CombinedFailureCriterion(\n        name=\"failure of all materials\",\n        failure_criteria=[max_strain, max_stress, core_failure, von_mises_strain_only],\n    )\n\n\nserver_context = connect_to_or_start_server()\ncomposite_files_on_server = get_continuous_fiber_example_files(server_context, \"shell\")"
      ]
    },
    {
      "cell_type": "markdown",
      "metadata": {},
      "source": [
        "Configuration of the result definition\n======================================\n"
      ]
    },
    {
      "cell_type": "code",
      "execution_count": null,
      "metadata": {
        "collapsed": false
      },
      "outputs": [],
      "source": [
        "rd = ResultDefinition(\n    name=\"combined failure criteria\",\n    rst_files=[composite_files_on_server.rst],\n    material_files=[composite_files_on_server.engineering_data],\n    composite_definitions=[composite_files_on_server.composite_definitions],\n    combined_failure_criterion=get_combined_failure_criterion(),\n    element_scope=[3],\n)"
      ]
    },
    {
      "cell_type": "markdown",
      "metadata": {},
      "source": [
        "Create a Sampling Point object\n==============================\n"
      ]
    },
    {
      "cell_type": "code",
      "execution_count": null,
      "metadata": {
        "collapsed": false
      },
      "outputs": [],
      "source": [
        "sampling_point = SamplingPoint(\"my first sampling point\", rd, server_context.server)"
      ]
    },
    {
      "cell_type": "markdown",
      "metadata": {},
      "source": [
        "Plot Results\n============\n\nUse pre-configured plots\n------------------------\n"
      ]
    },
    {
      "cell_type": "code",
      "execution_count": null,
      "metadata": {
        "collapsed": false
      },
      "outputs": [],
      "source": [
        "fig, axes = sampling_point.get_result_plots(\n    strain_components=[],  # do not plot strains\n    core_scale_factor=0.1,\n    spots=[Spot.BOTTOM, Spot.TOP],\n    show_failure_modes=True,\n)\nfig.set_figheight(8)\nfig.set_figwidth(12)"
      ]
    },
    {
      "cell_type": "markdown",
      "metadata": {},
      "source": [
        "Plot polar properties\n=====================\n"
      ]
    },
    {
      "cell_type": "code",
      "execution_count": null,
      "metadata": {
        "collapsed": false
      },
      "outputs": [],
      "source": [
        "fig, polar_plot = sampling_point.get_polar_plot([\"E1\", \"G12\"])"
      ]
    },
    {
      "cell_type": "markdown",
      "metadata": {},
      "source": [
        "Custom plots:\n=============\n\nPlots can be easily customized or build from scratch. Here, matplotlib\nis used. An alternative is plotly.\n\ns13 and s23\n-----------\n"
      ]
    },
    {
      "cell_type": "code",
      "execution_count": null,
      "metadata": {
        "collapsed": false
      },
      "outputs": [],
      "source": [
        "import matplotlib.pyplot as plt\n\nfig, ax1 = plt.subplots()\ncore_scale_factor = 0.5\n\nsampling_point.add_results_to_plot(\n    ax1,\n    [\"s13\", \"s23\"],\n    [Spot.BOTTOM, Spot.TOP],\n    core_scale_factor,\n    \"Out-of-plane shear stresses\",\n    \"MPA\",\n)\nax1.legend()\nplt.rcParams[\"hatch.linewidth\"] = 0.2\nplt.rcParams[\"hatch.color\"] = \"silver\"\nsampling_point.add_ply_sequence_to_plot(ax1, core_scale_factor)"
      ]
    },
    {
      "cell_type": "markdown",
      "metadata": {},
      "source": [
        "e12 and e2\n==========\n"
      ]
    },
    {
      "cell_type": "code",
      "execution_count": null,
      "metadata": {
        "collapsed": false
      },
      "outputs": [],
      "source": [
        "interfaces = [Spot.BOTTOM, Spot.TOP]\ncore_scale_factor = 1.0\nindices = sampling_point.get_indices(interfaces)\noffsets = sampling_point.get_offsets_by_spots(interfaces, core_scale_factor)\ne12 = sampling_point.e12[indices]\ne2 = sampling_point.e2[indices]\n\nfig, ax1 = plt.subplots()\nplt.rcParams[\"hatch.linewidth\"] = 0.2\nplt.rcParams[\"hatch.color\"] = \"silver\"\nline = ax1.plot(e12, offsets, label=\"e12\")\nline = ax1.plot(e2, offsets, label=\"e2\")\nax1.set_yticks([])\nax1.legend()\nax1.set_title(\"e12 and e2\")"
      ]
    },
    {
      "cell_type": "markdown",
      "metadata": {},
      "source": [
        "Sample another element\n======================\n\nThe element id of the sampling point can be easily changed.\n"
      ]
    },
    {
      "cell_type": "code",
      "execution_count": null,
      "metadata": {
        "collapsed": false
      },
      "outputs": [],
      "source": [
        "sampling_point.element_id = 4\nfig, axes = sampling_point.get_result_plots(\n    strain_components=[],  # do not plot strains\n    core_scale_factor=0.1,\n    spots=[Spot.BOTTOM, Spot.TOP],\n    show_failure_modes=True,\n)\nfig.set_figheight(8)\nfig.set_figwidth(12)"
      ]
    }
  ],
  "metadata": {
    "kernelspec": {
      "display_name": "Python 3",
      "language": "python",
      "name": "python3"
    },
    "language_info": {
      "codemirror_mode": {
        "name": "ipython",
        "version": 3
      },
      "file_extension": ".py",
      "mimetype": "text/x-python",
      "name": "python",
      "nbconvert_exporter": "python",
      "pygments_lexer": "ipython3",
      "version": "3.9.16"
    }
  },
  "nbformat": 4,
  "nbformat_minor": 0
}