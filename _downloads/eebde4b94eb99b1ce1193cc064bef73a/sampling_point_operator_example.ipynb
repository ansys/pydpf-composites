{
  "cells": [
    {
      "cell_type": "code",
      "execution_count": null,
      "metadata": {
        "collapsed": false
      },
      "outputs": [],
      "source": [
        "%matplotlib inline"
      ]
    },
    {
      "cell_type": "markdown",
      "metadata": {},
      "source": [
        "Basic example for a Sampling Point Operator {#sampling_point_operator_example}\n===========================================\n\nSampling Point Operator returns the through-the-thickness results of a\nlayered element and lay-up information (ply material, thickness). This\nbasic example shows how the configure the operator and how to access the\ndata.\n\nThe\n`sphx_glr_examples_gallery_examples_sampling_point_example.py`{.interpreted-text\nrole=\"ref\"} shows how the sampling point data can be visualized.\n"
      ]
    },
    {
      "cell_type": "code",
      "execution_count": null,
      "metadata": {
        "collapsed": false
      },
      "outputs": [],
      "source": [
        "import json"
      ]
    },
    {
      "cell_type": "markdown",
      "metadata": {},
      "source": [
        "Load ansys libraries\n"
      ]
    },
    {
      "cell_type": "code",
      "execution_count": null,
      "metadata": {
        "collapsed": false
      },
      "outputs": [],
      "source": [
        "import ansys.dpf.core as dpf\nimport matplotlib.pyplot as plt\n\nfrom ansys.dpf.composites import ResultDefinition\nfrom ansys.dpf.composites.example_helper.example_helper import (\n    connect_to_or_start_server,\n    get_continuous_fiber_example_files,\n)\nfrom ansys.dpf.composites.failure_criteria import (\n    CombinedFailureCriterion,\n    CoreFailureCriterion,\n    MaxStrainCriterion,\n    MaxStressCriterion,\n    VonMisesCriterion,\n)"
      ]
    },
    {
      "cell_type": "markdown",
      "metadata": {},
      "source": [
        "Definition of the combined failure criterion\n"
      ]
    },
    {
      "cell_type": "code",
      "execution_count": null,
      "metadata": {
        "collapsed": false
      },
      "outputs": [],
      "source": [
        "def get_combined_failure_criterion() -> CombinedFailureCriterion:\n    max_strain = MaxStrainCriterion()\n    max_stress = MaxStressCriterion()\n    core_failure = CoreFailureCriterion()\n    von_mises_strain_only = VonMisesCriterion(vme=True, vms=False)\n\n    return CombinedFailureCriterion(\n        name=\"failure of all materials\",\n        failure_criteria=[max_strain, max_stress, core_failure, von_mises_strain_only],\n    )"
      ]
    },
    {
      "cell_type": "markdown",
      "metadata": {},
      "source": [
        "Load dpf plugin\n"
      ]
    },
    {
      "cell_type": "code",
      "execution_count": null,
      "metadata": {
        "collapsed": false
      },
      "outputs": [],
      "source": [
        "server_context = connect_to_or_start_server()\ncomposite_files_on_server = get_continuous_fiber_example_files(server_context, \"shell\")"
      ]
    },
    {
      "cell_type": "markdown",
      "metadata": {},
      "source": [
        "Define the result definition which is used to configure the\ncomposite\\_failure\\_operator\n"
      ]
    },
    {
      "cell_type": "code",
      "execution_count": null,
      "metadata": {
        "collapsed": false
      },
      "outputs": [],
      "source": [
        "rd = ResultDefinition(\n    name=\"combined failure criteria\",\n    rst_files=[composite_files_on_server.rst],\n    material_files=[composite_files_on_server.engineering_data],\n    composite_definitions=[composite_files_on_server.composite_definitions],\n    combined_failure_criterion=get_combined_failure_criterion(),\n    element_scope=[3],\n)\n\nsampling_point_op = dpf.Operator(\"composite::composite_sampling_point_operator\")\nsampling_point_op.inputs.result_definition(rd.to_json())"
      ]
    },
    {
      "cell_type": "code",
      "execution_count": null,
      "metadata": {
        "collapsed": false
      },
      "outputs": [],
      "source": [
        "# get the results and convert into JSON Dict\n\nresults = json.loads(sampling_point_op.outputs.results())"
      ]
    },
    {
      "cell_type": "code",
      "execution_count": null,
      "metadata": {
        "collapsed": false
      },
      "outputs": [],
      "source": [
        "# Extract failure values and modes and plot them\nelement_label = results[0][\"element_label\"]\nfailure_values = results[0][\"results\"][\"failures\"][\"inverse_reserve_factor\"]\nfailure_modes = results[0][\"results\"][\"failures\"][\"failure_modes\"]\noffsets = results[0][\"results\"][\"offsets\"]\n\nfig, ax1 = plt.subplots()\nax1.plot(failure_values, offsets)\n\n# add failure modes in the middle of each ply\nfailure_modes_middle = failure_modes[1::3]\noffsets_middle = offsets[1::3]\nfailure_values_middle = failure_values[1::3]\nfor index, fm in enumerate(failure_modes_middle):\n    ax1.annotate(\n        fm,\n        xy=(failure_values_middle[index], offsets_middle[index]),\n        xytext=(failure_values_middle[index], offsets_middle[index]),\n    )\n\n# finalize the plot\nax1.set_title(f\"{rd.name} of element {element_label}\")\nax1.set_xlabel(\"Inverse Reserve Factor [-]\")\nax1.set_ylabel(\"z-Coordinate [length]\")"
      ]
    }
  ],
  "metadata": {
    "kernelspec": {
      "display_name": "Python 3",
      "language": "python",
      "name": "python3"
    },
    "language_info": {
      "codemirror_mode": {
        "name": "ipython",
        "version": 3
      },
      "file_extension": ".py",
      "mimetype": "text/x-python",
      "name": "python",
      "nbconvert_exporter": "python",
      "pygments_lexer": "ipython3",
      "version": "3.9.15"
    }
  },
  "nbformat": 4,
  "nbformat_minor": 0
}