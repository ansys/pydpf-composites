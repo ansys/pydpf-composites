{
  "cells": [
    {
      "cell_type": "code",
      "execution_count": null,
      "metadata": {
        "collapsed": false
      },
      "outputs": [],
      "source": [
        "%matplotlib inline"
      ]
    },
    {
      "cell_type": "markdown",
      "metadata": {},
      "source": [
        "Basic example of dpf composites usage {#basic_example}\n=====================================\n\nVery basic!\n"
      ]
    },
    {
      "cell_type": "code",
      "execution_count": null,
      "metadata": {
        "collapsed": false
      },
      "outputs": [],
      "source": [
        "out = \"Hello World\"\n\nimport os"
      ]
    },
    {
      "cell_type": "code",
      "execution_count": null,
      "metadata": {
        "collapsed": false
      },
      "outputs": [],
      "source": [
        "import ansys.dpf.core as dpf\n\n# depending on your scenario you might also need to start the dpf server\n# for instance server = dpf.start_local_server()\nserver = dpf.server.connect_to_server(\"127.0.0.1\", port=21002)\npath = os.path.join(r\"shell.rst\")\nmodel = dpf.Model(path)\n\ndpf_server_file_path = dpf.upload_file_in_tmp_folder(path, server=server)\nmodel = dpf.Model(dpf_server_file_path)\n\ndisplacement = model.operator(\"U\")\n\ndisp_fc = displacement.outputs.fields_container.get_data()\ndisp_field = disp_fc[0]\n\nnorm_op = dpf.operators.math.norm_fc()\nnorm_op.inputs.connect(disp_fc)\n\nnorm_op.outputs.fields_container.get_data()[0].data\n\nmodel.metadata.meshed_region.plot(norm_op.outputs.fields_container.get_data()[0])"
      ]
    }
  ],
  "metadata": {
    "kernelspec": {
      "display_name": "Python 3",
      "language": "python",
      "name": "python3"
    },
    "language_info": {
      "codemirror_mode": {
        "name": "ipython",
        "version": 3
      },
      "file_extension": ".py",
      "mimetype": "text/x-python",
      "name": "python",
      "nbconvert_exporter": "python",
      "pygments_lexer": "ipython3",
      "version": "3.7.13"
    }
  },
  "nbformat": 4,
  "nbformat_minor": 0
}