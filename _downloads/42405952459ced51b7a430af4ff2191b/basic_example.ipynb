{
  "cells": [
    {
      "cell_type": "code",
      "execution_count": null,
      "metadata": {
        "collapsed": false
      },
      "outputs": [],
      "source": [
        "%matplotlib inline"
      ]
    },
    {
      "cell_type": "markdown",
      "metadata": {},
      "source": [
        "Basic example of setting up a composite failure workflow {#basic_example}\n========================================================\n"
      ]
    },
    {
      "cell_type": "code",
      "execution_count": null,
      "metadata": {
        "collapsed": false
      },
      "outputs": [],
      "source": [
        "import json\nimport os\nimport pathlib"
      ]
    },
    {
      "cell_type": "markdown",
      "metadata": {},
      "source": [
        "Load ansys libraries\n"
      ]
    },
    {
      "cell_type": "code",
      "execution_count": null,
      "metadata": {
        "collapsed": false
      },
      "outputs": [],
      "source": [
        "import ansys.dpf.core as dpf\n\nfrom ansys.dpf.composites.failure_config import get_failure_criteria_definition"
      ]
    },
    {
      "cell_type": "markdown",
      "metadata": {},
      "source": [
        "Load dpf plugin\n"
      ]
    },
    {
      "cell_type": "code",
      "execution_count": null,
      "metadata": {
        "collapsed": false
      },
      "outputs": [],
      "source": [
        "server = dpf.server.connect_to_server(\"127.0.0.1\", port=21002)\ndpf.load_library(\"libcomposite_operators.so\", \"composites\")\ndpf.load_library(\"libAns.Dpf.EngineeringData.so\", \"engineeringdata\")"
      ]
    },
    {
      "cell_type": "markdown",
      "metadata": {},
      "source": [
        "Specify input files and upload them to the server\n"
      ]
    },
    {
      "cell_type": "code",
      "execution_count": null,
      "metadata": {
        "collapsed": false
      },
      "outputs": [],
      "source": [
        "# Todo make files available for users\nTEST_DATA_ROOT_DIR = pathlib.Path(os.environ[\"REPO_ROOT\"]) / \"tests\" / \"data\" / \"shell\"\nrst_path = os.path.join(TEST_DATA_ROOT_DIR, \"shell.rst\")\nh5_path = os.path.join(TEST_DATA_ROOT_DIR, \"ACPCompositeDefinitions.h5\")\nmaterial_path = os.path.join(TEST_DATA_ROOT_DIR, \"material.engd\")\nrst_server_path = dpf.upload_file_in_tmp_folder(rst_path, server=server)\nh5_server_path = dpf.upload_file_in_tmp_folder(h5_path, server=server)\nmaterial_server_path = dpf.upload_file_in_tmp_folder(material_path, server=server)"
      ]
    },
    {
      "cell_type": "code",
      "execution_count": null,
      "metadata": {
        "collapsed": false
      },
      "outputs": [],
      "source": [
        "model = dpf.Model(rst_server_path)\nrst_data_source = dpf.DataSources(rst_server_path)\n\neng_data_source = dpf.DataSources()\neng_data_source.add_file_path(material_server_path, \"EngineeringData\")\n\ncomposite_definitions_source = dpf.DataSources()\ncomposite_definitions_source.add_file_path(h5_server_path, \"CompositeDefinitions\")"
      ]
    },
    {
      "cell_type": "markdown",
      "metadata": {},
      "source": [
        "Setup Mesh Provider\n"
      ]
    },
    {
      "cell_type": "code",
      "execution_count": null,
      "metadata": {
        "collapsed": false
      },
      "outputs": [],
      "source": [
        "mesh_provider = dpf.Operator(\"MeshProvider\")\nmesh_provider.inputs.data_sources(rst_data_source)"
      ]
    },
    {
      "cell_type": "markdown",
      "metadata": {},
      "source": [
        "Setup Material Provider The material support provider takes care of\nmapping the materials in the rst file to the materials in the composite\ndefinitions. The material support contains all the materials from the\nrst file.\n"
      ]
    },
    {
      "cell_type": "code",
      "execution_count": null,
      "metadata": {
        "collapsed": false
      },
      "outputs": [],
      "source": [
        "material_support_provider = dpf.Operator(\"support_provider\")\nmaterial_support_provider.inputs.property(\"mat\")\nmaterial_support_provider.inputs.data_sources(rst_data_source)"
      ]
    },
    {
      "cell_type": "markdown",
      "metadata": {},
      "source": [
        "Get Result Info This is needed provides the unit system from the rst\nfile\n"
      ]
    },
    {
      "cell_type": "code",
      "execution_count": null,
      "metadata": {
        "collapsed": false
      },
      "outputs": [],
      "source": [
        "result_info_provider = dpf.Operator(\"ResultInfoProvider\")\nresult_info_provider.inputs.data_sources(rst_data_source)"
      ]
    },
    {
      "cell_type": "markdown",
      "metadata": {},
      "source": [
        "Set up material provider Combines the material support the engineering\ndata xml file and the unit\\_system. It\\'s output can be used to evaluate\nmaterial properties\n"
      ]
    },
    {
      "cell_type": "code",
      "execution_count": null,
      "metadata": {
        "collapsed": false
      },
      "outputs": [],
      "source": [
        "material_provider = dpf.Operator(\"eng_data::ans_mat_material_provider\")\nmaterial_provider.inputs.data_sources = eng_data_source\nmaterial_provider.inputs.unit_system_or_result_info(result_info_provider.outputs.result_info)\nmaterial_provider.inputs.abstract_field_support(\n    material_support_provider.outputs.abstract_field_support\n)\nmaterial_provider.inputs.Engineering_data_file(eng_data_source)"
      ]
    },
    {
      "cell_type": "markdown",
      "metadata": {},
      "source": [
        "Set up the layup provider Read the composite definition file and\nenriches the mesh with the composite layup information.\n"
      ]
    },
    {
      "cell_type": "code",
      "execution_count": null,
      "metadata": {
        "collapsed": false
      },
      "outputs": [],
      "source": [
        "layup_provider = dpf.Operator(\"composite::layup_provider_operator\")\nlayup_provider.inputs.mesh(mesh_provider.outputs.mesh)\nlayup_provider.inputs.data_sources(composite_definitions_source)\nlayup_provider.inputs.abstract_field_support(\n    material_support_provider.outputs.abstract_field_support\n)\nlayup_provider.inputs.unit_system_or_result_info(result_info_provider.outputs.result_info)\nlayup_provider.run()"
      ]
    },
    {
      "cell_type": "markdown",
      "metadata": {},
      "source": [
        "Setup the result operators: strains and stresses Rotate to global is\nFalse because the post-processing engine expects the results to be in\nthe element coordinate system ( material coordinate system)\n"
      ]
    },
    {
      "cell_type": "code",
      "execution_count": null,
      "metadata": {
        "collapsed": false
      },
      "outputs": [],
      "source": [
        "strain_operator = dpf.Operator(\"EPEL\")\nstrain_operator.inputs.data_sources(rst_data_source)\nstrain_operator.inputs.bool_rotate_to_global(False)\n\nstress_operator = dpf.Operator(\"S\")\nstress_operator.inputs.data_sources(rst_data_source)\nstress_operator.inputs.bool_rotate_to_global(False)"
      ]
    },
    {
      "cell_type": "markdown",
      "metadata": {},
      "source": [
        "Setup the failure evaluator. Combines the results and evaluates all the\nfailure criteria. The output contains the maximum failure criteria for\neach integration point.\n"
      ]
    },
    {
      "cell_type": "code",
      "execution_count": null,
      "metadata": {
        "collapsed": false
      },
      "outputs": [],
      "source": [
        "failure_criteria_definition = get_failure_criteria_definition()\n\nfailure_evaluator = dpf.Operator(\"composite::multiple_failure_criteria_operator\")\nfailure_evaluator.inputs.configuration(json.dumps(failure_criteria_definition))\nfailure_evaluator.inputs.materials_container(material_provider.outputs)\nfailure_evaluator.inputs.strains(strain_operator.outputs.fields_container)\nfailure_evaluator.inputs.stresses(stress_operator.outputs.fields_container)\nfailure_evaluator.inputs.mesh(mesh_provider.outputs.mesh)"
      ]
    },
    {
      "cell_type": "markdown",
      "metadata": {},
      "source": [
        "Uses the output of the multiple\\_failure\\_criteria\\_operator to compute\nthe min and max failure criteria for each element\n"
      ]
    },
    {
      "cell_type": "code",
      "execution_count": null,
      "metadata": {
        "collapsed": false
      },
      "outputs": [],
      "source": [
        "minmax_per_element = dpf.Operator(\"composite::minmax_per_element_operator\")\nminmax_per_element.inputs.fields_container(failure_evaluator.outputs.fields_container)\nminmax_per_element.inputs.mesh(mesh_provider.outputs.mesh)\nminmax_per_element.inputs.abstract_field_support(\n    material_support_provider.outputs.abstract_field_support\n)\n\noutput = minmax_per_element.outputs.field_max()"
      ]
    },
    {
      "cell_type": "markdown",
      "metadata": {},
      "source": [
        "Plot the max and the minimum value for each value\n"
      ]
    },
    {
      "cell_type": "code",
      "execution_count": null,
      "metadata": {
        "collapsed": false
      },
      "outputs": [],
      "source": [
        "value_index = 1\nmodel.metadata.meshed_region.plot(output[value_index])"
      ]
    }
  ],
  "metadata": {
    "kernelspec": {
      "display_name": "Python 3",
      "language": "python",
      "name": "python3"
    },
    "language_info": {
      "codemirror_mode": {
        "name": "ipython",
        "version": 3
      },
      "file_extension": ".py",
      "mimetype": "text/x-python",
      "name": "python",
      "nbconvert_exporter": "python",
      "pygments_lexer": "ipython3",
      "version": "3.7.13"
    }
  },
  "nbformat": 4,
  "nbformat_minor": 0
}