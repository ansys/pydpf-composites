{
  "cells": [
    {
      "cell_type": "code",
      "execution_count": null,
      "metadata": {
        "collapsed": false
      },
      "outputs": [],
      "source": [
        "%matplotlib inline"
      ]
    },
    {
      "cell_type": "markdown",
      "metadata": {},
      "source": [
        "Basic example of dpf composites usage {#basic_example}\n=====================================\n\nVery basic!\n"
      ]
    },
    {
      "cell_type": "code",
      "execution_count": null,
      "metadata": {
        "collapsed": false
      },
      "outputs": [],
      "source": [
        "import json\nimport os"
      ]
    },
    {
      "cell_type": "code",
      "execution_count": null,
      "metadata": {
        "collapsed": false
      },
      "outputs": [],
      "source": [
        "import ansys.dpf.core as dpf\n\n\ndef get_failure_criteria_definition():\n    max_strain_json_configuration = {\n        \"active\": True,\n        \"e1\": True,\n        \"e12\": True,\n        \"e13\": False,\n        \"e2\": True,\n        \"e23\": False,\n        \"e3\": False,\n        \"eSxy\": 0.015,\n        \"eSxz\": 0.015,\n        \"eSyz\": 0.015,\n        \"eXc\": -0.008,\n        \"eXt\": 0.01,\n        \"eYc\": -0.008,\n        \"eYt\": 0.01,\n        \"eZc\": -0.008,\n        \"eZt\": 0.01,\n        \"force_global_strain_limits\": False,\n        \"wf_e1\": 1,\n        \"wf_e12\": 1,\n        \"wf_e13\": 1,\n        \"wf_e2\": 1,\n        \"wf_e23\": 1,\n        \"wf_e3\": 1,\n    }\n    max_stress_json_configuration_2d = {\n        \"active\": True,\n        \"s1\": True,\n        \"s12\": True,\n        \"s13\": False,\n        \"s2\": True,\n        \"s23\": False,\n        \"s3\": False,\n        \"wf_s1\": 1,\n        \"wf_s12\": 1,\n        \"wf_s13\": 1,\n        \"wf_s2\": 1,\n        \"wf_s23\": 1,\n        \"wf_s3\": 1,\n    }\n    quadratic_failure_json_configuration_2d = {\"active\": True, \"dim\": 2, \"wf\": 1}\n    hashin_json_configuration = {\n        \"active\": True,\n        \"dim\": 2,\n        \"hd\": True,\n        \"hf\": True,\n        \"hm\": True,\n        \"wf_hd\": 1.0,\n        \"wf_hf\": 1.0,\n        \"wf_hm\": 1.0,\n    }\n    cuntze_failure_json_configuration = {\n        \"active\": True,\n        \"b21\": 0.2,\n        \"b32\": 1.38,\n        \"cfc\": True,\n        \"cft\": True,\n        \"cma\": True,\n        \"cmb\": True,\n        \"cmc\": True,\n        \"dim\": 2,\n        \"fracture_plane_angle\": 53,\n        \"mode_interaction_coeff\": 2.6,\n        \"wf_cfc\": 1,\n        \"wf_cft\": 1,\n        \"wf_cma\": 1,\n        \"wf_cmb\": 1,\n        \"wf_cmc\": 1,\n    }\n\n    core_failure_json_configuration = {\"active\": True, \"include_ins\": False, \"wf\": 1}\n\n    von_mises_only_strain_json_configuration = {\n        \"active\": True,\n        \"vme\": True,\n        \"vms\": False,\n        \"wf_vme\": 1.0,\n        \"wf_vms\": 1.0,\n    }\n\n    return {\n        \"max_strain\": max_strain_json_configuration,\n        \"max_stress\": max_stress_json_configuration_2d,\n        \"hashin\": hashin_json_configuration,\n        \"tsai_hill\": quadratic_failure_json_configuration_2d,\n        \"tsai_wu\": quadratic_failure_json_configuration_2d,\n        \"hoffman\": quadratic_failure_json_configuration_2d,\n        \"core_failure\": core_failure_json_configuration,\n        \"von_mises\": von_mises_only_strain_json_configuration,\n        \"cuntze\": cuntze_failure_json_configuration,\n    }\n\n\ndef get_pin_config():\n    return {\n        \"input\": {\n            \"data_source\": 4,\n            \"property\": 13,\n            \"mesh_region\": 7,\n            \"configuration\": 100,\n            \"strains\": 0,\n            \"stresses\": 1,\n            \"materials_container\": 23,\n            \"material_support\": 21,\n        },\n        \"output\": {\n            \"min\": 0,\n            \"max\": 1,\n            \"mode_index\": 0,\n            \"value_index\": 1,\n        },\n    }\n\n\n# depending on your scenario you might also need to start the dpf server\n# for instance server = dpf.start_local_server()\nserver = dpf.server.connect_to_server(\"127.0.0.1\", port=21002)\ndpf.load_library(\"libcomposite_operators.so\", \"composites\")\ndpf.load_library(\"libAns.Dpf.EngineeringData.so\", \"engineeringdata\")\n\nrst_path = os.path.join(r\"shell.rst\")\nh5_path = os.path.join(r\"ACPCompositeDefinitions.h5\")\nmaterial_path = os.path.join(r\"material.engd\")\n\nrst_server_path = dpf.upload_file_in_tmp_folder(rst_path, server=server)\nh5_server_path = dpf.upload_file_in_tmp_folder(h5_path, server=server)\nmaterial_server_path = dpf.upload_file_in_tmp_folder(material_path, server=server)\nmodel = dpf.Model(rst_server_path)\n\n\npin_config = get_pin_config()\nout_pins = pin_config[\"output\"]\nin_pins = pin_config[\"input\"]\n\n\nrst_path = rst_server_path\neng_data_path = material_server_path\ncomposite_definitions_path = h5_server_path\n\nrst_data_source = dpf.DataSources(rst_path)\n\nmesh_provider = dpf.Operator(\"MeshProvider\")\nmesh_provider.connect(in_pins[\"data_source\"], rst_data_source)\nmesh_provider.run()\n\neng_data_source = dpf.DataSources()\neng_data_source.add_file_path(eng_data_path, \"EngineeringData\")\n\ncomposite_definitions_source = dpf.DataSources()\ncomposite_definitions_source.add_file_path(composite_definitions_path, \"CompositeDefinitions\")\n\nmaterial_support_provider = dpf.Operator(\"support_provider\")\nmaterial_support_provider.connect(in_pins[\"property\"], \"mat\")\nmaterial_support_provider.connect(in_pins[\"data_source\"], rst_data_source)\nmaterial_support_provider.run()\n\nresult_info_provider = dpf.Operator(\"ResultInfoProvider\")\nresult_info_provider.connect(in_pins[\"data_source\"], rst_data_source)\n\nmaterial_provider = dpf.Operator(\"eng_data::ans_mat_material_provider\")\nmaterial_provider.connect(in_pins[\"data_source\"], eng_data_source)\nmaterial_provider.connect(1, result_info_provider, 0)\nmaterial_provider.connect(0, material_support_provider, 0)\nmaterial_provider.run()\n\nlayup_provider = dpf.Operator(\"composite::layup_provider_operator\")\nmesh_provider = dpf.Operator(\"MeshProvider\")\nmesh_provider.connect(in_pins[\"data_source\"], rst_data_source)\nmesh_provider.run()\n\nlayup_provider.connect(in_pins[\"mesh_region\"], mesh_provider, 0)\nlayup_provider.connect(in_pins[\"data_source\"], composite_definitions_source)\nlayup_provider.connect(in_pins[\"material_support\"], material_support_provider, 0)\nlayup_provider.connect(3, result_info_provider, 0)\nlayup_provider.run()\n\nmaterial_provider.connect(0, material_support_provider, 0)\nmaterial_provider.connect(in_pins[\"data_source\"], eng_data_source)\n\nmaterial_provider.run()\n\nfailure_criteria_definition = get_failure_criteria_definition()\n\nstrain_operator = dpf.Operator(\"EPEL\")\nstrain_operator.connect(in_pins[\"data_source\"], rst_data_source)\nstrain_operator.connect(5, False)\n\nstress_operator = dpf.Operator(\"S\")\nstress_operator.connect(in_pins[\"data_source\"], rst_data_source)\nstress_operator.connect(5, False)\n\nfailure_evaluator = dpf.Operator(\"composite::multiple_failure_criteria_operator\")\nfailure_evaluator.connect(in_pins[\"configuration\"], json.dumps(failure_criteria_definition))\nfailure_evaluator.connect(in_pins[\"materials_container\"], material_provider, 0)\nfailure_evaluator.connect(in_pins[\"strains\"], strain_operator, 0)\nfailure_evaluator.connect(in_pins[\"stresses\"], stress_operator, 0)\nfailure_evaluator.connect(in_pins[\"mesh_region\"], mesh_provider, 0)\n\nminmax_per_element = dpf.Operator(\"composite::minmax_per_element_operator\")\nminmax_per_element.connect(0, failure_evaluator, 0)\nminmax_per_element.connect(in_pins[\"mesh_region\"], mesh_provider, 0)\nminmax_per_element.connect(in_pins[\"material_support\"], material_support_provider, 0)\n\noutput = minmax_per_element.get_output(out_pins[\"max\"], dpf.types.fields_container)"
      ]
    },
    {
      "cell_type": "code",
      "execution_count": null,
      "metadata": {
        "collapsed": false
      },
      "outputs": [],
      "source": [
        "model.metadata.meshed_region.plot(output[out_pins[\"value_index\"]])"
      ]
    }
  ],
  "metadata": {
    "kernelspec": {
      "display_name": "Python 3",
      "language": "python",
      "name": "python3"
    },
    "language_info": {
      "codemirror_mode": {
        "name": "ipython",
        "version": 3
      },
      "file_extension": ".py",
      "mimetype": "text/x-python",
      "name": "python",
      "nbconvert_exporter": "python",
      "pygments_lexer": "ipython3",
      "version": "3.7.13"
    }
  },
  "nbformat": 4,
  "nbformat_minor": 0
}