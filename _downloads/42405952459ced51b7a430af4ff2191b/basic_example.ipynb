{
  "cells": [
    {
      "cell_type": "code",
      "execution_count": null,
      "metadata": {
        "collapsed": false
      },
      "outputs": [],
      "source": [
        "%matplotlib inline"
      ]
    },
    {
      "cell_type": "markdown",
      "metadata": {},
      "source": [
        "Basic example of dpf composites usage {#basic_example}\n=====================================\n\nVery basic!\n"
      ]
    },
    {
      "cell_type": "code",
      "execution_count": null,
      "metadata": {
        "collapsed": false
      },
      "outputs": [],
      "source": [
        "import json\nimport os\nimport pathlib"
      ]
    },
    {
      "cell_type": "code",
      "execution_count": null,
      "metadata": {
        "collapsed": false
      },
      "outputs": [],
      "source": [
        "import ansys.dpf.core as dpf\n\nfrom ansys.dpf.composites.failure_config import get_failure_criteria_definition\nfrom ansys.dpf.composites.pin_config import get_pin_config\n\n# depending on your scenario you might also need to start the dpf server\n# for instance server = dpf.start_local_server()\nserver = dpf.server.connect_to_server(\"127.0.0.1\", port=21002)\ndpf.load_library(\"libcomposite_operators.so\", \"composites\")\ndpf.load_library(\"libAns.Dpf.EngineeringData.so\", \"engineeringdata\")\n\nTEST_DATA_ROOT_DIR = pathlib.Path(os.environ[\"REPO_ROOT\"]) / \"tests\" / \"data\"\n\n# Todo make files available for users\nrst_path = os.path.join(TEST_DATA_ROOT_DIR, \"shell.rst\")\nh5_path = os.path.join(TEST_DATA_ROOT_DIR, \"ACPCompositeDefinitions.h5\")\nmaterial_path = os.path.join(TEST_DATA_ROOT_DIR, \"material.engd\")\n\nrst_server_path = dpf.upload_file_in_tmp_folder(rst_path, server=server)\nh5_server_path = dpf.upload_file_in_tmp_folder(h5_path, server=server)\nmaterial_server_path = dpf.upload_file_in_tmp_folder(material_path, server=server)\nmodel = dpf.Model(rst_server_path)\n\n\npin_config = get_pin_config()\nout_pins = pin_config[\"output\"]\nin_pins = pin_config[\"input\"]\n\n\nrst_path = rst_server_path\neng_data_path = material_server_path\ncomposite_definitions_path = h5_server_path\n\nrst_data_source = dpf.DataSources(rst_path)\n\nmesh_provider = dpf.Operator(\"MeshProvider\")\nmesh_provider.connect(in_pins[\"data_source\"], rst_data_source)\nmesh_provider.run()\n\neng_data_source = dpf.DataSources()\neng_data_source.add_file_path(eng_data_path, \"EngineeringData\")\n\ncomposite_definitions_source = dpf.DataSources()\ncomposite_definitions_source.add_file_path(composite_definitions_path, \"CompositeDefinitions\")\n\nmaterial_support_provider = dpf.Operator(\"support_provider\")\nmaterial_support_provider.connect(in_pins[\"property\"], \"mat\")\nmaterial_support_provider.connect(in_pins[\"data_source\"], rst_data_source)\nmaterial_support_provider.run()\n\nresult_info_provider = dpf.Operator(\"ResultInfoProvider\")\nresult_info_provider.connect(in_pins[\"data_source\"], rst_data_source)\n\nmaterial_provider = dpf.Operator(\"eng_data::ans_mat_material_provider\")\nmaterial_provider.connect(in_pins[\"data_source\"], eng_data_source)\nmaterial_provider.connect(1, result_info_provider, 0)\nmaterial_provider.connect(0, material_support_provider, 0)\nmaterial_provider.run()\n\nlayup_provider = dpf.Operator(\"composite::layup_provider_operator\")\nmesh_provider = dpf.Operator(\"MeshProvider\")\nmesh_provider.connect(in_pins[\"data_source\"], rst_data_source)\nmesh_provider.run()\n\nlayup_provider.connect(in_pins[\"mesh_region\"], mesh_provider, 0)\nlayup_provider.connect(in_pins[\"data_source\"], composite_definitions_source)\nlayup_provider.connect(in_pins[\"material_support\"], material_support_provider, 0)\nlayup_provider.connect(3, result_info_provider, 0)\nlayup_provider.run()\n\nmaterial_provider.connect(0, material_support_provider, 0)\nmaterial_provider.connect(in_pins[\"data_source\"], eng_data_source)\n\nmaterial_provider.run()\n\nfailure_criteria_definition = get_failure_criteria_definition()\n\nstrain_operator = dpf.Operator(\"EPEL\")\nstrain_operator.connect(in_pins[\"data_source\"], rst_data_source)\nstrain_operator.connect(5, False)\n\nstress_operator = dpf.Operator(\"S\")\nstress_operator.connect(in_pins[\"data_source\"], rst_data_source)\nstress_operator.connect(5, False)\n\nfailure_evaluator = dpf.Operator(\"composite::multiple_failure_criteria_operator\")\nfailure_evaluator.connect(in_pins[\"configuration\"], json.dumps(failure_criteria_definition))\nfailure_evaluator.connect(in_pins[\"materials_container\"], material_provider, 0)\nfailure_evaluator.connect(in_pins[\"strains\"], strain_operator, 0)\nfailure_evaluator.connect(in_pins[\"stresses\"], stress_operator, 0)\nfailure_evaluator.connect(in_pins[\"mesh_region\"], mesh_provider, 0)\n\nminmax_per_element = dpf.Operator(\"composite::minmax_per_element_operator\")\nminmax_per_element.connect(0, failure_evaluator, 0)\nminmax_per_element.connect(in_pins[\"mesh_region\"], mesh_provider, 0)\nminmax_per_element.connect(in_pins[\"material_support\"], material_support_provider, 0)\n\noutput = minmax_per_element.get_output(out_pins[\"max\"], dpf.types.fields_container)"
      ]
    },
    {
      "cell_type": "code",
      "execution_count": null,
      "metadata": {
        "collapsed": false
      },
      "outputs": [],
      "source": [
        "model.metadata.meshed_region.plot(output[out_pins[\"value_index\"]])"
      ]
    }
  ],
  "metadata": {
    "kernelspec": {
      "display_name": "Python 3",
      "language": "python",
      "name": "python3"
    },
    "language_info": {
      "codemirror_mode": {
        "name": "ipython",
        "version": 3
      },
      "file_extension": ".py",
      "mimetype": "text/x-python",
      "name": "python",
      "nbconvert_exporter": "python",
      "pygments_lexer": "ipython3",
      "version": "3.7.13"
    }
  },
  "nbformat": 4,
  "nbformat_minor": 0
}