{
  "cells": [
    {
      "cell_type": "code",
      "execution_count": null,
      "metadata": {
        "collapsed": false
      },
      "outputs": [],
      "source": [
        "%matplotlib inline"
      ]
    },
    {
      "cell_type": "markdown",
      "metadata": {},
      "source": [
        "How to use the composite failure operator {#failure_operator_example}\n=========================================\n\nThis operator computes the minimum and maximum failure values and\nfailure modes of a combined failure criterion\n"
      ]
    },
    {
      "cell_type": "code",
      "execution_count": null,
      "metadata": {
        "collapsed": false
      },
      "outputs": [],
      "source": [
        "import os\nimport pathlib"
      ]
    },
    {
      "cell_type": "markdown",
      "metadata": {},
      "source": [
        "Load ansys libraries\n"
      ]
    },
    {
      "cell_type": "code",
      "execution_count": null,
      "metadata": {
        "collapsed": false
      },
      "outputs": [],
      "source": [
        "import ansys.dpf.core as dpf\n\nfrom ansys.dpf.composites import ResultDefinition\nfrom ansys.dpf.composites.failure_criteria import (\n    CombinedFailureCriterion,\n    CoreFailureCriterion,\n    MaxStrainCriterion,\n    MaxStressCriterion,\n    VonMisesCriterion,\n)\nfrom ansys.dpf.composites.load_plugin import load_composites_plugin"
      ]
    },
    {
      "cell_type": "markdown",
      "metadata": {},
      "source": [
        "Definition of the combined failure criterion\n"
      ]
    },
    {
      "cell_type": "code",
      "execution_count": null,
      "metadata": {
        "collapsed": false
      },
      "outputs": [],
      "source": [
        "def get_combined_failure_criterion() -> CombinedFailureCriterion:\n    max_strain = MaxStrainCriterion()\n    max_stress = MaxStressCriterion()\n    core_failure = CoreFailureCriterion()\n    von_mises_strain_only = VonMisesCriterion(vme=True, vms=False)\n\n    return CombinedFailureCriterion(\n        name=\"failure of all materials\",\n        failure_criteria=[max_strain, max_stress, core_failure, von_mises_strain_only],\n    )"
      ]
    },
    {
      "cell_type": "markdown",
      "metadata": {},
      "source": [
        "Load dpf plugin\n"
      ]
    },
    {
      "cell_type": "code",
      "execution_count": null,
      "metadata": {
        "collapsed": false
      },
      "outputs": [],
      "source": [
        "server = dpf.server.connect_to_server(\"127.0.0.1\", port=21002)\nload_composites_plugin()"
      ]
    },
    {
      "cell_type": "markdown",
      "metadata": {},
      "source": [
        "Specify input files and upload them to the server\n"
      ]
    },
    {
      "cell_type": "code",
      "execution_count": null,
      "metadata": {
        "collapsed": false
      },
      "outputs": [],
      "source": [
        "TEST_DATA_ROOT_DIR = pathlib.Path(os.environ[\"REPO_ROOT\"]) / \"tests\" / \"data\" / \"shell\"\nrst_path = os.path.join(TEST_DATA_ROOT_DIR, \"shell.rst\")\nh5_path = os.path.join(TEST_DATA_ROOT_DIR, \"ACPCompositeDefinitions.h5\")\nmaterial_path = os.path.join(TEST_DATA_ROOT_DIR, \"material.engd\")\nrst_server_path = dpf.upload_file_in_tmp_folder(rst_path, server=server)\nh5_server_path = dpf.upload_file_in_tmp_folder(h5_path, server=server)\nmaterial_server_path = dpf.upload_file_in_tmp_folder(material_path, server=server)"
      ]
    },
    {
      "cell_type": "markdown",
      "metadata": {},
      "source": [
        "Define the result definition which is used to configure the\ncomposite\\_failure\\_operator Process all elements\n"
      ]
    },
    {
      "cell_type": "code",
      "execution_count": null,
      "metadata": {
        "collapsed": false
      },
      "outputs": [],
      "source": [
        "rd = ResultDefinition(\n    name=\"combined failure criteria\",\n    rst_files=[rst_server_path],\n    material_files=[material_server_path],\n    composite_definitions=[h5_server_path],\n    combined_failure_criterion=get_combined_failure_criterion(),\n)\n\nfc_op = dpf.Operator(\"composite::composite_failure_operator\")\nfc_op.inputs.result_definition(rd.to_json())\n\noutput_all_elements = fc_op.outputs.fields_containerMax()"
      ]
    },
    {
      "cell_type": "markdown",
      "metadata": {},
      "source": [
        "Plot the max IRF per element\n"
      ]
    },
    {
      "cell_type": "code",
      "execution_count": null,
      "metadata": {
        "collapsed": false
      },
      "outputs": [],
      "source": [
        "failure_value_index = 1\nfailiure_mode_index = 0\n\nirf_field = output_all_elements[failure_value_index]\nirf_field.plot()"
      ]
    },
    {
      "cell_type": "markdown",
      "metadata": {},
      "source": [
        "Scope failure evaluation to certain\n"
      ]
    },
    {
      "cell_type": "code",
      "execution_count": null,
      "metadata": {
        "collapsed": false
      },
      "outputs": [],
      "source": [
        "rd.element_scope = [1, 3]\nfc_op.inputs.result_definition(rd.to_json())\noutput_two_elements = fc_op.outputs.fields_containerMax()\nirf_field = output_two_elements[failure_value_index]\nirf_field.plot()"
      ]
    },
    {
      "cell_type": "markdown",
      "metadata": {},
      "source": [
        "Scope by plies\n"
      ]
    },
    {
      "cell_type": "code",
      "execution_count": null,
      "metadata": {
        "collapsed": false
      },
      "outputs": [],
      "source": [
        "rd.element_scope = []\nrd.ply_scope = [\"P1L1__ud_patch ns1\"]\nfc_op.inputs.result_definition(rd.to_json())\noutput_woven_plies = fc_op.outputs.fields_containerMax()\nirf_field = output_woven_plies[failure_value_index]\nirf_field.plot()"
      ]
    }
  ],
  "metadata": {
    "kernelspec": {
      "display_name": "Python 3",
      "language": "python",
      "name": "python3"
    },
    "language_info": {
      "codemirror_mode": {
        "name": "ipython",
        "version": 3
      },
      "file_extension": ".py",
      "mimetype": "text/x-python",
      "name": "python",
      "nbconvert_exporter": "python",
      "pygments_lexer": "ipython3",
      "version": "3.7.15"
    }
  },
  "nbformat": 4,
  "nbformat_minor": 0
}