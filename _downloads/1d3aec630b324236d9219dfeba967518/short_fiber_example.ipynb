{
  "cells": [
    {
      "cell_type": "code",
      "execution_count": null,
      "metadata": {
        "collapsed": false
      },
      "outputs": [],
      "source": [
        "%matplotlib inline"
      ]
    },
    {
      "cell_type": "markdown",
      "metadata": {},
      "source": [
        "Basic example for a short fiber failure analysis {#short_fiber_example}\n================================================\n"
      ]
    },
    {
      "cell_type": "code",
      "execution_count": null,
      "metadata": {
        "collapsed": false
      },
      "outputs": [],
      "source": [
        "import os\nimport pathlib"
      ]
    },
    {
      "cell_type": "markdown",
      "metadata": {},
      "source": [
        "Load ansys libraries\n"
      ]
    },
    {
      "cell_type": "code",
      "execution_count": null,
      "metadata": {
        "collapsed": false
      },
      "outputs": [],
      "source": [
        "import ansys.dpf.core as dpf\n\nfrom ansys.dpf.composites.load_plugin import load_composites_plugin"
      ]
    },
    {
      "cell_type": "markdown",
      "metadata": {},
      "source": [
        "Load dpf plugin\n"
      ]
    },
    {
      "cell_type": "code",
      "execution_count": null,
      "metadata": {
        "collapsed": false
      },
      "outputs": [],
      "source": [
        "server = dpf.server.connect_to_server(\"127.0.0.1\", port=21002)\nload_composites_plugin()"
      ]
    },
    {
      "cell_type": "markdown",
      "metadata": {},
      "source": [
        "Specify input files and upload them to the server\n"
      ]
    },
    {
      "cell_type": "code",
      "execution_count": null,
      "metadata": {
        "collapsed": false
      },
      "outputs": [],
      "source": [
        "TEST_DATA_ROOT_DIR = pathlib.Path(os.environ[\"REPO_ROOT\"]) / \"tests\" / \"data\" / \"short_fiber\"\n\nengd_file_path = os.path.join(TEST_DATA_ROOT_DIR, \"MatML.xml\")\nrst_path = os.path.join(TEST_DATA_ROOT_DIR, \"file.rst\")\ndat_file_path = os.path.join(TEST_DATA_ROOT_DIR, \"ds.dat\")\n\nrst_server_path = dpf.upload_file_in_tmp_folder(rst_path, server=server)\ndat_file_path_server_path = dpf.upload_file_in_tmp_folder(dat_file_path, server=server)\nengd_file_path_server_path = dpf.upload_file_in_tmp_folder(engd_file_path, server=server)"
      ]
    },
    {
      "cell_type": "markdown",
      "metadata": {},
      "source": [
        "Setup data sources\n"
      ]
    },
    {
      "cell_type": "code",
      "execution_count": null,
      "metadata": {
        "collapsed": false
      },
      "outputs": [],
      "source": [
        "data_sources = dpf.DataSources()\ndata_sources.add_file_path(engd_file_path_server_path, \"EngineeringData\")\ndata_sources.add_file_path(dat_file_path_server_path, \"dat\")\ndata_sources.set_result_file_path(rst_server_path)"
      ]
    },
    {
      "cell_type": "markdown",
      "metadata": {},
      "source": [
        "Create dpf model and mesh provider\n"
      ]
    },
    {
      "cell_type": "code",
      "execution_count": null,
      "metadata": {
        "collapsed": false
      },
      "outputs": [],
      "source": [
        "model = dpf.Model(rst_server_path)"
      ]
    },
    {
      "cell_type": "markdown",
      "metadata": {},
      "source": [
        "Short Fiber Failure Criterion Evaluator\n"
      ]
    },
    {
      "cell_type": "code",
      "execution_count": null,
      "metadata": {
        "collapsed": false
      },
      "outputs": [],
      "source": [
        "sf_op = dpf.Operator(\"composite::short_fiber_failure_criterion_evaluator\")\nsf_op.inputs.data_sources(data_sources)\nsf_op.inputs.stress_limit_type(\"ultimate\")  # \"yield\" or \"ultimate\" (default)\nsf_op.run()\n\nmat_support_operator = dpf.Operator(\"mat_support_provider\")\nmat_support_operator.connect(4, data_sources)\n\nminmax_per_element = dpf.Operator(\"composite::minmax_per_element_operator\")\nminmax_per_element.inputs.fields_container(sf_op)\nminmax_per_element.inputs.mesh(model.metadata.meshed_region)\nminmax_per_element.inputs.abstract_field_support(mat_support_operator)\nmax_element_stress_cont = minmax_per_element.get_output(1, dpf.types.fields_container)\nfc_mode = max_element_stress_cont[0]\nfc_value = max_element_stress_cont[1]\nmesh = model.metadata.meshed_region\nmesh.plot(fc_value, show_edges=True)"
      ]
    }
  ],
  "metadata": {
    "kernelspec": {
      "display_name": "Python 3",
      "language": "python",
      "name": "python3"
    },
    "language_info": {
      "codemirror_mode": {
        "name": "ipython",
        "version": 3
      },
      "file_extension": ".py",
      "mimetype": "text/x-python",
      "name": "python",
      "nbconvert_exporter": "python",
      "pygments_lexer": "ipython3",
      "version": "3.7.14"
    }
  },
  "nbformat": 4,
  "nbformat_minor": 0
}