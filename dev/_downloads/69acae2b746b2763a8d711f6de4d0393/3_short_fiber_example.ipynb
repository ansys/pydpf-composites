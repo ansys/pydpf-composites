{
  "cells": [
    {
      "cell_type": "code",
      "execution_count": null,
      "metadata": {
        "collapsed": false
      },
      "outputs": [],
      "source": [
        "%matplotlib inline"
      ]
    },
    {
      "cell_type": "markdown",
      "metadata": {},
      "source": [
        "Short Fiber Failure Analysis {#short_fiber_example}\n============================\n\nFailure analysis for a short fiber-reinforced part.\n\nThis example shows how to configure the DPF operator\n*short\\_fiber\\_failure\\_criterion\\_evaluator* which enables the failure\nevaluation of short fiber composites.\n"
      ]
    },
    {
      "cell_type": "markdown",
      "metadata": {},
      "source": [
        "Script\n======\n\nLoad Ansys libraries\n"
      ]
    },
    {
      "cell_type": "code",
      "execution_count": null,
      "metadata": {
        "collapsed": false
      },
      "outputs": [],
      "source": [
        "import ansys.dpf.core as dpf\n\nfrom ansys.dpf.composites.connect_to_or_start_server import connect_to_or_start_server\nfrom ansys.dpf.composites.example_helper import get_short_fiber_example_files"
      ]
    },
    {
      "cell_type": "markdown",
      "metadata": {},
      "source": [
        "Start a server and get the examples files. This will copy the example\nfiles into the current working directory.\n"
      ]
    },
    {
      "cell_type": "code",
      "execution_count": null,
      "metadata": {
        "collapsed": false
      },
      "outputs": [],
      "source": [
        "server = connect_to_or_start_server()\ncomposite_files_on_server = get_short_fiber_example_files(server, \"short_fiber\")"
      ]
    },
    {
      "cell_type": "markdown",
      "metadata": {},
      "source": [
        "Set up data sources\n"
      ]
    },
    {
      "cell_type": "code",
      "execution_count": null,
      "metadata": {
        "collapsed": false
      },
      "outputs": [],
      "source": [
        "data_sources = dpf.DataSources()\ndata_sources.add_file_path(composite_files_on_server.engineering_data, \"EngineeringData\")\ndata_sources.add_file_path(composite_files_on_server.dsdat, \"dat\")\ndata_sources.set_result_file_path(composite_files_on_server.rst)"
      ]
    },
    {
      "cell_type": "markdown",
      "metadata": {},
      "source": [
        "Initialize DPF model\n"
      ]
    },
    {
      "cell_type": "code",
      "execution_count": null,
      "metadata": {
        "collapsed": false
      },
      "outputs": [],
      "source": [
        "model = dpf.Model(composite_files_on_server.rst)"
      ]
    },
    {
      "cell_type": "markdown",
      "metadata": {},
      "source": [
        "Configure the Short Fiber Failure Criterion Evaluator\n"
      ]
    },
    {
      "cell_type": "code",
      "execution_count": null,
      "metadata": {
        "collapsed": false
      },
      "outputs": [],
      "source": [
        "sf_op = dpf.Operator(\"composite::short_fiber_failure_criterion_evaluator\")\nsf_op.inputs.data_sources(data_sources)\nsf_op.inputs.stress_limit_type(\"ultimate\")  # \"yield\" or \"ultimate\" (default)\nsf_op.run()\n\nmat_support_operator = dpf.Operator(\"mat_support_provider\")\nmat_support_operator.connect(4, data_sources)\n\nminmax_per_element = dpf.Operator(\"composite::minmax_per_element_operator\")\nminmax_per_element.inputs.fields_container(sf_op)\nminmax_per_element.inputs.mesh(model.metadata.meshed_region)\nminmax_per_element.inputs.abstract_field_support(mat_support_operator)\nmax_element_stress_cont = minmax_per_element.get_output(1, dpf.types.fields_container)\nfc_mode = max_element_stress_cont[0]\nfc_value = max_element_stress_cont[1]\nmesh = model.metadata.meshed_region\nmesh.plot(fc_value, show_edges=True)"
      ]
    }
  ],
  "metadata": {
    "kernelspec": {
      "display_name": "Python 3",
      "language": "python",
      "name": "python3"
    },
    "language_info": {
      "codemirror_mode": {
        "name": "ipython",
        "version": 3
      },
      "file_extension": ".py",
      "mimetype": "text/x-python",
      "name": "python",
      "nbconvert_exporter": "python",
      "pygments_lexer": "ipython3",
      "version": "3.9.16"
    }
  },
  "nbformat": 4,
  "nbformat_minor": 0
}