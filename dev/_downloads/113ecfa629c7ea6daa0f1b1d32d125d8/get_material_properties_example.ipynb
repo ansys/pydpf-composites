{
  "cells": [
    {
      "cell_type": "code",
      "execution_count": null,
      "metadata": {
        "collapsed": false
      },
      "outputs": [],
      "source": [
        "%matplotlib inline"
      ]
    },
    {
      "cell_type": "markdown",
      "metadata": {},
      "source": [
        "Get Material Properties and evaluate basic failure criterion {#material_properties}\n============================================================\n\nThis example shows how to access constant material properties and\nevaluate a basic strain limit failure criterion. Note: Only constant\nmaterial properties are currently supported.\n"
      ]
    },
    {
      "cell_type": "markdown",
      "metadata": {},
      "source": [
        "Import dependencies\n"
      ]
    },
    {
      "cell_type": "code",
      "execution_count": null,
      "metadata": {
        "collapsed": false
      },
      "outputs": [],
      "source": [
        "import ansys.dpf.core as dpf\nimport numpy as np\n\nfrom ansys.dpf.composites import MaterialProperty, get_constant_property_dict, get_selected_indices\nfrom ansys.dpf.composites.add_layup_info_to_mesh import (\n    add_layup_info_to_mesh,\n    get_composites_data_sources,\n)\nfrom ansys.dpf.composites.enums import Sym3x3TensorComponent\nfrom ansys.dpf.composites.example_helper.example_helper import (\n    connect_to_or_start_server,\n    get_continuous_fiber_example_files,\n)\nfrom ansys.dpf.composites.layup_info import get_element_info_provider"
      ]
    },
    {
      "cell_type": "markdown",
      "metadata": {},
      "source": [
        "Start server and load example files\n"
      ]
    },
    {
      "cell_type": "code",
      "execution_count": null,
      "metadata": {
        "collapsed": false
      },
      "outputs": [],
      "source": [
        "server_context = connect_to_or_start_server()\ncomposite_files_on_server = get_continuous_fiber_example_files(server_context, \"shell\")"
      ]
    },
    {
      "cell_type": "markdown",
      "metadata": {},
      "source": [
        "Setup Mesh Provider\n"
      ]
    },
    {
      "cell_type": "code",
      "execution_count": null,
      "metadata": {
        "collapsed": false
      },
      "outputs": [],
      "source": [
        "model = dpf.Model(composite_files_on_server.rst)\nmesh_provider = model.metadata.mesh_provider\nmesh = mesh_provider.outputs.mesh()"
      ]
    },
    {
      "cell_type": "markdown",
      "metadata": {},
      "source": [
        "Reads the composite definition file and enriches the mesh with the\ncomposite layup information.\n"
      ]
    },
    {
      "cell_type": "code",
      "execution_count": null,
      "metadata": {
        "collapsed": false
      },
      "outputs": [],
      "source": [
        "composites_data_sources = get_composites_data_sources(composite_files_on_server)\nlayup_operators = add_layup_info_to_mesh(mesh=mesh, data_sources=composites_data_sources)"
      ]
    },
    {
      "cell_type": "markdown",
      "metadata": {},
      "source": [
        "Get dictionary that maps dpf\\_material\\_id to properties The creation of\nthe dictionary is currently quite expensive and should be done before\nusing the properties in a loop. Currently only constant properties are\nsupported. For variable material properties, the default value is\nreturned.\n"
      ]
    },
    {
      "cell_type": "code",
      "execution_count": null,
      "metadata": {
        "collapsed": false
      },
      "outputs": [],
      "source": [
        "material_property = MaterialProperty.Strain_Limits_eXt\n\nproperty_dict = get_constant_property_dict(\n    material_properties=[material_property],\n    materials_provider=layup_operators.material_operators.material_provider,\n    data_source_or_streams_provider=composites_data_sources.rst,\n    mesh=mesh,\n)\nresult_field = dpf.field.Field(location=dpf.locations.elemental, nature=dpf.natures.scalar)"
      ]
    },
    {
      "cell_type": "markdown",
      "metadata": {},
      "source": [
        "Get example strain field\n"
      ]
    },
    {
      "cell_type": "code",
      "execution_count": null,
      "metadata": {
        "collapsed": false
      },
      "outputs": [],
      "source": [
        "strain_operator = dpf.Operator(\"EPEL\")\nstrain_operator.inputs.data_sources(composites_data_sources.rst)\nstrain_operator.inputs.bool_rotate_to_global(False)\nstrain_field = strain_operator.get_output(pin=0, output_type=dpf.types.fields_container)[0]"
      ]
    },
    {
      "cell_type": "markdown",
      "metadata": {},
      "source": [
        "Evaluate basic max strain failure criterion\n"
      ]
    },
    {
      "cell_type": "code",
      "execution_count": null,
      "metadata": {
        "collapsed": false
      },
      "outputs": [],
      "source": [
        "element_info_provider = get_element_info_provider(mesh, composites_data_sources.rst)\n\nwith result_field.as_local_field() as local_result_field:\n    component = Sym3x3TensorComponent.tensor11\n\n    for element_id in strain_field.scoping.ids:\n        strain_data = strain_field.get_entity_data_by_id(element_id)\n        element_info = element_info_provider.get_element_info(element_id)\n        element_max = 0\n        for layer_index, dpf_material_id in enumerate(element_info.dpf_material_ids):\n            tensile_strain_limit_1 = property_dict[dpf_material_id][material_property]\n            selected_indices = get_selected_indices(element_info, layers=[layer_index])\n            # Tensile max strain criteria in 1 direction\n            layer_strain_values = strain_data[selected_indices][:, component.value]\n            if tensile_strain_limit_1 > 0:\n                layer_max = np.max(layer_strain_values)\n                element_max = max(element_max, layer_max / tensile_strain_limit_1)\n\n        # add to output field\n        local_result_field.append([element_max], element_id)\n\n\nmesh.plot(result_field)"
      ]
    }
  ],
  "metadata": {
    "kernelspec": {
      "display_name": "Python 3",
      "language": "python",
      "name": "python3"
    },
    "language_info": {
      "codemirror_mode": {
        "name": "ipython",
        "version": 3
      },
      "file_extension": ".py",
      "mimetype": "text/x-python",
      "name": "python",
      "nbconvert_exporter": "python",
      "pygments_lexer": "ipython3",
      "version": "3.9.16"
    }
  },
  "nbformat": 4,
  "nbformat_minor": 0
}