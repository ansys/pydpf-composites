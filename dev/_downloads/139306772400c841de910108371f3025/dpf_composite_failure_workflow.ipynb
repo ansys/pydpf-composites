{
  "cells": [
    {
      "cell_type": "code",
      "execution_count": null,
      "metadata": {
        "collapsed": false
      },
      "outputs": [],
      "source": [
        "%matplotlib inline"
      ]
    },
    {
      "cell_type": "markdown",
      "metadata": {},
      "source": [
        "DPF Composite Failure Workflow {#basic_example}\n==============================\n\nUse of native DPF Python interface to configure and run composite\nfailure evaluator.\n\nThis example shows how to connect the different DPF operators that are\nneeded to evaluate composite failure criteria. For simple use cases it\nis preferable to use the composite failure operator\n(`sphx_glr_examples_gallery_examples_1_failure_operator_example.py`{.interpreted-text\nrole=\"ref\"}) or the composite sampling point operator\n(`sphx_glr_examples_gallery_examples_2_sampling_point_example.py`{.interpreted-text\nrole=\"ref\"}). The\n`sphx_glr_examples_gallery_examples_6_filter_composite_data_example.py`{.interpreted-text\nrole=\"ref\"} example shows how helper functions can be used to obtain\ncomposite result data.\n"
      ]
    },
    {
      "cell_type": "markdown",
      "metadata": {},
      "source": [
        "Script\n======\n\nLoad Ansys libraries\n"
      ]
    },
    {
      "cell_type": "code",
      "execution_count": null,
      "metadata": {
        "collapsed": false
      },
      "outputs": [],
      "source": [
        "import ansys.dpf.core as dpf\n\nfrom ansys.dpf.composites.example_helper import get_continuous_fiber_example_files\nfrom ansys.dpf.composites.failure_criteria import (\n    CombinedFailureCriterion,\n    CoreFailureCriterion,\n    CuntzeCriterion,\n    HashinCriterion,\n    HoffmanCriterion,\n    MaxStrainCriterion,\n    MaxStressCriterion,\n    TsaiHillCriterion,\n    TsaiWuCriterion,\n    VonMisesCriterion,\n)\nfrom ansys.dpf.composites.server_helpers import connect_to_or_start_server"
      ]
    },
    {
      "cell_type": "markdown",
      "metadata": {},
      "source": [
        "Configure the combined failure criterion\n"
      ]
    },
    {
      "cell_type": "code",
      "execution_count": null,
      "metadata": {
        "collapsed": false
      },
      "outputs": [],
      "source": [
        "combined_fc = CombinedFailureCriterion(\n    name=\"My Failure Criteria\",\n    failure_criteria=[\n        MaxStrainCriterion(),\n        MaxStressCriterion(),\n        TsaiHillCriterion(),\n        TsaiWuCriterion(),\n        HoffmanCriterion(),\n        HashinCriterion(),\n        CuntzeCriterion(),\n        CoreFailureCriterion(),\n        VonMisesCriterion(vme=True, vms=False),\n    ],\n)"
      ]
    },
    {
      "cell_type": "markdown",
      "metadata": {},
      "source": [
        "Start server and prepare files\n"
      ]
    },
    {
      "cell_type": "code",
      "execution_count": null,
      "metadata": {
        "collapsed": false
      },
      "outputs": [],
      "source": [
        "server = connect_to_or_start_server()\ncomposite_files_on_server = get_continuous_fiber_example_files(server, \"shell\")"
      ]
    },
    {
      "cell_type": "markdown",
      "metadata": {},
      "source": [
        "Initialize DPF model and data sources\n"
      ]
    },
    {
      "cell_type": "code",
      "execution_count": null,
      "metadata": {
        "collapsed": false
      },
      "outputs": [],
      "source": [
        "model = dpf.Model(composite_files_on_server.rst)\nrst_data_source = dpf.DataSources(composite_files_on_server.rst)\n\neng_data_source = dpf.DataSources()\neng_data_source.add_file_path(composite_files_on_server.engineering_data, \"EngineeringData\")\n\ncomposite_definitions_source = dpf.DataSources()\ncomposite_definitions_source.add_file_path(\n    composite_files_on_server.composite[\"shell\"].definition, \"CompositeDefinitions\"\n)"
      ]
    },
    {
      "cell_type": "markdown",
      "metadata": {},
      "source": [
        "Set up Mesh Provider\n"
      ]
    },
    {
      "cell_type": "code",
      "execution_count": null,
      "metadata": {
        "collapsed": false
      },
      "outputs": [],
      "source": [
        "mesh_provider = model.metadata.mesh_provider"
      ]
    },
    {
      "cell_type": "markdown",
      "metadata": {},
      "source": [
        "Set up Material Provider The material support provider takes care of\nmapping the materials in the rst file to the materials in the composite\ndefinitions. The material support contains all the materials from the\nrst file.\n"
      ]
    },
    {
      "cell_type": "code",
      "execution_count": null,
      "metadata": {
        "collapsed": false
      },
      "outputs": [],
      "source": [
        "material_support_provider = dpf.Operator(\"support_provider\")\nmaterial_support_provider.inputs.property(\"mat\")\nmaterial_support_provider.inputs.data_sources(rst_data_source)"
      ]
    },
    {
      "cell_type": "markdown",
      "metadata": {},
      "source": [
        "Get Result Info which provides the unit system from the rst file\n"
      ]
    },
    {
      "cell_type": "code",
      "execution_count": null,
      "metadata": {
        "collapsed": false
      },
      "outputs": [],
      "source": [
        "result_info_provider = dpf.Operator(\"ResultInfoProvider\")\nresult_info_provider.inputs.data_sources(rst_data_source)"
      ]
    },
    {
      "cell_type": "markdown",
      "metadata": {},
      "source": [
        "Set up material provider Combines the material support the engineering\ndata XML file and the `unit_system`. It\\'s output can be used to\nevaluate material properties\n"
      ]
    },
    {
      "cell_type": "code",
      "execution_count": null,
      "metadata": {
        "collapsed": false
      },
      "outputs": [],
      "source": [
        "material_provider = dpf.Operator(\"eng_data::ans_mat_material_provider\")\nmaterial_provider.inputs.data_sources = eng_data_source\nmaterial_provider.inputs.unit_system_or_result_info(result_info_provider.outputs.result_info)\nmaterial_provider.inputs.abstract_field_support(\n    material_support_provider.outputs.abstract_field_support\n)\nmaterial_provider.inputs.Engineering_data_file(eng_data_source)"
      ]
    },
    {
      "cell_type": "markdown",
      "metadata": {},
      "source": [
        "Set up the layup provider Read the composite definition file and\nenriches the mesh with the composite layup information.\n"
      ]
    },
    {
      "cell_type": "code",
      "execution_count": null,
      "metadata": {
        "collapsed": false
      },
      "outputs": [],
      "source": [
        "layup_provider = dpf.Operator(\"composite::layup_provider_operator\")\nlayup_provider.inputs.mesh(mesh_provider.outputs.mesh)\nlayup_provider.inputs.data_sources(composite_definitions_source)\nlayup_provider.inputs.abstract_field_support(\n    material_support_provider.outputs.abstract_field_support\n)\nlayup_provider.inputs.unit_system_or_result_info(result_info_provider.outputs.result_info)\nlayup_provider.run()"
      ]
    },
    {
      "cell_type": "markdown",
      "metadata": {},
      "source": [
        "Set up the result operators: strains and stresses Rotate to global is\nFalse because the post-processing engine expects the results to be in\nthe element coordinate system ( material coordinate system)\n"
      ]
    },
    {
      "cell_type": "code",
      "execution_count": null,
      "metadata": {
        "collapsed": false
      },
      "outputs": [],
      "source": [
        "strain_operator = dpf.operators.result.elastic_strain()\nstrain_operator.inputs.data_sources(rst_data_source)\nstrain_operator.inputs.bool_rotate_to_global(False)\n\nstress_operator = dpf.operators.result.stress()\nstress_operator.inputs.data_sources(rst_data_source)\nstress_operator.inputs.bool_rotate_to_global(False)"
      ]
    },
    {
      "cell_type": "markdown",
      "metadata": {},
      "source": [
        "Set up the failure evaluator. Combines the results and evaluates all the\nfailure criteria. The output contains the maximum failure criteria for\neach integration point.\n"
      ]
    },
    {
      "cell_type": "code",
      "execution_count": null,
      "metadata": {
        "collapsed": false
      },
      "outputs": [],
      "source": [
        "failure_evaluator = dpf.Operator(\"composite::multiple_failure_criteria_operator\")\nfailure_evaluator.inputs.configuration(combined_fc.to_json())\nfailure_evaluator.inputs.materials_container(material_provider.outputs)\nfailure_evaluator.inputs.strains(strain_operator.outputs.fields_container)\nfailure_evaluator.inputs.stresses(stress_operator.outputs.fields_container)\nfailure_evaluator.inputs.mesh(mesh_provider.outputs.mesh)"
      ]
    },
    {
      "cell_type": "markdown",
      "metadata": {},
      "source": [
        "Uses the output of the `multiple_failure_criteria_operator` to compute\nthe min and max failure criteria for each element\n"
      ]
    },
    {
      "cell_type": "code",
      "execution_count": null,
      "metadata": {
        "collapsed": false
      },
      "outputs": [],
      "source": [
        "minmax_per_element = dpf.Operator(\"composite::minmax_per_element_operator\")\nminmax_per_element.inputs.fields_container(failure_evaluator.outputs.fields_container)\nminmax_per_element.inputs.mesh(mesh_provider.outputs.mesh)\nminmax_per_element.inputs.abstract_field_support(\n    material_support_provider.outputs.abstract_field_support\n)\n\noutput = minmax_per_element.outputs.field_max()"
      ]
    },
    {
      "cell_type": "markdown",
      "metadata": {},
      "source": [
        "Plot the max and the minimum value for each value\n"
      ]
    },
    {
      "cell_type": "code",
      "execution_count": null,
      "metadata": {
        "collapsed": false
      },
      "outputs": [],
      "source": [
        "value_index = 1\nmodel.metadata.meshed_region.plot(output[value_index])"
      ]
    }
  ],
  "metadata": {
    "kernelspec": {
      "display_name": "Python 3",
      "language": "python",
      "name": "python3"
    },
    "language_info": {
      "codemirror_mode": {
        "name": "ipython",
        "version": 3
      },
      "file_extension": ".py",
      "mimetype": "text/x-python",
      "name": "python",
      "nbconvert_exporter": "python",
      "pygments_lexer": "ipython3",
      "version": "3.9.16"
    }
  },
  "nbformat": 4,
  "nbformat_minor": 0
}