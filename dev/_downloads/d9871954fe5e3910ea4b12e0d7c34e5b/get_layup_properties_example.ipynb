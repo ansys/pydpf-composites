{
  "cells": [
    {
      "cell_type": "code",
      "execution_count": null,
      "metadata": {
        "collapsed": false
      },
      "outputs": [],
      "source": [
        "%matplotlib inline"
      ]
    },
    {
      "cell_type": "markdown",
      "metadata": {},
      "source": [
        "Get Layup Properties {#layup_properties_plot}\n====================\n\nThis example shows how to access basic layup properties such as layer\nthicknesses, angles and analysis ply names. These properties can be\nqueried very efficiently. To get the full layup information of an\nelement including results consider also the sampling point operator\n(`sphx_glr_examples_gallery_examples_sampling_point_example.py`{.interpreted-text\nrole=\"ref\"})\n"
      ]
    },
    {
      "cell_type": "markdown",
      "metadata": {},
      "source": [
        "Import dependencies\n"
      ]
    },
    {
      "cell_type": "code",
      "execution_count": null,
      "metadata": {
        "collapsed": false
      },
      "outputs": [],
      "source": [
        "from matplotlib import pyplot as plt\nimport numpy as np\n\nfrom ansys.dpf.composites.composite_model import CompositeModel, LayerProperty\nfrom ansys.dpf.composites.connect_to_or_start_server import connect_to_or_start_server\nfrom ansys.dpf.composites.example_helper.example_helper import get_continuous_fiber_example_files"
      ]
    },
    {
      "cell_type": "markdown",
      "metadata": {},
      "source": [
        "Start server and load example files\n"
      ]
    },
    {
      "cell_type": "code",
      "execution_count": null,
      "metadata": {
        "collapsed": false
      },
      "outputs": [],
      "source": [
        "server = connect_to_or_start_server()\ncomposite_files_on_server = get_continuous_fiber_example_files(server, \"shell\")"
      ]
    },
    {
      "cell_type": "markdown",
      "metadata": {},
      "source": [
        "Setup composite model\n"
      ]
    },
    {
      "cell_type": "code",
      "execution_count": null,
      "metadata": {
        "collapsed": false
      },
      "outputs": [],
      "source": [
        "composite_model = CompositeModel(composite_files_on_server, server)"
      ]
    },
    {
      "cell_type": "markdown",
      "metadata": {},
      "source": [
        "Get layup properties for all the elements and show the first one as an\nexample\n"
      ]
    },
    {
      "cell_type": "code",
      "execution_count": null,
      "metadata": {
        "collapsed": false
      },
      "outputs": [],
      "source": [
        "element_id = 1\nthicknesses = composite_model.get_property_for_all_layers(LayerProperty.thicknesses, element_id)\nangles = composite_model.get_property_for_all_layers(LayerProperty.angles, element_id)\nshear_angles = composite_model.get_property_for_all_layers(LayerProperty.shear_angles, element_id)\noffset = composite_model.get_element_laminate_offset(element_id)\nanalysis_plies = composite_model.get_analysis_plies(element_id)"
      ]
    },
    {
      "cell_type": "markdown",
      "metadata": {},
      "source": [
        "Plot of layup properties\n"
      ]
    },
    {
      "cell_type": "code",
      "execution_count": null,
      "metadata": {
        "collapsed": false
      },
      "outputs": [],
      "source": [
        "y_coordinates = offset + np.cumsum(thicknesses)\ny_centers = y_coordinates - thicknesses / 2\n\nfig, ax1 = f, ax = plt.subplots(figsize=(6, 10))\n\nfor y_coordinate in y_coordinates:\n    ax1.axhline(y=y_coordinate, color=\"k\")\n\nfor angle, shear_angle, y_coordinate, analysis_ply in zip(\n    angles, shear_angles, y_centers, analysis_plies\n):\n    ax1.annotate(\n        f\"Angle={angle}\u00b0, Shear Angle={shear_angle}\u00b0, {analysis_ply}\",\n        xy=(0.1, y_coordinate),\n        xytext=(0.1, y_coordinate),\n    )\n\nfig.show()"
      ]
    }
  ],
  "metadata": {
    "kernelspec": {
      "display_name": "Python 3",
      "language": "python",
      "name": "python3"
    },
    "language_info": {
      "codemirror_mode": {
        "name": "ipython",
        "version": 3
      },
      "file_extension": ".py",
      "mimetype": "text/x-python",
      "name": "python",
      "nbconvert_exporter": "python",
      "pygments_lexer": "ipython3",
      "version": "3.9.16"
    }
  },
  "nbformat": 4,
  "nbformat_minor": 0
}