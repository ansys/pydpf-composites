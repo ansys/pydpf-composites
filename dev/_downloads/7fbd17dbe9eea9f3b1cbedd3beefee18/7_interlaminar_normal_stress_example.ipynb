{
  "cells": [
    {
      "cell_type": "code",
      "execution_count": null,
      "metadata": {
        "collapsed": false
      },
      "outputs": [],
      "source": [
        "%matplotlib inline"
      ]
    },
    {
      "cell_type": "markdown",
      "metadata": {},
      "source": [
        "Interlaminar Normal Stresses {#interlaminar_normal_stress_example}\n============================\n\nCompute interlaminar normal stresses for layered shells.\n\nThis example shows how to enrich the stresses of layered shells by\ninterlaminar normal stresses, in short INS. INS can be of importance in\nthick and curved laminates.\n\nFor simple use cases it is preferable to use the composite failure\noperator\n(`sphx_glr_examples_gallery_examples_1_failure_operator_example.py`{.interpreted-text\nrole=\"ref\"}) or the composite sampling point operator\n(`sphx_glr_examples_gallery_examples_2_sampling_point_example.py`{.interpreted-text\nrole=\"ref\"}). Note, the INS are computed automatically in these\nworkflows if required. For instance if a 3D failure criterion is\nactivated. The\n`sphx_glr_examples_gallery_examples_6_filter_composite_data_example.py`{.interpreted-text\nrole=\"ref\"} example shows how helper functions can be used to obtain\ncomposite result data.\n\nINS are typically not available if layered shell elements are used. The\nINS operator recomputes s3 based on the laminate strains, the\ngeometrical curvature and the lay-up.\n"
      ]
    },
    {
      "cell_type": "markdown",
      "metadata": {},
      "source": [
        "Script\n======\n\nLoad Ansys libraries\n"
      ]
    },
    {
      "cell_type": "code",
      "execution_count": null,
      "metadata": {
        "collapsed": false
      },
      "outputs": [],
      "source": [
        "import ansys.dpf.core as dpf\n\nfrom ansys.dpf.composites import CompositeModel, Spot, get_selected_indices\nfrom ansys.dpf.composites.connect_to_or_start_server import connect_to_or_start_server\nfrom ansys.dpf.composites.enums import Sym3x3TensorComponent\nfrom ansys.dpf.composites.example_helper.example_helper import get_continuous_fiber_example_files\nfrom ansys.dpf.composites.layup_info import AnalysisPlyInfoProvider, get_all_analysis_ply_names"
      ]
    },
    {
      "cell_type": "markdown",
      "metadata": {},
      "source": [
        "Start Server and upload files\n"
      ]
    },
    {
      "cell_type": "code",
      "execution_count": null,
      "metadata": {
        "collapsed": false
      },
      "outputs": [],
      "source": [
        "server = connect_to_or_start_server()\ncomposite_files_on_server = get_continuous_fiber_example_files(server, \"ins\")"
      ]
    },
    {
      "cell_type": "markdown",
      "metadata": {},
      "source": [
        "Configure data sources\n"
      ]
    },
    {
      "cell_type": "code",
      "execution_count": null,
      "metadata": {
        "collapsed": false
      },
      "outputs": [],
      "source": [
        "composite_model = CompositeModel(composite_files_on_server, server)"
      ]
    },
    {
      "cell_type": "markdown",
      "metadata": {},
      "source": [
        "Prepare inputs for the INS operator\n\nRotate to global is False because the post-processing engine expects the\nresults to be in the element coordinate system (material coordinate\nsystem).\n"
      ]
    },
    {
      "cell_type": "code",
      "execution_count": null,
      "metadata": {
        "collapsed": false
      },
      "outputs": [],
      "source": [
        "strain_operator = dpf.Operator(\"EPEL\")\nstrain_operator.inputs.data_sources(composite_model.data_sources.rst)\nstrain_operator.inputs.bool_rotate_to_global(False)\n\nstress_operator = dpf.Operator(\"S\")\nstress_operator.inputs.data_sources(composite_model.data_sources.rst)\nstress_operator.inputs.bool_rotate_to_global(False)"
      ]
    },
    {
      "cell_type": "markdown",
      "metadata": {},
      "source": [
        "Compute interlaminar normal stresses\n====================================\n\nNote: the INS operator stores the stresses in the provided stressed\nfield.\n"
      ]
    },
    {
      "cell_type": "code",
      "execution_count": null,
      "metadata": {
        "collapsed": false
      },
      "outputs": [],
      "source": [
        "composite_model.add_interlaminar_normal_stresses(\n    stresses=stress_operator.outputs.fields_container(),\n    strains=strain_operator.outputs.fields_container(),\n)"
      ]
    },
    {
      "cell_type": "markdown",
      "metadata": {},
      "source": [
        "Plot s3 stresses\n================\n\nGet the first stress field\n"
      ]
    },
    {
      "cell_type": "code",
      "execution_count": null,
      "metadata": {
        "collapsed": false
      },
      "outputs": [],
      "source": [
        "stress_field = stress_operator.outputs.fields_container()[0]"
      ]
    },
    {
      "cell_type": "markdown",
      "metadata": {},
      "source": [
        "Plot max s3 of each element\n"
      ]
    },
    {
      "cell_type": "code",
      "execution_count": null,
      "metadata": {
        "collapsed": false
      },
      "outputs": [],
      "source": [
        "s3_component = Sym3x3TensorComponent.tensor33\nmax_s3_field = dpf.field.Field(location=dpf.locations.elemental, nature=dpf.natures.scalar)\nwith max_s3_field.as_local_field() as local_max_s3_field:\n    element_ids = stress_field.scoping.ids\n    for element_id in element_ids:\n        stress_data = stress_field.get_entity_data_by_id(element_id)\n        element_info = composite_model.get_element_info(element_id)\n        assert element_info is not None\n        # select all stresses from bottom to top of node 0\n        selected_indices = get_selected_indices(element_info, nodes=[0])\n\n        # order is bottom, top, mid\n        s3 = stress_data[selected_indices, s3_component.value]\n\n        local_max_s3_field.append([max(s3)], element_id)\n\ncomposite_model.get_mesh().plot(max_s3_field)"
      ]
    },
    {
      "cell_type": "markdown",
      "metadata": {},
      "source": [
        "Plot s3 at the mid-plane of a certain ply\n"
      ]
    },
    {
      "cell_type": "code",
      "execution_count": null,
      "metadata": {
        "collapsed": false
      },
      "outputs": [],
      "source": [
        "analysis_ply_names = get_all_analysis_ply_names(composite_model.get_mesh())\nselected_ply = \"P3L1__Ply.1\"\n\nply_info_provider = AnalysisPlyInfoProvider(composite_model.get_mesh(), selected_ply)\np8l1_ply_s3_field = dpf.field.Field(location=dpf.locations.elemental, nature=dpf.natures.scalar)\nwith p8l1_ply_s3_field.as_local_field() as p8l1_ply_s3_field:\n    element_ids = ply_info_provider.ply_element_ids()\n    for element_id in element_ids:\n        stress_data = stress_field.get_entity_data_by_id(element_id)\n        element_info = composite_model.get_element_info(element_id)\n        assert element_info is not None\n        # select all stresses from bottom to top of node 0\n        layer_index = ply_info_provider.get_layer_index_by_element_id(element_id)\n        selected_indices = get_selected_indices(\n            element_info, layers=[layer_index], nodes=[0], spots=[Spot.MIDDLE]\n        )\n\n        # order is bottom, top, mid\n        s3 = stress_data[selected_indices, s3_component.value]\n\n        p8l1_ply_s3_field.append(s3, element_id)\n\ncomposite_model.get_mesh().plot(p8l1_ply_s3_field)"
      ]
    }
  ],
  "metadata": {
    "kernelspec": {
      "display_name": "Python 3",
      "language": "python",
      "name": "python3"
    },
    "language_info": {
      "codemirror_mode": {
        "name": "ipython",
        "version": 3
      },
      "file_extension": ".py",
      "mimetype": "text/x-python",
      "name": "python",
      "nbconvert_exporter": "python",
      "pygments_lexer": "ipython3",
      "version": "3.9.16"
    }
  },
  "nbformat": 4,
  "nbformat_minor": 0
}