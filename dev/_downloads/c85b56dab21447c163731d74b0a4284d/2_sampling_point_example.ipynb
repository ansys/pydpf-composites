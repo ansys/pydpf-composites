{
  "cells": [
    {
      "cell_type": "code",
      "execution_count": null,
      "metadata": {
        "collapsed": false
      },
      "outputs": [],
      "source": [
        "%matplotlib inline"
      ]
    },
    {
      "cell_type": "markdown",
      "metadata": {},
      "source": [
        "Sampling Point {#sampling_point_example}\n==============\n\nExtract ply-wise laminate properties and results.\n\nThe\n`Sampling Point <ansys.dpf.composites.SamplingPoint>`{.interpreted-text\nrole=\"class\"} is a feature to extract through-the-thickness data of\nlaminate. For instance, ply-wise properties strains and stresses.\nBesides that, it implements basic visualization to plot the laminate.\n\nThis example uses the\n`Composite Model <ansys.dpf.composites.CompositeModel>`{.interpreted-text\nrole=\"class\"} to scope a Sampling Point to a certain element and to\nvisualize the laminate.\n"
      ]
    },
    {
      "cell_type": "markdown",
      "metadata": {},
      "source": [
        "Script\n======\n\nLoad Ansys libraries\n"
      ]
    },
    {
      "cell_type": "code",
      "execution_count": null,
      "metadata": {
        "collapsed": false
      },
      "outputs": [],
      "source": [
        "from ansys.dpf.composites import Spot\nfrom ansys.dpf.composites.composite_model import CompositeModel\nfrom ansys.dpf.composites.connect_to_or_start_server import connect_to_or_start_server\nfrom ansys.dpf.composites.example_helper import get_continuous_fiber_example_files\nfrom ansys.dpf.composites.failure_criteria import (\n    CombinedFailureCriterion,\n    CoreFailureCriterion,\n    MaxStrainCriterion,\n    MaxStressCriterion,\n    VonMisesCriterion,\n)"
      ]
    },
    {
      "cell_type": "markdown",
      "metadata": {},
      "source": [
        "Start a server and get the examples files. This will copy the example\nfiles into the current working directory.\n"
      ]
    },
    {
      "cell_type": "code",
      "execution_count": null,
      "metadata": {
        "collapsed": false
      },
      "outputs": [],
      "source": [
        "server = connect_to_or_start_server()\ncomposite_files_on_server = get_continuous_fiber_example_files(server, \"shell\")"
      ]
    },
    {
      "cell_type": "markdown",
      "metadata": {},
      "source": [
        "Configure the combined failure criterion\n"
      ]
    },
    {
      "cell_type": "code",
      "execution_count": null,
      "metadata": {
        "collapsed": false
      },
      "outputs": [],
      "source": [
        "combined_fc = CombinedFailureCriterion(\n    name=\"failure of all materials\",\n    failure_criteria=[\n        MaxStrainCriterion(),\n        MaxStressCriterion(),\n        CoreFailureCriterion(),\n        VonMisesCriterion(vme=True, vms=False),\n    ],\n)"
      ]
    },
    {
      "cell_type": "markdown",
      "metadata": {},
      "source": [
        "Set up the composite model\n"
      ]
    },
    {
      "cell_type": "code",
      "execution_count": null,
      "metadata": {
        "collapsed": false
      },
      "outputs": [],
      "source": [
        "composite_model = CompositeModel(composite_files_on_server, server)"
      ]
    },
    {
      "cell_type": "markdown",
      "metadata": {},
      "source": [
        "Create a sampling point\n"
      ]
    },
    {
      "cell_type": "code",
      "execution_count": null,
      "metadata": {
        "collapsed": false
      },
      "outputs": [],
      "source": [
        "sampling_point = composite_model.get_sampling_point(combined_criteria=combined_fc, element_id=3)"
      ]
    },
    {
      "cell_type": "markdown",
      "metadata": {},
      "source": [
        "Plot Results\n============\n\nUse pre-configured plots. See also\n`~ansys.dpf.composites.SamplingPoint.get_result_plots`{.interpreted-text\nrole=\"class\"}.\n"
      ]
    },
    {
      "cell_type": "code",
      "execution_count": null,
      "metadata": {
        "collapsed": false
      },
      "outputs": [],
      "source": [
        "fig, axes = sampling_point.get_result_plots(\n    strain_components=[],  # do not plot strains\n    core_scale_factor=0.1,\n    spots=[Spot.bottom, Spot.top],\n    show_failure_modes=True,\n)\nfig.set_figheight(8)\nfig.set_figwidth(12)"
      ]
    },
    {
      "cell_type": "markdown",
      "metadata": {},
      "source": [
        "Plot polar properties\n"
      ]
    },
    {
      "cell_type": "code",
      "execution_count": null,
      "metadata": {
        "collapsed": false
      },
      "outputs": [],
      "source": [
        "fig, polar_plot = sampling_point.get_polar_plot([\"E1\", \"G12\"])"
      ]
    },
    {
      "cell_type": "markdown",
      "metadata": {},
      "source": [
        "Custom plots:\n\nPlots can be easily customized or built from scratch. Here, matplotlib\nis used. An alternative is plotly.\n\ns13 and s23\n"
      ]
    },
    {
      "cell_type": "code",
      "execution_count": null,
      "metadata": {
        "collapsed": false
      },
      "outputs": [],
      "source": [
        "import matplotlib.pyplot as plt\n\nfig, ax1 = plt.subplots()\ncore_scale_factor = 0.5\n\nsampling_point.add_results_to_plot(\n    ax1,\n    [\"s13\", \"s23\"],\n    [Spot.bottom, Spot.top],\n    core_scale_factor,\n    \"Out-of-plane shear stresses\",\n    \"MPA\",\n)\nax1.legend()\nplt.rcParams[\"hatch.linewidth\"] = 0.2\nplt.rcParams[\"hatch.color\"] = \"silver\"\nsampling_point.add_ply_sequence_to_plot(ax1, core_scale_factor)"
      ]
    },
    {
      "cell_type": "markdown",
      "metadata": {},
      "source": [
        "Plot e12 and e2\n"
      ]
    },
    {
      "cell_type": "code",
      "execution_count": null,
      "metadata": {
        "collapsed": false
      },
      "outputs": [],
      "source": [
        "interfaces = [Spot.bottom, Spot.top]\ncore_scale_factor = 1.0\nindices = sampling_point.get_indices(interfaces)\noffsets = sampling_point.get_offsets_by_spots(interfaces, core_scale_factor)\ne12 = sampling_point.e12[indices]\ne2 = sampling_point.e2[indices]\n\nfig, ax1 = plt.subplots()\nplt.rcParams[\"hatch.linewidth\"] = 0.2\nplt.rcParams[\"hatch.color\"] = \"silver\"\nline = ax1.plot(e12, offsets, label=\"e12\")\nline = ax1.plot(e2, offsets, label=\"e2\")\nax1.set_yticks([])\nax1.legend()\nax1.set_title(\"e12 and e2\")"
      ]
    },
    {
      "cell_type": "markdown",
      "metadata": {},
      "source": [
        "Sample another element\n======================\n\nThe element id of the sampling point can be easily changed.\n"
      ]
    },
    {
      "cell_type": "code",
      "execution_count": null,
      "metadata": {
        "collapsed": false
      },
      "outputs": [],
      "source": [
        "sampling_point.element_id = 4\nfig, axes = sampling_point.get_result_plots(\n    strain_components=[],  # do not plot strains\n    core_scale_factor=0.1,\n    spots=[Spot.bottom, Spot.top],\n    show_failure_modes=True,\n)\nfig.set_figheight(8)\nfig.set_figwidth(12)"
      ]
    }
  ],
  "metadata": {
    "kernelspec": {
      "display_name": "Python 3",
      "language": "python",
      "name": "python3"
    },
    "language_info": {
      "codemirror_mode": {
        "name": "ipython",
        "version": 3
      },
      "file_extension": ".py",
      "mimetype": "text/x-python",
      "name": "python",
      "nbconvert_exporter": "python",
      "pygments_lexer": "ipython3",
      "version": "3.9.16"
    }
  },
  "nbformat": 4,
  "nbformat_minor": 0
}