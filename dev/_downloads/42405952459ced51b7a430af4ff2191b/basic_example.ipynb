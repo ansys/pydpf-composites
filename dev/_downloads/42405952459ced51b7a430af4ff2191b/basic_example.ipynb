{
  "cells": [
    {
      "cell_type": "code",
      "execution_count": null,
      "metadata": {
        "collapsed": false
      },
      "outputs": [],
      "source": [
        "%matplotlib inline"
      ]
    },
    {
      "cell_type": "markdown",
      "metadata": {},
      "source": [
        "Basic example of setting up a composite failure workflow. {#basic_example}\n=========================================================\n\nThis example shows how to connect the different dpf operators that are\nneeded to evaluate composite failure criteria. For simple use cases it\nis preferable to use the composite failure operator\n(`sphx_glr_examples_gallery_examples_failure_operator_example.py`{.interpreted-text\nrole=\"ref\"}) or the composite sampling point operator\n(`sphx_glr_examples_gallery_examples_sampling_point_operator_example.py`{.interpreted-text\nrole=\"ref\"}). The\n`sphx_glr_examples_gallery_examples_filter_composite_data_example.py`{.interpreted-text\nrole=\"ref\"} example shows how helper functions can be used to obtain\ncomposite result data.\n"
      ]
    },
    {
      "cell_type": "markdown",
      "metadata": {},
      "source": [
        "Load ansys libraries\n"
      ]
    },
    {
      "cell_type": "code",
      "execution_count": null,
      "metadata": {
        "collapsed": false
      },
      "outputs": [],
      "source": [
        "import ansys.dpf.core as dpf\n\nfrom ansys.dpf.composites.example_helper.example_helper import (\n    connect_to_or_start_server,\n    get_continuous_fiber_example_files,\n)\nfrom ansys.dpf.composites.failure_criteria import (\n    CombinedFailureCriterion,\n    CoreFailureCriterion,\n    CuntzeCriterion,\n    HashinCriterion,\n    HoffmanCriterion,\n    MaxStrainCriterion,\n    MaxStressCriterion,\n    TsaiHillCriterion,\n    TsaiWuCriterion,\n    VonMisesCriterion,\n)\n\n\ndef get_combined_failure_criterion() -> CombinedFailureCriterion:\n    max_strain = MaxStrainCriterion()\n    max_stress = MaxStressCriterion()\n    tsai_hill = TsaiHillCriterion()\n    tsai_wu = TsaiWuCriterion()\n    hoffman = HoffmanCriterion()\n    hashin = HashinCriterion()\n    cuntze = CuntzeCriterion()\n    core_failure = CoreFailureCriterion()\n    von_mises_strain_only = VonMisesCriterion(vme=True, vms=False)\n\n    return CombinedFailureCriterion(\n        name=\"My Failure Criteria\",\n        failure_criteria=[\n            max_strain,\n            max_stress,\n            tsai_hill,\n            tsai_wu,\n            hoffman,\n            hashin,\n            cuntze,\n            core_failure,\n            von_mises_strain_only,\n        ],\n    )\n\n\nserver_context = connect_to_or_start_server()\ncomposite_files_on_server = get_continuous_fiber_example_files(server_context, \"shell\")"
      ]
    },
    {
      "cell_type": "code",
      "execution_count": null,
      "metadata": {
        "collapsed": false
      },
      "outputs": [],
      "source": [
        "model = dpf.Model(composite_files_on_server.rst)\nrst_data_source = dpf.DataSources(composite_files_on_server.rst)\n\neng_data_source = dpf.DataSources()\neng_data_source.add_file_path(composite_files_on_server.engineering_data, \"EngineeringData\")\n\ncomposite_definitions_source = dpf.DataSources()\ncomposite_definitions_source.add_file_path(\n    composite_files_on_server.composite[\"shell\"].definition, \"CompositeDefinitions\"\n)"
      ]
    },
    {
      "cell_type": "markdown",
      "metadata": {},
      "source": [
        "Setup Mesh Provider\n"
      ]
    },
    {
      "cell_type": "code",
      "execution_count": null,
      "metadata": {
        "collapsed": false
      },
      "outputs": [],
      "source": [
        "mesh_provider = model.metadata.mesh_provider"
      ]
    },
    {
      "cell_type": "markdown",
      "metadata": {},
      "source": [
        "Setup Material Provider The material support provider takes care of\nmapping the materials in the rst file to the materials in the composite\ndefinitions. The material support contains all the materials from the\nrst file.\n"
      ]
    },
    {
      "cell_type": "code",
      "execution_count": null,
      "metadata": {
        "collapsed": false
      },
      "outputs": [],
      "source": [
        "material_support_provider = dpf.Operator(\"support_provider\")\nmaterial_support_provider.inputs.property(\"mat\")\nmaterial_support_provider.inputs.data_sources(rst_data_source)"
      ]
    },
    {
      "cell_type": "markdown",
      "metadata": {},
      "source": [
        "Get Result Info This is needed provides the unit system from the rst\nfile\n"
      ]
    },
    {
      "cell_type": "code",
      "execution_count": null,
      "metadata": {
        "collapsed": false
      },
      "outputs": [],
      "source": [
        "result_info_provider = dpf.Operator(\"ResultInfoProvider\")\nresult_info_provider.inputs.data_sources(rst_data_source)"
      ]
    },
    {
      "cell_type": "markdown",
      "metadata": {},
      "source": [
        "Set up material provider Combines the material support the engineering\ndata xml file and the unit\\_system. It\\'s output can be used to evaluate\nmaterial properties\n"
      ]
    },
    {
      "cell_type": "code",
      "execution_count": null,
      "metadata": {
        "collapsed": false
      },
      "outputs": [],
      "source": [
        "material_provider = dpf.Operator(\"eng_data::ans_mat_material_provider\")\nmaterial_provider.inputs.data_sources = eng_data_source\nmaterial_provider.inputs.unit_system_or_result_info(result_info_provider.outputs.result_info)\nmaterial_provider.inputs.abstract_field_support(\n    material_support_provider.outputs.abstract_field_support\n)\nmaterial_provider.inputs.Engineering_data_file(eng_data_source)"
      ]
    },
    {
      "cell_type": "markdown",
      "metadata": {},
      "source": [
        "Set up the layup provider Read the composite definition file and\nenriches the mesh with the composite layup information.\n"
      ]
    },
    {
      "cell_type": "code",
      "execution_count": null,
      "metadata": {
        "collapsed": false
      },
      "outputs": [],
      "source": [
        "layup_provider = dpf.Operator(\"composite::layup_provider_operator\")\nlayup_provider.inputs.mesh(mesh_provider.outputs.mesh)\nlayup_provider.inputs.data_sources(composite_definitions_source)\nlayup_provider.inputs.abstract_field_support(\n    material_support_provider.outputs.abstract_field_support\n)\nlayup_provider.inputs.unit_system_or_result_info(result_info_provider.outputs.result_info)\nlayup_provider.run()"
      ]
    },
    {
      "cell_type": "markdown",
      "metadata": {},
      "source": [
        "Setup the result operators: strains and stresses Rotate to global is\nFalse because the post-processing engine expects the results to be in\nthe element coordinate system ( material coordinate system)\n"
      ]
    },
    {
      "cell_type": "code",
      "execution_count": null,
      "metadata": {
        "collapsed": false
      },
      "outputs": [],
      "source": [
        "strain_operator = dpf.Operator(\"EPEL\")\nstrain_operator.inputs.data_sources(rst_data_source)\nstrain_operator.inputs.bool_rotate_to_global(False)\n\nstress_operator = dpf.Operator(\"S\")\nstress_operator.inputs.data_sources(rst_data_source)\nstress_operator.inputs.bool_rotate_to_global(False)"
      ]
    },
    {
      "cell_type": "markdown",
      "metadata": {},
      "source": [
        "Setup the failure evaluator. Combines the results and evaluates all the\nfailure criteria. The output contains the maximum failure criteria for\neach integration point.\n"
      ]
    },
    {
      "cell_type": "code",
      "execution_count": null,
      "metadata": {
        "collapsed": false
      },
      "outputs": [],
      "source": [
        "failure_criteria_definition = get_combined_failure_criterion()\n\nfailure_evaluator = dpf.Operator(\"composite::multiple_failure_criteria_operator\")\nfailure_evaluator.inputs.configuration(failure_criteria_definition.to_json())\nfailure_evaluator.inputs.materials_container(material_provider.outputs)\nfailure_evaluator.inputs.strains(strain_operator.outputs.fields_container)\nfailure_evaluator.inputs.stresses(stress_operator.outputs.fields_container)\nfailure_evaluator.inputs.mesh(mesh_provider.outputs.mesh)"
      ]
    },
    {
      "cell_type": "markdown",
      "metadata": {},
      "source": [
        "Uses the output of the multiple\\_failure\\_criteria\\_operator to compute\nthe min and max failure criteria for each element\n"
      ]
    },
    {
      "cell_type": "code",
      "execution_count": null,
      "metadata": {
        "collapsed": false
      },
      "outputs": [],
      "source": [
        "minmax_per_element = dpf.Operator(\"composite::minmax_per_element_operator\")\nminmax_per_element.inputs.fields_container(failure_evaluator.outputs.fields_container)\nminmax_per_element.inputs.mesh(mesh_provider.outputs.mesh)\nminmax_per_element.inputs.abstract_field_support(\n    material_support_provider.outputs.abstract_field_support\n)\n\noutput = minmax_per_element.outputs.field_max()"
      ]
    },
    {
      "cell_type": "markdown",
      "metadata": {},
      "source": [
        "Plot the max and the minimum value for each value\n"
      ]
    },
    {
      "cell_type": "code",
      "execution_count": null,
      "metadata": {
        "collapsed": false
      },
      "outputs": [],
      "source": [
        "value_index = 1\nmodel.metadata.meshed_region.plot(output[value_index])"
      ]
    }
  ],
  "metadata": {
    "kernelspec": {
      "display_name": "Python 3",
      "language": "python",
      "name": "python3"
    },
    "language_info": {
      "codemirror_mode": {
        "name": "ipython",
        "version": 3
      },
      "file_extension": ".py",
      "mimetype": "text/x-python",
      "name": "python",
      "nbconvert_exporter": "python",
      "pygments_lexer": "ipython3",
      "version": "3.9.16"
    }
  },
  "nbformat": 4,
  "nbformat_minor": 0
}