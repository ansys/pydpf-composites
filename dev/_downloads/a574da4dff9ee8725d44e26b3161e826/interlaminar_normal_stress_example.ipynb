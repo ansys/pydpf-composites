{
  "cells": [
    {
      "cell_type": "code",
      "execution_count": null,
      "metadata": {
        "collapsed": false
      },
      "outputs": [],
      "source": [
        "%matplotlib inline"
      ]
    },
    {
      "cell_type": "markdown",
      "metadata": {},
      "source": [
        "Interlaminar Normal Stresses in Layered Shells {#interlaminar_normal_stress_example}\n==============================================\n\nThis example shows how to connect the different dpf operators that are\nneeded to evaluate the interlaminar normal stresses, in short INS, in\nlayered shells. For simple use cases it is preferable to use the\ncomposite failure operator\n(`sphx_glr_examples_gallery_examples_failure_operator_example.py`{.interpreted-text\nrole=\"ref\"}) or the composite sampling point operator\n(`sphx_glr_examples_gallery_examples_sampling_point_operator_example.py`{.interpreted-text\nrole=\"ref\"}). Note, the INS are computed automatically in these\nworkflows if required. For instance if a 3D failure criterion is\nactivated. The\n`sphx_glr_examples_gallery_examples_filter_composite_data_example.py`{.interpreted-text\nrole=\"ref\"} example shows how helper functions can be used to obtain\ncomposite result data.\n\nINS are typically not available if layered shell elements are used. The\nINS operator recomputes s3 based on the laminate strains, the\ngeometrical curvature and the lay-up.\n\nThe input of the INS operator are strains, stresses, material data, and\nlay-up data. Note, the INS operator fills the results directly into the\nstress field.\n"
      ]
    },
    {
      "cell_type": "markdown",
      "metadata": {},
      "source": [
        "Load Ansys libraries\n"
      ]
    },
    {
      "cell_type": "code",
      "execution_count": null,
      "metadata": {
        "collapsed": false
      },
      "outputs": [],
      "source": [
        "import ansys.dpf.core as dpf\n\nfrom ansys.dpf.composites import Spot, get_element_info_provider, get_selected_indices\nfrom ansys.dpf.composites.add_layup_info_to_mesh import (\n    add_layup_info_to_mesh,\n    get_composites_data_sources,\n)\nfrom ansys.dpf.composites.enums import Sym3x3TensorComponent\nfrom ansys.dpf.composites.example_helper.example_helper import (\n    connect_to_or_start_server,\n    get_continuous_fiber_example_files,\n)\nfrom ansys.dpf.composites.layup_info import AnalysisPlyInfoProvider, get_all_analysis_ply_names"
      ]
    },
    {
      "cell_type": "markdown",
      "metadata": {},
      "source": [
        "Start Server and upload files\n=============================\n"
      ]
    },
    {
      "cell_type": "code",
      "execution_count": null,
      "metadata": {
        "collapsed": false
      },
      "outputs": [],
      "source": [
        "server_context = connect_to_or_start_server()\ncomposite_files_on_server = get_continuous_fiber_example_files(server_context, \"ins\")"
      ]
    },
    {
      "cell_type": "markdown",
      "metadata": {},
      "source": [
        "Configure data sources\n======================\n"
      ]
    },
    {
      "cell_type": "code",
      "execution_count": null,
      "metadata": {
        "collapsed": false
      },
      "outputs": [],
      "source": [
        "model = dpf.Model(composite_files_on_server.rst)\nrst_data_source = dpf.DataSources(composite_files_on_server.rst)\n\neng_data_source = dpf.DataSources()\neng_data_source.add_file_path(composite_files_on_server.engineering_data, \"EngineeringData\")\n\ncomposite_definitions_source = dpf.DataSources()\ncomposite_definitions_source.add_file_path(\n    composite_files_on_server.composite_definitions, \"CompositeDefinitions\"\n)"
      ]
    },
    {
      "cell_type": "markdown",
      "metadata": {},
      "source": [
        "Setup Data Provider\n===================\n\nMesh provider, material and lay-up provider\n"
      ]
    },
    {
      "cell_type": "code",
      "execution_count": null,
      "metadata": {
        "collapsed": false
      },
      "outputs": [],
      "source": [
        "mesh_provider = model.metadata.mesh_provider\n\ncomposites_data_sources = get_composites_data_sources(composite_files_on_server)\nlayup_operators = add_layup_info_to_mesh(\n    mesh=mesh_provider.outputs.mesh(), data_sources=composites_data_sources\n)\n\nlayup_provider = layup_operators.layup_provider\nmaterial_provider = layup_operators.material_operators.material_provider"
      ]
    },
    {
      "cell_type": "markdown",
      "metadata": {},
      "source": [
        "Inputs from the result files\n============================\n\nRotate to global is False because the post-processing engine expects the\nresults to be in the element coordinate system ( material coordinate\nsystem)\n"
      ]
    },
    {
      "cell_type": "code",
      "execution_count": null,
      "metadata": {
        "collapsed": false
      },
      "outputs": [],
      "source": [
        "strain_operator = dpf.Operator(\"EPEL\")\nstrain_operator.inputs.data_sources(rst_data_source)\nstrain_operator.inputs.bool_rotate_to_global(False)\n\nstress_operator = dpf.Operator(\"S\")\nstress_operator.inputs.data_sources(rst_data_source)\nstress_operator.inputs.bool_rotate_to_global(False)"
      ]
    },
    {
      "cell_type": "markdown",
      "metadata": {},
      "source": [
        "Interlaminar Normal Stress Operator\n===================================\n\nConfigure the INS operator and set all inputs. The s3 stresses are\nevaluated and stored in the stress container on run\n"
      ]
    },
    {
      "cell_type": "code",
      "execution_count": null,
      "metadata": {
        "collapsed": false
      },
      "outputs": [],
      "source": [
        "ins_operator = dpf.Operator(\"composite::interlaminar_normal_stress_operator\")\nins_operator.inputs.materials_container(material_provider.outputs)\nins_operator.inputs.mesh(mesh_provider.outputs.mesh)\nins_operator.inputs.mesh_properties_container(layup_provider.outputs.mesh_properties_container)\n# pass inputs by pin because the input name is not set yet.\n# Will be improved in sever version 2023 R2\nins_operator.connect(24, layup_provider.outputs.fields_container)\nins_operator.connect(0, strain_operator.outputs.fields_container)\nins_operator.connect(1, stress_operator.outputs.fields_container)\n\n# call run because ins operator has not output\nins_operator.run()"
      ]
    },
    {
      "cell_type": "markdown",
      "metadata": {},
      "source": [
        "Plot s3 stresses\n================\n\nPrepare data for the plotting\n"
      ]
    },
    {
      "cell_type": "code",
      "execution_count": null,
      "metadata": {
        "collapsed": false
      },
      "outputs": [],
      "source": [
        "stress_field = stress_operator.outputs.fields_container()[0]\nelement_info_provider = get_element_info_provider(mesh_provider.outputs.mesh(), rst_data_source)"
      ]
    },
    {
      "cell_type": "markdown",
      "metadata": {},
      "source": [
        "Plot max s3 of each element\n===========================\n"
      ]
    },
    {
      "cell_type": "code",
      "execution_count": null,
      "metadata": {
        "collapsed": false
      },
      "outputs": [],
      "source": [
        "s3_component = Sym3x3TensorComponent.tensor33\nmax_s3_field = dpf.field.Field(location=dpf.locations.elemental, nature=dpf.natures.scalar)\nwith max_s3_field.as_local_field() as local_max_s3_field:\n    element_ids = stress_field.scoping.ids\n    for element_id in element_ids:\n        stress_data = stress_field.get_entity_data_by_id(element_id)\n        element_info = element_info_provider.get_element_info(element_id)\n        assert element_info is not None\n        # select all stresses from bottom to top of node 0\n        selected_indices = get_selected_indices(element_info, nodes=[0])\n\n        # order is bottom, top, mid\n        s3 = stress_data[selected_indices, s3_component.value]\n\n        local_max_s3_field.append([max(s3)], element_id)\n\nmesh = mesh_provider.outputs.mesh()\nmesh.plot(max_s3_field)"
      ]
    },
    {
      "cell_type": "markdown",
      "metadata": {},
      "source": [
        "Plot s3 of a certain ply\n========================\n"
      ]
    },
    {
      "cell_type": "code",
      "execution_count": null,
      "metadata": {
        "collapsed": false
      },
      "outputs": [],
      "source": [
        "analysis_ply_name = get_all_analysis_ply_names(mesh_provider.outputs.mesh())\nselected_ply = \"P3L1__Ply.1\"\n\nply_info_provider = AnalysisPlyInfoProvider(mesh_provider.outputs.mesh(), selected_ply)\np8l1_ply_s3_field = dpf.field.Field(location=dpf.locations.elemental, nature=dpf.natures.scalar)\nwith p8l1_ply_s3_field.as_local_field() as p8l1_ply_s3_field:\n    element_ids = ply_info_provider.ply_element_ids()\n    for element_id in element_ids:\n        stress_data = stress_field.get_entity_data_by_id(element_id)\n        element_info = element_info_provider.get_element_info(element_id)\n        assert element_info is not None\n        # select all stresses from bottom to top of node 0\n        layer_index = ply_info_provider.get_layer_index_by_element_id(element_id)\n        selected_indices = get_selected_indices(\n            element_info, layers=[layer_index], nodes=[0], spots=[Spot.MIDDLE]\n        )\n\n        # order is bottom, top, mid\n        s3 = stress_data[selected_indices, s3_component.value]\n\n        p8l1_ply_s3_field.append(s3, element_id)\n\nmesh.plot(p8l1_ply_s3_field)"
      ]
    }
  ],
  "metadata": {
    "kernelspec": {
      "display_name": "Python 3",
      "language": "python",
      "name": "python3"
    },
    "language_info": {
      "codemirror_mode": {
        "name": "ipython",
        "version": 3
      },
      "file_extension": ".py",
      "mimetype": "text/x-python",
      "name": "python",
      "nbconvert_exporter": "python",
      "pygments_lexer": "ipython3",
      "version": "3.9.16"
    }
  },
  "nbformat": 4,
  "nbformat_minor": 0
}