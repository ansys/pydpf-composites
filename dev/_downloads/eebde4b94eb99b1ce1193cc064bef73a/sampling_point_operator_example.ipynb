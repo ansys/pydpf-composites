{
  "cells": [
    {
      "cell_type": "code",
      "execution_count": null,
      "metadata": {
        "collapsed": false
      },
      "outputs": [],
      "source": [
        "%matplotlib inline"
      ]
    },
    {
      "cell_type": "markdown",
      "metadata": {},
      "source": [
        "Basic example for a Sampling Point Operator {#sampling_point_operator_example}\n===========================================\n\nSampling Point Operator returns the through-the-thickness results of a\nlayered element and lay-up information (ply material, thickness). This\nbasic example shows how the configure the operator and how to access the\ndata.\n\nThe\n`sphx_glr_examples_gallery_examples_sampling_point_example.py`{.interpreted-text\nrole=\"ref\"} shows how the sampling point data can be visualized.\n"
      ]
    },
    {
      "cell_type": "markdown",
      "metadata": {},
      "source": [
        "Load ansys libraries\n"
      ]
    },
    {
      "cell_type": "code",
      "execution_count": null,
      "metadata": {
        "collapsed": false
      },
      "outputs": [],
      "source": [
        "import matplotlib.pyplot as plt\n\nfrom ansys.dpf.composites.composite_model import CompositeModel\nfrom ansys.dpf.composites.example_helper.example_helper import (\n    connect_to_or_start_server,\n    get_continuous_fiber_example_files,\n)\nfrom ansys.dpf.composites.failure_criteria import (\n    CombinedFailureCriterion,\n    CoreFailureCriterion,\n    MaxStrainCriterion,\n    MaxStressCriterion,\n    VonMisesCriterion,\n)\n\nserver_context = connect_to_or_start_server()\ncomposite_files_on_server = get_continuous_fiber_example_files(server_context, \"shell\")"
      ]
    },
    {
      "cell_type": "markdown",
      "metadata": {},
      "source": [
        "Definition of the combined failure criterion\n============================================\n"
      ]
    },
    {
      "cell_type": "code",
      "execution_count": null,
      "metadata": {
        "collapsed": false
      },
      "outputs": [],
      "source": [
        "def get_combined_failure_criterion() -> CombinedFailureCriterion:\n    max_strain = MaxStrainCriterion()\n    max_stress = MaxStressCriterion()\n    core_failure = CoreFailureCriterion()\n    von_mises_strain_only = VonMisesCriterion(vme=True, vms=False)\n\n    return CombinedFailureCriterion(\n        name=\"failure of all materials\",\n        failure_criteria=[max_strain, max_stress, core_failure, von_mises_strain_only],\n    )"
      ]
    },
    {
      "cell_type": "markdown",
      "metadata": {},
      "source": [
        "Start server\n"
      ]
    },
    {
      "cell_type": "code",
      "execution_count": null,
      "metadata": {
        "collapsed": false
      },
      "outputs": [],
      "source": [
        "server_context = connect_to_or_start_server()\ncomposite_files_on_server = get_continuous_fiber_example_files(server_context, \"shell\")"
      ]
    },
    {
      "cell_type": "markdown",
      "metadata": {},
      "source": [
        "Setup composite model\n"
      ]
    },
    {
      "cell_type": "code",
      "execution_count": null,
      "metadata": {
        "collapsed": false
      },
      "outputs": [],
      "source": [
        "composite_model = CompositeModel(composite_files_on_server, server_context.server)"
      ]
    },
    {
      "cell_type": "markdown",
      "metadata": {},
      "source": [
        "Create the sampling point\n"
      ]
    },
    {
      "cell_type": "code",
      "execution_count": null,
      "metadata": {
        "collapsed": false
      },
      "outputs": [],
      "source": [
        "sampling_point = composite_model.get_sampling_point(\n    combined_criteria=get_combined_failure_criterion(), element_id=3\n)"
      ]
    },
    {
      "cell_type": "markdown",
      "metadata": {},
      "source": [
        "Query results and plot them\n===========================\n"
      ]
    },
    {
      "cell_type": "code",
      "execution_count": null,
      "metadata": {
        "collapsed": false
      },
      "outputs": [],
      "source": [
        "results = sampling_point.results\n\nelement_label = results[0][\"element_label\"]\nfailure_values = results[0][\"results\"][\"failures\"][\"inverse_reserve_factor\"]\nfailure_modes = results[0][\"results\"][\"failures\"][\"failure_modes\"]\noffsets = results[0][\"results\"][\"offsets\"]\n\nfig, ax1 = plt.subplots()\nax1.plot(failure_values, offsets)\n\n# add failure modes in the middle of each ply\nfailure_modes_middle = failure_modes[1::3]\noffsets_middle = offsets[1::3]\nfailure_values_middle = failure_values[1::3]\nfor index, fm in enumerate(failure_modes_middle):\n    ax1.annotate(\n        fm,\n        xy=(failure_values_middle[index], offsets_middle[index]),\n        xytext=(failure_values_middle[index], offsets_middle[index]),\n    )\n\n# finalize the plot\nax1.set_title(f\"Combined failure criterion of element {element_label}\")\nax1.set_xlabel(\"Inverse Reserve Factor [-]\")\nax1.set_ylabel(\"z-Coordinate [length]\")"
      ]
    }
  ],
  "metadata": {
    "kernelspec": {
      "display_name": "Python 3",
      "language": "python",
      "name": "python3"
    },
    "language_info": {
      "codemirror_mode": {
        "name": "ipython",
        "version": 3
      },
      "file_extension": ".py",
      "mimetype": "text/x-python",
      "name": "python",
      "nbconvert_exporter": "python",
      "pygments_lexer": "ipython3",
      "version": "3.9.16"
    }
  },
  "nbformat": 4,
  "nbformat_minor": 0
}