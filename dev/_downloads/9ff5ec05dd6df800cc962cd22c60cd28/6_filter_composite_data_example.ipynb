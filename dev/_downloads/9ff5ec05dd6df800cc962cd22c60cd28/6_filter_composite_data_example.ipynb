{
  "cells": [
    {
      "cell_type": "code",
      "execution_count": null,
      "metadata": {
        "collapsed": false
      },
      "outputs": [],
      "source": [
        "%matplotlib inline"
      ]
    },
    {
      "cell_type": "markdown",
      "metadata": {},
      "source": [
        "Filter Result Data by Different Criteria {#filter_composite_data}\n========================================\n\nFilter strains and stresses by material, layer or analysis ply.\n\nThis example shows how to filter data by layer, spot and node as well as\nmaterial or analysis\\_ply id. This is example can be of help for custom\npost-processing of layered composites. Refer to\n`select_indices`{.interpreted-text role=\"ref\"} to learn more about how\nlayered result data is organized.\n"
      ]
    },
    {
      "cell_type": "markdown",
      "metadata": {},
      "source": [
        "Script\n======\n\nImport dependencies\n"
      ]
    },
    {
      "cell_type": "code",
      "execution_count": null,
      "metadata": {
        "collapsed": false
      },
      "outputs": [],
      "source": [
        "import ansys.dpf.core as dpf\nimport numpy as np\n\nfrom ansys.dpf.composites.composite_model import CompositeModel\nfrom ansys.dpf.composites.constants import Spot, Sym3x3TensorComponent\nfrom ansys.dpf.composites.example_helper import get_continuous_fiber_example_files\nfrom ansys.dpf.composites.layup_info import (\n    AnalysisPlyInfoProvider,\n    get_all_analysis_ply_names,\n    get_dpf_material_id_by_analyis_ply_map,\n)\nfrom ansys.dpf.composites.select_indices import (\n    get_selected_indices,\n    get_selected_indices_by_analysis_ply,\n    get_selected_indices_by_dpf_material_ids,\n)\nfrom ansys.dpf.composites.server_helpers import connect_to_or_start_server"
      ]
    },
    {
      "cell_type": "markdown",
      "metadata": {},
      "source": [
        "Start a server and get the examples files. This will copy the example\nfiles into the current working directory.\n"
      ]
    },
    {
      "cell_type": "code",
      "execution_count": null,
      "metadata": {
        "collapsed": false
      },
      "outputs": [],
      "source": [
        "server = connect_to_or_start_server()\ncomposite_files_on_server = get_continuous_fiber_example_files(server, \"shell\")"
      ]
    },
    {
      "cell_type": "markdown",
      "metadata": {},
      "source": [
        "Set up composite model\n"
      ]
    },
    {
      "cell_type": "code",
      "execution_count": null,
      "metadata": {
        "collapsed": false
      },
      "outputs": [],
      "source": [
        "composite_model = CompositeModel(composite_files_on_server, server)"
      ]
    },
    {
      "cell_type": "markdown",
      "metadata": {},
      "source": [
        "Get stress field\n"
      ]
    },
    {
      "cell_type": "code",
      "execution_count": null,
      "metadata": {
        "collapsed": false
      },
      "outputs": [],
      "source": [
        "stress_operator = composite_model.core_model.results.stress()\nstress_operator.inputs.bool_rotate_to_global(False)\nstress_field = stress_operator.get_output(pin=0, output_type=dpf.types.fields_container)[0]"
      ]
    },
    {
      "cell_type": "markdown",
      "metadata": {},
      "source": [
        "Get element infos for all the elements and show the first one as an\nexample\n"
      ]
    },
    {
      "cell_type": "code",
      "execution_count": null,
      "metadata": {
        "collapsed": false
      },
      "outputs": [],
      "source": [
        "element_ids = stress_field.scoping.ids\nelement_infos = [composite_model.get_element_info(element_id) for element_id in element_ids]\nelement_infos[0]"
      ]
    },
    {
      "cell_type": "markdown",
      "metadata": {},
      "source": [
        "Plot stress values in material direction for the top layer, first node\nand \\\"top\\\" spot\n"
      ]
    },
    {
      "cell_type": "code",
      "execution_count": null,
      "metadata": {
        "collapsed": false
      },
      "outputs": [],
      "source": [
        "component = Sym3x3TensorComponent.TENSOR11\nresult_field = dpf.field.Field(location=dpf.locations.elemental, nature=dpf.natures.scalar)\nwith result_field.as_local_field() as local_result_field:\n    element_ids = stress_field.scoping.ids\n    for element_id in element_ids:\n        stress_data = stress_field.get_entity_data_by_id(element_id)\n        element_info = composite_model.get_element_info(element_id)\n        assert element_info is not None\n        selected_indices = get_selected_indices(\n            element_info, layers=[element_info.n_layers - 1], nodes=[0], spots=[Spot.TOP]\n        )\n\n        value = stress_data[selected_indices][:, component]\n        local_result_field.append(value, element_id)\n\ncomposite_model.get_mesh().plot(result_field)"
      ]
    },
    {
      "cell_type": "markdown",
      "metadata": {},
      "source": [
        "List all the available analysis plies\n"
      ]
    },
    {
      "cell_type": "code",
      "execution_count": null,
      "metadata": {
        "collapsed": false
      },
      "outputs": [],
      "source": [
        "all_ply_names = get_all_analysis_ply_names(composite_model.get_mesh())\nall_ply_names"
      ]
    },
    {
      "cell_type": "markdown",
      "metadata": {},
      "source": [
        "Loop all elements that contain a given ply and plot the maximum stress\nvalue in material direction in that ply\n"
      ]
    },
    {
      "cell_type": "code",
      "execution_count": null,
      "metadata": {
        "collapsed": false
      },
      "outputs": [],
      "source": [
        "component = Sym3x3TensorComponent.TENSOR11\n\nanalysis_ply_info_provider = AnalysisPlyInfoProvider(\n    mesh=composite_model.get_mesh(), name=\"P1L1__ud_patch ns1\"\n)\nply_result_field = dpf.field.Field(location=dpf.locations.elemental, nature=dpf.natures.scalar)\nwith ply_result_field.as_local_field() as local_result_field:\n    element_ids = analysis_ply_info_provider.property_field.scoping.ids\n\n    for element_id in element_ids:\n        stress_data = stress_field.get_entity_data_by_id(element_id)\n        element_info = composite_model.get_element_info(element_id)\n        assert element_info is not None\n        selected_indices = get_selected_indices_by_analysis_ply(\n            analysis_ply_info_provider, element_info\n        )\n\n        value = np.max(stress_data[selected_indices][:, component])\n        local_result_field.append([value], element_id)\n\n\ncomposite_model.get_mesh().plot(ply_result_field)"
      ]
    },
    {
      "cell_type": "markdown",
      "metadata": {},
      "source": [
        "Loop all elements and get maximum stress in material direction for all\nplies that have the material with dpf\\_material\\_id. Note: It is\ncurrently not possible to get a dpf\\_material\\_id for a given material\nname. It is only possible to get the dpf\\_material\\_id from an analysis\nply.\n"
      ]
    },
    {
      "cell_type": "code",
      "execution_count": null,
      "metadata": {
        "collapsed": false
      },
      "outputs": [],
      "source": [
        "material_map = get_dpf_material_id_by_analyis_ply_map(\n    composite_model.get_mesh(), data_source_or_streams_provider=composite_model.data_sources.rst\n)\nud_material_id = material_map[\"P1L1__ud_patch ns1\"]\ncomponent = Sym3x3TensorComponent.TENSOR11\n\nmaterial_result_field = dpf.field.Field(location=dpf.locations.elemental, nature=dpf.natures.scalar)\nwith material_result_field.as_local_field() as local_result_field:\n    element_ids = analysis_ply_info_provider.property_field.scoping.ids\n\n    for element_id in element_ids:\n        stress_data = stress_field.get_entity_data_by_id(element_id)\n        element_info = composite_model.get_element_info(element_id)\n        assert element_info is not None\n\n        selected_indices = get_selected_indices_by_dpf_material_ids(element_info, [ud_material_id])\n\n        value = np.max(stress_data[selected_indices][:, component])\n        local_result_field.append([value], element_id)\n\ncomposite_model.get_mesh().plot(material_result_field)"
      ]
    }
  ],
  "metadata": {
    "kernelspec": {
      "display_name": "Python 3",
      "language": "python",
      "name": "python3"
    },
    "language_info": {
      "codemirror_mode": {
        "name": "ipython",
        "version": 3
      },
      "file_extension": ".py",
      "mimetype": "text/x-python",
      "name": "python",
      "nbconvert_exporter": "python",
      "pygments_lexer": "ipython3",
      "version": "3.9.16"
    }
  },
  "nbformat": 4,
  "nbformat_minor": 0
}