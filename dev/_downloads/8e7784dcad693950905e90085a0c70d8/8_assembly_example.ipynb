{
  "cells": [
    {
      "cell_type": "code",
      "execution_count": null,
      "metadata": {
        "collapsed": false
      },
      "outputs": [],
      "source": [
        "%matplotlib inline"
      ]
    },
    {
      "cell_type": "markdown",
      "metadata": {},
      "source": [
        "Post-process an Assembly {#assembly_example}\n========================\n\nPost-process an assembly with multiple composite parts.\n\nThis example shows how an assembly of a shell and solid composite model\ncan be post-processed. The\n`Composite Model <ansys.dpf.composites.CompositeModel>`{.interpreted-text\nrole=\"class\"} helps to operator on the individual parts and to access\nall the data.\n"
      ]
    },
    {
      "cell_type": "markdown",
      "metadata": {},
      "source": [
        "Script\n======\n\nLoad ansys libraries\n"
      ]
    },
    {
      "cell_type": "code",
      "execution_count": null,
      "metadata": {
        "collapsed": false
      },
      "outputs": [],
      "source": [
        "from ansys.dpf.composites.composite_model import CompositeModel\nfrom ansys.dpf.composites.connect_to_or_start_server import connect_to_or_start_server\nfrom ansys.dpf.composites.enums import FailureOutput\nfrom ansys.dpf.composites.example_helper.example_helper import get_continuous_fiber_example_files\nfrom ansys.dpf.composites.failure_criteria import CombinedFailureCriterion, MaxStressCriterion\n\nserver = connect_to_or_start_server()\ncomposite_files_on_server = get_continuous_fiber_example_files(server, \"assembly\")"
      ]
    },
    {
      "cell_type": "markdown",
      "metadata": {},
      "source": [
        "Definition of the combined failure criterion\n"
      ]
    },
    {
      "cell_type": "code",
      "execution_count": null,
      "metadata": {
        "collapsed": false
      },
      "outputs": [],
      "source": [
        "def get_combined_failure_criterion() -> CombinedFailureCriterion:\n    return CombinedFailureCriterion(\n        name=\"failure of all materials\",\n        failure_criteria=[MaxStressCriterion()],\n    )"
      ]
    },
    {
      "cell_type": "markdown",
      "metadata": {},
      "source": [
        "Setup composite model\n"
      ]
    },
    {
      "cell_type": "code",
      "execution_count": null,
      "metadata": {
        "collapsed": false
      },
      "outputs": [],
      "source": [
        "composite_model = CompositeModel(composite_files_on_server, server)\noutput_all_elements = composite_model.evaluate_failure_criteria(\n    combined_criteria=get_combined_failure_criterion()\n)"
      ]
    },
    {
      "cell_type": "markdown",
      "metadata": {},
      "source": [
        "Plot the max IRF per element\n"
      ]
    },
    {
      "cell_type": "code",
      "execution_count": null,
      "metadata": {
        "collapsed": false
      },
      "outputs": [],
      "source": [
        "irf_field = output_all_elements.get_field({\"failure_label\": FailureOutput.failure_value.value})\nirf_field.plot()"
      ]
    },
    {
      "cell_type": "markdown",
      "metadata": {},
      "source": [
        "In the assembly exist two composite definition, one with the label\n\\\"shell\\\" and one with the label \\\"solid\\\". To query the layup\nproperties we have to query the properties with the correct\ncomposite\\_definition\\_label. This example shows how to get ElementInfo\nfor all layered elements\n"
      ]
    },
    {
      "cell_type": "code",
      "execution_count": null,
      "metadata": {
        "collapsed": false
      },
      "outputs": [],
      "source": [
        "element_infos = []\nfor composite_label in composite_model.composite_definition_labels:\n    for element_id in composite_model.get_all_layered_element_ids_for_composite_definition_label(\n        composite_label\n    ):\n        element_infos.append(composite_model.get_element_info(element_id, composite_label))"
      ]
    }
  ],
  "metadata": {
    "kernelspec": {
      "display_name": "Python 3",
      "language": "python",
      "name": "python3"
    },
    "language_info": {
      "codemirror_mode": {
        "name": "ipython",
        "version": 3
      },
      "file_extension": ".py",
      "mimetype": "text/x-python",
      "name": "python",
      "nbconvert_exporter": "python",
      "pygments_lexer": "ipython3",
      "version": "3.9.16"
    }
  },
  "nbformat": 4,
  "nbformat_minor": 0
}