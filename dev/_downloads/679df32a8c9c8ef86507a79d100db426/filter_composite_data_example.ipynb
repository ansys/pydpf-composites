{
  "cells": [
    {
      "cell_type": "code",
      "execution_count": null,
      "metadata": {
        "collapsed": false
      },
      "outputs": [],
      "source": [
        "%matplotlib inline"
      ]
    },
    {
      "cell_type": "markdown",
      "metadata": {},
      "source": [
        "Filter result data by different criteria {#filter_composite_data}\n========================================\n\nFilter data by layer, spot and node as well as material or analysis\\_ply\nid. Refer to `select_indices`{.interpreted-text role=\"ref\"} to learn\nmore about how layered result data is organized.\n"
      ]
    },
    {
      "cell_type": "markdown",
      "metadata": {},
      "source": [
        "Import dependencies\n"
      ]
    },
    {
      "cell_type": "code",
      "execution_count": null,
      "metadata": {
        "collapsed": false
      },
      "outputs": [],
      "source": [
        "import ansys.dpf.core as dpf\nimport numpy as np\n\nfrom ansys.dpf.composites import (\n    AnalysisPlyInfoProvider,\n    get_selected_indices,\n    get_selected_indices_by_analysis_ply,\n    get_selected_indices_by_dpf_material_ids,\n)\nfrom ansys.dpf.composites.composite_model import CompositeModel\nfrom ansys.dpf.composites.enums import Spot, Sym3x3TensorComponent\nfrom ansys.dpf.composites.example_helper.example_helper import (\n    connect_to_or_start_server,\n    get_continuous_fiber_example_files,\n)\nfrom ansys.dpf.composites.layup_info import (\n    get_all_analysis_ply_names,\n    get_dpf_material_id_by_analyis_ply_map,\n)"
      ]
    },
    {
      "cell_type": "markdown",
      "metadata": {},
      "source": [
        "Start server and load example files\n"
      ]
    },
    {
      "cell_type": "code",
      "execution_count": null,
      "metadata": {
        "collapsed": false
      },
      "outputs": [],
      "source": [
        "server_context = connect_to_or_start_server()\ncomposite_files_on_server = get_continuous_fiber_example_files(server_context, \"shell\")"
      ]
    },
    {
      "cell_type": "markdown",
      "metadata": {},
      "source": [
        "Setup composite model\n"
      ]
    },
    {
      "cell_type": "code",
      "execution_count": null,
      "metadata": {
        "collapsed": false
      },
      "outputs": [],
      "source": [
        "composite_model = CompositeModel(composite_files_on_server, server_context.server)"
      ]
    },
    {
      "cell_type": "markdown",
      "metadata": {},
      "source": [
        "Get example stress field\n"
      ]
    },
    {
      "cell_type": "code",
      "execution_count": null,
      "metadata": {
        "collapsed": false
      },
      "outputs": [],
      "source": [
        "stress_operator = dpf.Operator(\"S\")\nstress_operator.inputs.data_sources(composite_model.data_sources.rst)\nstress_operator.inputs.bool_rotate_to_global(False)\nstress_field = stress_operator.get_output(pin=0, output_type=dpf.types.fields_container)[0]"
      ]
    },
    {
      "cell_type": "markdown",
      "metadata": {},
      "source": [
        "Get element infos for all the elements and show the first one as an\nexample\n"
      ]
    },
    {
      "cell_type": "code",
      "execution_count": null,
      "metadata": {
        "collapsed": false
      },
      "outputs": [],
      "source": [
        "element_ids = stress_field.scoping.ids\nelement_infos = [composite_model.get_element_info(element_id) for element_id in element_ids]\n\nelement_infos[0]"
      ]
    },
    {
      "cell_type": "markdown",
      "metadata": {},
      "source": [
        "Plot stress values in material direction for the top layer, first node\nand \\\"top\\\" spot\n"
      ]
    },
    {
      "cell_type": "code",
      "execution_count": null,
      "metadata": {
        "collapsed": false
      },
      "outputs": [],
      "source": [
        "component = Sym3x3TensorComponent.tensor11\nresult_field = dpf.field.Field(location=dpf.locations.elemental, nature=dpf.natures.scalar)\nwith result_field.as_local_field() as local_result_field:\n    element_ids = stress_field.scoping.ids\n    for element_id in element_ids:\n        stress_data = stress_field.get_entity_data_by_id(element_id)\n        element_info = composite_model.get_element_info(element_id)\n        assert element_info is not None\n        selected_indices = get_selected_indices(\n            element_info, layers=[element_info.n_layers - 1], nodes=[0], spots=[Spot.TOP]\n        )\n\n        value = stress_data[selected_indices][:, component.value]\n        local_result_field.append(value, element_id)\n\ncomposite_model.get_mesh().plot(result_field)"
      ]
    },
    {
      "cell_type": "markdown",
      "metadata": {},
      "source": [
        "List all the available analysis plies\n"
      ]
    },
    {
      "cell_type": "code",
      "execution_count": null,
      "metadata": {
        "collapsed": false
      },
      "outputs": [],
      "source": [
        "all_ply_names = get_all_analysis_ply_names(composite_model.get_mesh())\nall_ply_names"
      ]
    },
    {
      "cell_type": "markdown",
      "metadata": {},
      "source": [
        "Loop all elements that contain a given ply and plot the maximum stress\nvalue in material direction in that ply\n"
      ]
    },
    {
      "cell_type": "code",
      "execution_count": null,
      "metadata": {
        "collapsed": false
      },
      "outputs": [],
      "source": [
        "component = Sym3x3TensorComponent.tensor11\n\nanalysis_ply_info_provider = AnalysisPlyInfoProvider(\n    mesh=composite_model.get_mesh(), name=\"P1L1__ud_patch ns1\"\n)\nply_result_field = dpf.field.Field(location=dpf.locations.elemental, nature=dpf.natures.scalar)\nwith ply_result_field.as_local_field() as local_result_field:\n    element_ids = analysis_ply_info_provider.property_field.scoping.ids\n\n    for element_id in element_ids:\n        stress_data = stress_field.get_entity_data_by_id(element_id)\n        element_info = composite_model.get_element_info(element_id)\n        assert element_info is not None\n        selected_indices = get_selected_indices_by_analysis_ply(\n            analysis_ply_info_provider, element_info\n        )\n\n        value = np.max(stress_data[selected_indices][:, component.value])\n        local_result_field.append([value], element_id)\n\n\ncomposite_model.get_mesh().plot(ply_result_field)"
      ]
    },
    {
      "cell_type": "markdown",
      "metadata": {},
      "source": [
        "Loop all elements and get maximum stress in material direction for all\nplies that have the material with dpf\\_material\\_id. Note: It is\ncurrently not possible to get a dpf\\_material\\_id for a given material\nname. It is only possible to get the dpf\\_material\\_id from an analysis\nply\n"
      ]
    },
    {
      "cell_type": "code",
      "execution_count": null,
      "metadata": {
        "collapsed": false
      },
      "outputs": [],
      "source": [
        "material_map = get_dpf_material_id_by_analyis_ply_map(\n    composite_model.get_mesh(), data_source_or_streams_provider=composite_model.data_sources.rst\n)\nud_material_id = material_map[\"P1L1__ud_patch ns1\"]\ncomponent = Sym3x3TensorComponent.tensor11\n\nmaterial_result_field = dpf.field.Field(location=dpf.locations.elemental, nature=dpf.natures.scalar)\nwith material_result_field.as_local_field() as local_result_field:\n    element_ids = analysis_ply_info_provider.property_field.scoping.ids\n\n    for element_id in element_ids:\n        stress_data = stress_field.get_entity_data_by_id(element_id)\n        element_info = composite_model.get_element_info(element_id)\n        assert element_info is not None\n\n        selected_indices = get_selected_indices_by_dpf_material_ids(element_info, [ud_material_id])\n\n        value = np.max(stress_data[selected_indices][:, component.value])\n        local_result_field.append([value], element_id)\n\n\ncomposite_model.get_mesh().plot(material_result_field)"
      ]
    }
  ],
  "metadata": {
    "kernelspec": {
      "display_name": "Python 3",
      "language": "python",
      "name": "python3"
    },
    "language_info": {
      "codemirror_mode": {
        "name": "ipython",
        "version": 3
      },
      "file_extension": ".py",
      "mimetype": "text/x-python",
      "name": "python",
      "nbconvert_exporter": "python",
      "pygments_lexer": "ipython3",
      "version": "3.9.16"
    }
  },
  "nbformat": 4,
  "nbformat_minor": 0
}