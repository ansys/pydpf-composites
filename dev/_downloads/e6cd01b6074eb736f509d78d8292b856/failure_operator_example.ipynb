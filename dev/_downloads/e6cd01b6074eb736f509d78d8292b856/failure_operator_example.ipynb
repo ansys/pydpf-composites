{
  "cells": [
    {
      "cell_type": "code",
      "execution_count": null,
      "metadata": {
        "collapsed": false
      },
      "outputs": [],
      "source": [
        "%matplotlib inline"
      ]
    },
    {
      "cell_type": "markdown",
      "metadata": {},
      "source": [
        "Composite failure operator {#failure_operator_example}\n==========================\n\nThis operator computes the minimum and maximum failure values and\nfailure modes of a combined failure criterion. A combined failure\ncriterion is a selection of failure criteria such as Puck, Tsai-Wu, Face\nSheet Wrinkling\\...\n\nThe combined failure criterion allows you to assess different type of\nmaterials and failure modes at once. The scoping enables to evaluate of\nthe min and max failure per element, or to select a list of materials or\nplies.\n"
      ]
    },
    {
      "cell_type": "markdown",
      "metadata": {},
      "source": [
        "Load ansys libraries\n"
      ]
    },
    {
      "cell_type": "code",
      "execution_count": null,
      "metadata": {
        "collapsed": false
      },
      "outputs": [],
      "source": [
        "import ansys.dpf.core as dpf\n\nfrom ansys.dpf.composites import ResultDefinition\nfrom ansys.dpf.composites.example_helper.example_helper import (\n    connect_to_or_start_server,\n    get_continuous_fiber_example_files,\n)\nfrom ansys.dpf.composites.failure_criteria import (\n    CombinedFailureCriterion,\n    CoreFailureCriterion,\n    MaxStrainCriterion,\n    MaxStressCriterion,\n    VonMisesCriterion,\n)\n\nserver_context = connect_to_or_start_server()\ncomposite_files_on_server = get_continuous_fiber_example_files(server_context, \"shell\")"
      ]
    },
    {
      "cell_type": "markdown",
      "metadata": {},
      "source": [
        "Definition of the combined failure criterion\n"
      ]
    },
    {
      "cell_type": "code",
      "execution_count": null,
      "metadata": {
        "collapsed": false
      },
      "outputs": [],
      "source": [
        "def get_combined_failure_criterion() -> CombinedFailureCriterion:\n    max_strain = MaxStrainCriterion()\n    max_stress = MaxStressCriterion()\n    core_failure = CoreFailureCriterion()\n    von_mises_strain_only = VonMisesCriterion(vme=True, vms=False)\n\n    return CombinedFailureCriterion(\n        name=\"failure of all materials\",\n        failure_criteria=[max_strain, max_stress, core_failure, von_mises_strain_only],\n    )"
      ]
    },
    {
      "cell_type": "markdown",
      "metadata": {},
      "source": [
        "Define the result definition which is used to configure the\ncomposite\\_failure\\_operator Process all elements\n"
      ]
    },
    {
      "cell_type": "code",
      "execution_count": null,
      "metadata": {
        "collapsed": false
      },
      "outputs": [],
      "source": [
        "rd = ResultDefinition(\n    name=\"combined failure criteria\",\n    rst_files=[composite_files_on_server.rst],\n    material_files=[composite_files_on_server.engineering_data],\n    composite_definitions=[composite_files_on_server.composite_definitions],\n    combined_failure_criterion=get_combined_failure_criterion(),\n)\n\nfc_op = dpf.Operator(\"composite::composite_failure_operator\")\nfc_op.inputs.result_definition(rd.to_json())\n\noutput_all_elements = fc_op.outputs.fields_containerMax()"
      ]
    },
    {
      "cell_type": "markdown",
      "metadata": {},
      "source": [
        "Plot the max IRF per element\n"
      ]
    },
    {
      "cell_type": "code",
      "execution_count": null,
      "metadata": {
        "collapsed": false
      },
      "outputs": [],
      "source": [
        "failure_value_index = 1\nfailiure_mode_index = 0\n\nirf_field = output_all_elements[failure_value_index]\nirf_field.plot()"
      ]
    },
    {
      "cell_type": "markdown",
      "metadata": {},
      "source": [
        "Scope failure evaluation to certain\n"
      ]
    },
    {
      "cell_type": "code",
      "execution_count": null,
      "metadata": {
        "collapsed": false
      },
      "outputs": [],
      "source": [
        "rd.element_scope = [1, 3]\nfc_op.inputs.result_definition(rd.to_json())\noutput_two_elements = fc_op.outputs.fields_containerMax()\nirf_field = output_two_elements[failure_value_index]\nirf_field.plot()"
      ]
    },
    {
      "cell_type": "markdown",
      "metadata": {},
      "source": [
        "Scope by plies\n"
      ]
    },
    {
      "cell_type": "code",
      "execution_count": null,
      "metadata": {
        "collapsed": false
      },
      "outputs": [],
      "source": [
        "rd.element_scope = []\nrd.ply_scope = [\"P1L1__ud_patch ns1\"]\nfc_op.inputs.result_definition(rd.to_json())\noutput_woven_plies = fc_op.outputs.fields_containerMax()\nirf_field = output_woven_plies[failure_value_index]\nirf_field.plot()"
      ]
    }
  ],
  "metadata": {
    "kernelspec": {
      "display_name": "Python 3",
      "language": "python",
      "name": "python3"
    },
    "language_info": {
      "codemirror_mode": {
        "name": "ipython",
        "version": 3
      },
      "file_extension": ".py",
      "mimetype": "text/x-python",
      "name": "python",
      "nbconvert_exporter": "python",
      "pygments_lexer": "ipython3",
      "version": "3.9.16"
    }
  },
  "nbformat": 4,
  "nbformat_minor": 0
}