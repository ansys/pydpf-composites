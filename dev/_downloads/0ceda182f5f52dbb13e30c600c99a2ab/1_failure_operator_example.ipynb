{
  "cells": [
    {
      "cell_type": "code",
      "execution_count": null,
      "metadata": {
        "collapsed": false
      },
      "outputs": [],
      "source": [
        "%matplotlib inline"
      ]
    },
    {
      "cell_type": "markdown",
      "metadata": {},
      "source": [
        "Composite Failure Analysis {#failure_operator_example}\n==========================\n\nAnalyse a composite structure by a combined failure criterion.\n\nThe failure operator of DPF Composites computes the minimum and maximum\nfailure values and failure modes of a combined failure criterion. A\ncombined failure criterion is a selection of failure criteria such as\nPuck, Tsai-Wu or Face Sheet Wrinkling. Refer to\n`the Failure Criteria API Reference <failure_criteria>`{.interpreted-text\nrole=\"ref\"} to get the full list of failure criteria.\n\nThe `Combined Failure Criterion\n<.failure_criteria.CombinedFailureCriterion>`{.interpreted-text\nrole=\"class\"} allows you to assess different type of materials and\nfailure modes at once. The scoping enables to evaluate of the min and\nmax failure per element, or to select a list of materials or plies.\n"
      ]
    },
    {
      "cell_type": "markdown",
      "metadata": {},
      "source": [
        "Script\n======\n\nLoad ansys libraries, connect to the DPF server, and retrieve the\nexample files.\n"
      ]
    },
    {
      "cell_type": "code",
      "execution_count": null,
      "metadata": {
        "collapsed": false
      },
      "outputs": [],
      "source": [
        "from ansys.dpf.composites.composite_model import CompositeModel, CompositeScope\nfrom ansys.dpf.composites.connect_to_or_start_server import connect_to_or_start_server\nfrom ansys.dpf.composites.enums import FailureOutput\nfrom ansys.dpf.composites.example_helper.example_helper import get_continuous_fiber_example_files\nfrom ansys.dpf.composites.failure_criteria import (\n    CombinedFailureCriterion,\n    CoreFailureCriterion,\n    MaxStrainCriterion,\n    MaxStressCriterion,\n    VonMisesCriterion,\n)\n\nserver = connect_to_or_start_server()\ncomposite_files_on_server = get_continuous_fiber_example_files(server, \"shell\")"
      ]
    },
    {
      "cell_type": "markdown",
      "metadata": {},
      "source": [
        "Configure the combined failure criterion\n"
      ]
    },
    {
      "cell_type": "code",
      "execution_count": null,
      "metadata": {
        "collapsed": false
      },
      "outputs": [],
      "source": [
        "combined_fc = CombinedFailureCriterion(\n    name=\"failure of all materials\",\n    failure_criteria=[\n        MaxStrainCriterion(),\n        MaxStressCriterion(),\n        CoreFailureCriterion(),\n        VonMisesCriterion(vme=True, vms=False),\n    ],\n)"
      ]
    },
    {
      "cell_type": "markdown",
      "metadata": {},
      "source": [
        "Set up the composite model\n"
      ]
    },
    {
      "cell_type": "code",
      "execution_count": null,
      "metadata": {
        "collapsed": false
      },
      "outputs": [],
      "source": [
        "composite_model = CompositeModel(composite_files_on_server, server)"
      ]
    },
    {
      "cell_type": "markdown",
      "metadata": {},
      "source": [
        "Failure evaluation for the entire model\n"
      ]
    },
    {
      "cell_type": "code",
      "execution_count": null,
      "metadata": {
        "collapsed": false
      },
      "outputs": [],
      "source": [
        "output_all_elements = composite_model.evaluate_failure_criteria(\n    combined_criteria=combined_fc,\n)\nirf_field = output_all_elements.get_field({\"failure_label\": FailureOutput.failure_value.value})\nirf_field.plot()"
      ]
    },
    {
      "cell_type": "markdown",
      "metadata": {},
      "source": [
        "Scope failure evaluation to a certain element scope\n"
      ]
    },
    {
      "cell_type": "code",
      "execution_count": null,
      "metadata": {
        "collapsed": false
      },
      "outputs": [],
      "source": [
        "output_two_elements = composite_model.evaluate_failure_criteria(\n    combined_criteria=combined_fc,\n    composite_scope=CompositeScope(elements=[1, 3]),\n)\nirf_field = output_two_elements.get_field({\"failure_label\": FailureOutput.failure_value.value})\nirf_field.plot()"
      ]
    },
    {
      "cell_type": "markdown",
      "metadata": {},
      "source": [
        "Scope by plies\n"
      ]
    },
    {
      "cell_type": "code",
      "execution_count": null,
      "metadata": {
        "collapsed": false
      },
      "outputs": [],
      "source": [
        "output_woven_plies = composite_model.evaluate_failure_criteria(\n    combined_criteria=combined_fc,\n    composite_scope=CompositeScope(plies=[\"P1L1__ud_patch ns1\"]),\n)\nirf_field = output_woven_plies.get_field({\"failure_label\": FailureOutput.failure_value.value})\nirf_field.plot()"
      ]
    }
  ],
  "metadata": {
    "kernelspec": {
      "display_name": "Python 3",
      "language": "python",
      "name": "python3"
    },
    "language_info": {
      "codemirror_mode": {
        "name": "ipython",
        "version": 3
      },
      "file_extension": ".py",
      "mimetype": "text/x-python",
      "name": "python",
      "nbconvert_exporter": "python",
      "pygments_lexer": "ipython3",
      "version": "3.9.16"
    }
  },
  "nbformat": 4,
  "nbformat_minor": 0
}